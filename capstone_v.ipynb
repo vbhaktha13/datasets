{
 "cells": [
  {
   "attachments": {},
   "cell_type": "markdown",
   "metadata": {},
   "source": []
  },
  {
   "cell_type": "markdown",
   "metadata": {
    "colab_type": "text",
    "id": "M0tZo7c1Vama"
   },
   "source": [
    "## Table of Content\n",
    "\n",
    "1. [Import Libraries and create MYSQL connection](#section101)<br>\n",
    "2. [Data Extraction and Exploration](#section2)<br>\n",
    "    - 2.1 [Missing Data Imputation](#section201)<br>\n",
    "         - 2.1.1 [Missing State](#section202)<br>\n",
    "         - 2.1.2 [Missing Longitude and Latitude](#section203)<br>\n",
    "         - 2.1.3 [Missing Device_ID](#section204)<br>\n",
    "    - 2.2 [Anamoly Detection](#section205)<br>\n",
    "    - 2.3 [Merging Datasets - Phone, Gender and Events](#section206)<br>\n",
    "3. [Anamoly Detection](#section3)<br>\n",
    "4. [Plotting of Distributions](#section4)<br>\n",
    "    - 4.1 [Distribution of Users(device_id) across States](#section400)<br>\n",
    "    - 4.2 [Distribution of Users across Phone Brands(10 Most used Phone Brands)](#section401)<br>\n",
    "    - 4.3 [Distribution of Users across Gender](#section402)<br>\n",
    "    - 4.4 [Distribution of Users across Age Segments](#section403)<br>\n",
    "    - 4.5 [Distribution of Phone Brands(10 Most used Phone Brand): Age Segment, State, Gender](#section404)<br>\n",
    "    - 4.6 [Distribution of Gender for each State, Age Segment and Phone Brand(10 Most used Phone Brands)](#section405)<br>\n",
    "    - 4.7 [Distribution of Age Segments for each State, Gender and Phone Brand(10 Most used Phone Brands)](#section406)<br>\n",
    "    - 4.8 [Hourly distribution of Phone Calls](#section407)<br>\n",
    "    - 4.9 [Users on the Map using any suitable package](#section408)<br>\n",
    "5. [Conclusion](#section5)\n",
    "6. [CoreTeam](#sectioc6)"
   ]
  },
  {
   "cell_type": "markdown",
   "metadata": {
    "colab_type": "text",
    "id": "__ntzpN0Vamh"
   },
   "source": [
    "<a id=section101></a>\n",
    "### 1. Import Libraries and Create MySQL Connection"
   ]
  },
  {
   "cell_type": "code",
   "execution_count": null,
   "metadata": {
    "colab": {
     "base_uri": "https://localhost:8080/",
     "height": 191
    },
    "colab_type": "code",
    "executionInfo": {
     "elapsed": 8948,
     "status": "ok",
     "timestamp": 1584261430202,
     "user": {
      "displayName": "Pratik Barjatiya",
      "photoUrl": "https://lh3.googleusercontent.com/a-/AOh14GhnYhbpy4SpE-IWY1hbAvdK5Amz2GXyhYz8Us5uF6E=s64",
      "userId": "11284238611791898048"
     },
     "user_tz": -330
    },
    "id": "Eu17PcB_VqU0",
    "outputId": "7b4d439a-42d0-4070-e2ff-166ae58b11d8"
   },
   "outputs": [],
   "source": [
    "#!pip install mysql-connector"
   ]
  },
  {
   "cell_type": "code",
   "execution_count": 1,
   "metadata": {
    "colab": {},
    "colab_type": "code",
    "id": "5FKxSOo0Vamm"
   },
   "outputs": [],
   "source": [
    "import mysql.connector\n",
    "import pandas as pd\n",
    "import numpy as np\n",
    "import folium\n",
    "from folium.plugins import MarkerCluster\n",
    "from collections import Counter\n",
    "\n",
    "import pandas_profiling\n",
    "import matplotlib.pyplot as plt  \n",
    "import seaborn as sns            \n",
    "%matplotlib inline\n",
    "sns.set()"
   ]
  },
  {
   "cell_type": "markdown",
   "metadata": {
    "colab_type": "text",
    "id": "Klf74El-Vam2"
   },
   "source": [
    "#### Connection with the Database"
   ]
  },
  {
   "cell_type": "code",
   "execution_count": 2,
   "metadata": {
    "colab": {},
    "colab_type": "code",
    "id": "4mJYuXXMVam6"
   },
   "outputs": [],
   "source": [
    "# connection details\n",
    "myDB = mysql.connector.connect(\n",
    "   host=\"cpanel.insaid.co\",\n",
    "   user=\"student\",\n",
    "   passwd=\"student\",\n",
    "   database='Capstone1'\n",
    ")"
   ]
  },
  {
   "cell_type": "markdown",
   "metadata": {
    "colab_type": "text",
    "id": "Z1xjKaCVVanD"
   },
   "source": [
    "<a id=section2></a>\n",
    "### 2. Data Extraction and Exploration"
   ]
  },
  {
   "cell_type": "code",
   "execution_count": 3,
   "metadata": {
    "colab": {
     "base_uri": "https://localhost:8080/",
     "height": 69
    },
    "colab_type": "code",
    "executionInfo": {
     "elapsed": 1546,
     "status": "ok",
     "timestamp": 1584261441992,
     "user": {
      "displayName": "Pratik Barjatiya",
      "photoUrl": "https://lh3.googleusercontent.com/a-/AOh14GhnYhbpy4SpE-IWY1hbAvdK5Amz2GXyhYz8Us5uF6E=s64",
      "userId": "11284238611791898048"
     },
     "user_tz": -330
    },
    "id": "6MRNNN-SVanG",
    "outputId": "2464393c-76eb-49f7-9e8b-a257a6c2d168"
   },
   "outputs": [
    {
     "name": "stdout",
     "output_type": "stream",
     "text": [
      "('events_data',)\n",
      "('gender_age_train',)\n",
      "('phone_brand_device_model',)\n"
     ]
    }
   ],
   "source": [
    "# open cursor\n",
    "cursor = myDB.cursor()\n",
    "# query\n",
    "query = \"SELECT TABLE_NAME FROM INFORMATION_SCHEMA.TABLES WHERE table_schema ='Capstone1'\"\n",
    "# execute query\n",
    "cursor.execute(query)\n",
    "# fetch results\n",
    "result = cursor.fetchall()\n",
    "# print results\n",
    "for table in result:\n",
    "    print (table)\n",
    "\n",
    "# close connection\n",
    "#cnx.close()"
   ]
  },
  {
   "cell_type": "code",
   "execution_count": 4,
   "metadata": {
    "colab": {},
    "colab_type": "code",
    "id": "bC6E5FHcVanU"
   },
   "outputs": [],
   "source": [
    "cursor = myDB.cursor()"
   ]
  },
  {
   "cell_type": "markdown",
   "metadata": {
    "colab_type": "text",
    "id": "HU2-Q1trVand"
   },
   "source": [
    "#### Queries"
   ]
  },
  {
   "cell_type": "code",
   "execution_count": 5,
   "metadata": {
    "colab": {},
    "colab_type": "code",
    "id": "UrHNzsF9Vanf"
   },
   "outputs": [],
   "source": [
    "query_gender_age_train = (\"SELECT * FROM gender_age_train\")\n",
    "query_phone_brand_device_model = (\"SELECT * FROM phone_brand_device_model\")\n",
    "#query_events_data = (\"select * from events_data where state in ('TamilNadu', 'Manipur', 'Chandigarh', 'Tripura', 'UttarPradesh', 'ArunachalPradesh')\")"
   ]
  },
  {
   "cell_type": "code",
   "execution_count": 6,
   "metadata": {
    "colab": {},
    "colab_type": "code",
    "id": "3-WfYguGVann"
   },
   "outputs": [],
   "source": [
    "cursor.execute(query_gender_age_train)\n",
    "table_rows = cursor.fetchall()\n",
    "df_gender_age_train = pd.DataFrame(table_rows,columns = ['device_id','gender','age','group'])"
   ]
  },
  {
   "cell_type": "code",
   "execution_count": 7,
   "metadata": {
    "colab": {},
    "colab_type": "code",
    "id": "Mmt-AIHPVanv",
    "scrolled": true
   },
   "outputs": [],
   "source": [
    "cursor.execute(query_phone_brand_device_model)\n",
    "table_rows = cursor.fetchall()\n",
    "df_phone_brand_device_model = pd.DataFrame(table_rows, columns=['device_id', 'phone_brand', 'device_model'])"
   ]
  },
  {
   "cell_type": "code",
   "execution_count": null,
   "metadata": {
    "colab": {},
    "colab_type": "code",
    "id": "HyANBtWLV9LB"
   },
   "outputs": [],
   "source": [
    "'''\n",
    "def Read_GDrive_csv():\n",
    "  #install PyDrive - Commnet If already Installed\n",
    "  !pip install -U -q PyDrive\n",
    "\n",
    "  from pydrive.auth import GoogleAuth\n",
    "  from pydrive.drive import GoogleDrive\n",
    "  from google.colab import auth\n",
    "  from oauth2client.client import GoogleCredentials\n",
    "\n",
    "  auth.authenticate_user()\n",
    "  gauth = GoogleAuth()\n",
    "  gauth.credentials = GoogleCredentials.get_application_default()\n",
    "  drive = GoogleDrive(gauth)\n",
    "\n",
    "  link = 'https://drive.google.com/open?id=1WMRSPomIeyrVkaEhxYaoeTgcLezVZCjC'\n",
    "  fluff, id = link.split('=')\n",
    "  downloaded = drive.CreateFile({'id':id}) \n",
    "  downloaded.GetContentFile('events_data.csv')\n",
    "'''"
   ]
  },
  {
   "cell_type": "code",
   "execution_count": null,
   "metadata": {
    "colab": {},
    "colab_type": "code",
    "id": "dYcjG-KKWC1z"
   },
   "outputs": [],
   "source": [
    "'''\n",
    "import sys\n",
    "IN_COLAB = 'google.colab' in sys.modules\n",
    "if(IN_COLAB):\n",
    "  Read_GDrive_csv()\n",
    "\n",
    "df_all_events_data = pd.read_csv('events_data.csv')\n",
    "'''"
   ]
  },
  {
   "cell_type": "code",
   "execution_count": 8,
   "metadata": {
    "colab": {},
    "colab_type": "code",
    "id": "kRDmrqKaVan3"
   },
   "outputs": [],
   "source": [
    "df_all_events_data = pd.read_csv(\"C://Users//vbhak//OneDrive//events_data.csv\")"
   ]
  },
  {
   "cell_type": "code",
   "execution_count": 9,
   "metadata": {},
   "outputs": [],
   "source": [
    "df_gender_age_train = pd.read_sql(\"SELECT * FROM gender_age_train\", myDB)\n",
    "df_phone_brand_device_model = pd.read_sql(\"SELECT * FROM phone_brand_device_model\", myDB)\n",
    "myDB.close()\n",
    "\n"
   ]
  },
  {
   "cell_type": "code",
   "execution_count": 10,
   "metadata": {
    "colab": {},
    "colab_type": "code",
    "id": "OeqzpM9xVan9"
   },
   "outputs": [],
   "source": [
    "def missing_data(data):\n",
    "    total = data.isnull().sum().sort_values(ascending = False)\n",
    "    percent = (data.isnull().sum()/data.isnull().count()*100).sort_values(ascending = False)\n",
    "    return pd.concat([total, percent], axis=1, keys=['Total', 'Percent'])"
   ]
  },
  {
   "cell_type": "code",
   "execution_count": 11,
   "metadata": {
    "colab": {
     "base_uri": "https://localhost:8080/",
     "height": 175
    },
    "colab_type": "code",
    "executionInfo": {
     "elapsed": 871,
     "status": "ok",
     "timestamp": 1584261586389,
     "user": {
      "displayName": "Pratik Barjatiya",
      "photoUrl": "https://lh3.googleusercontent.com/a-/AOh14GhnYhbpy4SpE-IWY1hbAvdK5Amz2GXyhYz8Us5uF6E=s64",
      "userId": "11284238611791898048"
     },
     "user_tz": -330
    },
    "id": "FVIP33WdVaoE",
    "outputId": "5ad4f95f-5886-44bb-c18d-e0aeec93c575"
   },
   "outputs": [
    {
     "data": {
      "text/html": [
       "<div>\n",
       "<style scoped>\n",
       "    .dataframe tbody tr th:only-of-type {\n",
       "        vertical-align: middle;\n",
       "    }\n",
       "\n",
       "    .dataframe tbody tr th {\n",
       "        vertical-align: top;\n",
       "    }\n",
       "\n",
       "    .dataframe thead th {\n",
       "        text-align: right;\n",
       "    }\n",
       "</style>\n",
       "<table border=\"1\" class=\"dataframe\">\n",
       "  <thead>\n",
       "    <tr style=\"text-align: right;\">\n",
       "      <th></th>\n",
       "      <th>Total</th>\n",
       "      <th>Percent</th>\n",
       "    </tr>\n",
       "  </thead>\n",
       "  <tbody>\n",
       "    <tr>\n",
       "      <th>device_id</th>\n",
       "      <td>0</td>\n",
       "      <td>0.0</td>\n",
       "    </tr>\n",
       "    <tr>\n",
       "      <th>gender</th>\n",
       "      <td>0</td>\n",
       "      <td>0.0</td>\n",
       "    </tr>\n",
       "    <tr>\n",
       "      <th>age</th>\n",
       "      <td>0</td>\n",
       "      <td>0.0</td>\n",
       "    </tr>\n",
       "    <tr>\n",
       "      <th>group</th>\n",
       "      <td>0</td>\n",
       "      <td>0.0</td>\n",
       "    </tr>\n",
       "  </tbody>\n",
       "</table>\n",
       "</div>"
      ],
      "text/plain": [
       "           Total  Percent\n",
       "device_id      0      0.0\n",
       "gender         0      0.0\n",
       "age            0      0.0\n",
       "group          0      0.0"
      ]
     },
     "execution_count": 11,
     "metadata": {},
     "output_type": "execute_result"
    }
   ],
   "source": [
    "missing_data(df_gender_age_train)"
   ]
  },
  {
   "cell_type": "code",
   "execution_count": 12,
   "metadata": {
    "colab": {
     "base_uri": "https://localhost:8080/",
     "height": 143
    },
    "colab_type": "code",
    "executionInfo": {
     "elapsed": 962,
     "status": "ok",
     "timestamp": 1584261588460,
     "user": {
      "displayName": "Pratik Barjatiya",
      "photoUrl": "https://lh3.googleusercontent.com/a-/AOh14GhnYhbpy4SpE-IWY1hbAvdK5Amz2GXyhYz8Us5uF6E=s64",
      "userId": "11284238611791898048"
     },
     "user_tz": -330
    },
    "id": "8SRBR-NNVaoO",
    "outputId": "f04c387b-2131-4e2a-9693-9dc518351b59"
   },
   "outputs": [
    {
     "data": {
      "text/html": [
       "<div>\n",
       "<style scoped>\n",
       "    .dataframe tbody tr th:only-of-type {\n",
       "        vertical-align: middle;\n",
       "    }\n",
       "\n",
       "    .dataframe tbody tr th {\n",
       "        vertical-align: top;\n",
       "    }\n",
       "\n",
       "    .dataframe thead th {\n",
       "        text-align: right;\n",
       "    }\n",
       "</style>\n",
       "<table border=\"1\" class=\"dataframe\">\n",
       "  <thead>\n",
       "    <tr style=\"text-align: right;\">\n",
       "      <th></th>\n",
       "      <th>Total</th>\n",
       "      <th>Percent</th>\n",
       "    </tr>\n",
       "  </thead>\n",
       "  <tbody>\n",
       "    <tr>\n",
       "      <th>device_id</th>\n",
       "      <td>0</td>\n",
       "      <td>0.0</td>\n",
       "    </tr>\n",
       "    <tr>\n",
       "      <th>phone_brand</th>\n",
       "      <td>0</td>\n",
       "      <td>0.0</td>\n",
       "    </tr>\n",
       "    <tr>\n",
       "      <th>device_model</th>\n",
       "      <td>0</td>\n",
       "      <td>0.0</td>\n",
       "    </tr>\n",
       "  </tbody>\n",
       "</table>\n",
       "</div>"
      ],
      "text/plain": [
       "              Total  Percent\n",
       "device_id         0      0.0\n",
       "phone_brand       0      0.0\n",
       "device_model      0      0.0"
      ]
     },
     "execution_count": 12,
     "metadata": {},
     "output_type": "execute_result"
    }
   ],
   "source": [
    "missing_data(df_phone_brand_device_model)"
   ]
  },
  {
   "cell_type": "code",
   "execution_count": 13,
   "metadata": {
    "colab": {
     "base_uri": "https://localhost:8080/",
     "height": 269
    },
    "colab_type": "code",
    "executionInfo": {
     "elapsed": 3297,
     "status": "ok",
     "timestamp": 1584261592647,
     "user": {
      "displayName": "Pratik Barjatiya",
      "photoUrl": "https://lh3.googleusercontent.com/a-/AOh14GhnYhbpy4SpE-IWY1hbAvdK5Amz2GXyhYz8Us5uF6E=s64",
      "userId": "11284238611791898048"
     },
     "user_tz": -330
    },
    "id": "CoE_pqyFVaoW",
    "outputId": "0331d8cb-bb0d-404c-9a09-491af98b83ef"
   },
   "outputs": [
    {
     "data": {
      "text/html": [
       "<div>\n",
       "<style scoped>\n",
       "    .dataframe tbody tr th:only-of-type {\n",
       "        vertical-align: middle;\n",
       "    }\n",
       "\n",
       "    .dataframe tbody tr th {\n",
       "        vertical-align: top;\n",
       "    }\n",
       "\n",
       "    .dataframe thead th {\n",
       "        text-align: right;\n",
       "    }\n",
       "</style>\n",
       "<table border=\"1\" class=\"dataframe\">\n",
       "  <thead>\n",
       "    <tr style=\"text-align: right;\">\n",
       "      <th></th>\n",
       "      <th>Total</th>\n",
       "      <th>Percent</th>\n",
       "    </tr>\n",
       "  </thead>\n",
       "  <tbody>\n",
       "    <tr>\n",
       "      <th>device_id</th>\n",
       "      <td>453</td>\n",
       "      <td>0.013926</td>\n",
       "    </tr>\n",
       "    <tr>\n",
       "      <th>longitude</th>\n",
       "      <td>423</td>\n",
       "      <td>0.013004</td>\n",
       "    </tr>\n",
       "    <tr>\n",
       "      <th>latitude</th>\n",
       "      <td>423</td>\n",
       "      <td>0.013004</td>\n",
       "    </tr>\n",
       "    <tr>\n",
       "      <th>state</th>\n",
       "      <td>377</td>\n",
       "      <td>0.011589</td>\n",
       "    </tr>\n",
       "    <tr>\n",
       "      <th>event_id</th>\n",
       "      <td>0</td>\n",
       "      <td>0.000000</td>\n",
       "    </tr>\n",
       "    <tr>\n",
       "      <th>timestamp</th>\n",
       "      <td>0</td>\n",
       "      <td>0.000000</td>\n",
       "    </tr>\n",
       "    <tr>\n",
       "      <th>city</th>\n",
       "      <td>0</td>\n",
       "      <td>0.000000</td>\n",
       "    </tr>\n",
       "  </tbody>\n",
       "</table>\n",
       "</div>"
      ],
      "text/plain": [
       "           Total   Percent\n",
       "device_id    453  0.013926\n",
       "longitude    423  0.013004\n",
       "latitude     423  0.013004\n",
       "state        377  0.011589\n",
       "event_id       0  0.000000\n",
       "timestamp      0  0.000000\n",
       "city           0  0.000000"
      ]
     },
     "execution_count": 13,
     "metadata": {},
     "output_type": "execute_result"
    }
   ],
   "source": [
    "missing_data(df_all_events_data)"
   ]
  },
  {
   "cell_type": "markdown",
   "metadata": {
    "colab_type": "text",
    "id": "IaUzCxNaVaoc"
   },
   "source": [
    "####  Data Analysis - Gender Age data"
   ]
  },
  {
   "cell_type": "code",
   "execution_count": 14,
   "metadata": {
    "colab": {
     "base_uri": "https://localhost:8080/",
     "height": 34
    },
    "colab_type": "code",
    "executionInfo": {
     "elapsed": 884,
     "status": "ok",
     "timestamp": 1584261596435,
     "user": {
      "displayName": "Pratik Barjatiya",
      "photoUrl": "https://lh3.googleusercontent.com/a-/AOh14GhnYhbpy4SpE-IWY1hbAvdK5Amz2GXyhYz8Us5uF6E=s64",
      "userId": "11284238611791898048"
     },
     "user_tz": -330
    },
    "id": "H9yYRDcHVaoe",
    "outputId": "929c8120-0fe0-46f4-b194-3c8ed5b6db25"
   },
   "outputs": [
    {
     "data": {
      "text/plain": [
       "(74645, 4)"
      ]
     },
     "execution_count": 14,
     "metadata": {},
     "output_type": "execute_result"
    }
   ],
   "source": [
    "df_gender_age_train.shape"
   ]
  },
  {
   "cell_type": "code",
   "execution_count": 15,
   "metadata": {
    "colab": {
     "base_uri": "https://localhost:8080/",
     "height": 173
    },
    "colab_type": "code",
    "executionInfo": {
     "elapsed": 900,
     "status": "ok",
     "timestamp": 1584261598414,
     "user": {
      "displayName": "Pratik Barjatiya",
      "photoUrl": "https://lh3.googleusercontent.com/a-/AOh14GhnYhbpy4SpE-IWY1hbAvdK5Amz2GXyhYz8Us5uF6E=s64",
      "userId": "11284238611791898048"
     },
     "user_tz": -330
    },
    "id": "ho8sIJiRVaol",
    "outputId": "8fa9c873-74a5-4e8e-d023-5a21cfc9288a"
   },
   "outputs": [
    {
     "name": "stdout",
     "output_type": "stream",
     "text": [
      "<class 'pandas.core.frame.DataFrame'>\n",
      "RangeIndex: 74645 entries, 0 to 74644\n",
      "Data columns (total 4 columns):\n",
      " #   Column     Non-Null Count  Dtype \n",
      "---  ------     --------------  ----- \n",
      " 0   device_id  74645 non-null  int64 \n",
      " 1   gender     74645 non-null  object\n",
      " 2   age        74645 non-null  int64 \n",
      " 3   group      74645 non-null  object\n",
      "dtypes: int64(2), object(2)\n",
      "memory usage: 2.3+ MB\n"
     ]
    }
   ],
   "source": [
    "df_gender_age_train.info()"
   ]
  },
  {
   "cell_type": "code",
   "execution_count": 16,
   "metadata": {
    "colab": {
     "base_uri": "https://localhost:8080/",
     "height": 300
    },
    "colab_type": "code",
    "executionInfo": {
     "elapsed": 919,
     "status": "ok",
     "timestamp": 1584261601062,
     "user": {
      "displayName": "Pratik Barjatiya",
      "photoUrl": "https://lh3.googleusercontent.com/a-/AOh14GhnYhbpy4SpE-IWY1hbAvdK5Amz2GXyhYz8Us5uF6E=s64",
      "userId": "11284238611791898048"
     },
     "user_tz": -330
    },
    "id": "YBDmILMaVaor",
    "outputId": "d58a78a8-ca65-4bcf-a3d1-2b7e271a6dfe"
   },
   "outputs": [
    {
     "data": {
      "text/html": [
       "<div>\n",
       "<style scoped>\n",
       "    .dataframe tbody tr th:only-of-type {\n",
       "        vertical-align: middle;\n",
       "    }\n",
       "\n",
       "    .dataframe tbody tr th {\n",
       "        vertical-align: top;\n",
       "    }\n",
       "\n",
       "    .dataframe thead th {\n",
       "        text-align: right;\n",
       "    }\n",
       "</style>\n",
       "<table border=\"1\" class=\"dataframe\">\n",
       "  <thead>\n",
       "    <tr style=\"text-align: right;\">\n",
       "      <th></th>\n",
       "      <th>device_id</th>\n",
       "      <th>age</th>\n",
       "    </tr>\n",
       "  </thead>\n",
       "  <tbody>\n",
       "    <tr>\n",
       "      <th>count</th>\n",
       "      <td>7.464500e+04</td>\n",
       "      <td>74645.000000</td>\n",
       "    </tr>\n",
       "    <tr>\n",
       "      <th>mean</th>\n",
       "      <td>-7.491354e+14</td>\n",
       "      <td>31.410342</td>\n",
       "    </tr>\n",
       "    <tr>\n",
       "      <th>std</th>\n",
       "      <td>5.327150e+18</td>\n",
       "      <td>9.868735</td>\n",
       "    </tr>\n",
       "    <tr>\n",
       "      <th>min</th>\n",
       "      <td>-9.223067e+18</td>\n",
       "      <td>1.000000</td>\n",
       "    </tr>\n",
       "    <tr>\n",
       "      <th>25%</th>\n",
       "      <td>-4.617367e+18</td>\n",
       "      <td>25.000000</td>\n",
       "    </tr>\n",
       "    <tr>\n",
       "      <th>50%</th>\n",
       "      <td>-1.841362e+16</td>\n",
       "      <td>29.000000</td>\n",
       "    </tr>\n",
       "    <tr>\n",
       "      <th>75%</th>\n",
       "      <td>4.636656e+18</td>\n",
       "      <td>36.000000</td>\n",
       "    </tr>\n",
       "    <tr>\n",
       "      <th>max</th>\n",
       "      <td>9.222849e+18</td>\n",
       "      <td>96.000000</td>\n",
       "    </tr>\n",
       "  </tbody>\n",
       "</table>\n",
       "</div>"
      ],
      "text/plain": [
       "          device_id           age\n",
       "count  7.464500e+04  74645.000000\n",
       "mean  -7.491354e+14     31.410342\n",
       "std    5.327150e+18      9.868735\n",
       "min   -9.223067e+18      1.000000\n",
       "25%   -4.617367e+18     25.000000\n",
       "50%   -1.841362e+16     29.000000\n",
       "75%    4.636656e+18     36.000000\n",
       "max    9.222849e+18     96.000000"
      ]
     },
     "execution_count": 16,
     "metadata": {},
     "output_type": "execute_result"
    }
   ],
   "source": [
    "df_gender_age_train.describe()"
   ]
  },
  {
   "cell_type": "code",
   "execution_count": 17,
   "metadata": {
    "colab": {
     "base_uri": "https://localhost:8080/",
     "height": 156
    },
    "colab_type": "code",
    "executionInfo": {
     "elapsed": 889,
     "status": "ok",
     "timestamp": 1584261603487,
     "user": {
      "displayName": "Pratik Barjatiya",
      "photoUrl": "https://lh3.googleusercontent.com/a-/AOh14GhnYhbpy4SpE-IWY1hbAvdK5Amz2GXyhYz8Us5uF6E=s64",
      "userId": "11284238611791898048"
     },
     "user_tz": -330
    },
    "id": "pQV-tMCTVao2",
    "outputId": "4b893baa-6305-4da3-afbc-0034d5507ae0"
   },
   "outputs": [
    {
     "name": "stdout",
     "output_type": "stream",
     "text": [
      "<class 'pandas.core.frame.DataFrame'>\n",
      "RangeIndex: 87726 entries, 0 to 87725\n",
      "Data columns (total 3 columns):\n",
      " #   Column        Non-Null Count  Dtype \n",
      "---  ------        --------------  ----- \n",
      " 0   device_id     87726 non-null  int64 \n",
      " 1   phone_brand   87726 non-null  object\n",
      " 2   device_model  87726 non-null  object\n",
      "dtypes: int64(1), object(2)\n",
      "memory usage: 2.0+ MB\n"
     ]
    }
   ],
   "source": [
    "df_phone_brand_device_model.info()"
   ]
  },
  {
   "cell_type": "code",
   "execution_count": 18,
   "metadata": {
    "colab": {
     "base_uri": "https://localhost:8080/",
     "height": 394
    },
    "colab_type": "code",
    "executionInfo": {
     "elapsed": 874,
     "status": "ok",
     "timestamp": 1584261605708,
     "user": {
      "displayName": "Pratik Barjatiya",
      "photoUrl": "https://lh3.googleusercontent.com/a-/AOh14GhnYhbpy4SpE-IWY1hbAvdK5Amz2GXyhYz8Us5uF6E=s64",
      "userId": "11284238611791898048"
     },
     "user_tz": -330
    },
    "id": "elmn8rr3Vao7",
    "outputId": "465bb04e-9a47-4227-e6cf-422398d230d0"
   },
   "outputs": [
    {
     "data": {
      "text/html": [
       "<div>\n",
       "<style scoped>\n",
       "    .dataframe tbody tr th:only-of-type {\n",
       "        vertical-align: middle;\n",
       "    }\n",
       "\n",
       "    .dataframe tbody tr th {\n",
       "        vertical-align: top;\n",
       "    }\n",
       "\n",
       "    .dataframe thead th {\n",
       "        text-align: right;\n",
       "    }\n",
       "</style>\n",
       "<table border=\"1\" class=\"dataframe\">\n",
       "  <thead>\n",
       "    <tr style=\"text-align: right;\">\n",
       "      <th></th>\n",
       "      <th>device_id</th>\n",
       "      <th>gender</th>\n",
       "      <th>age</th>\n",
       "      <th>group</th>\n",
       "    </tr>\n",
       "  </thead>\n",
       "  <tbody>\n",
       "    <tr>\n",
       "      <th>count</th>\n",
       "      <td>7.464500e+04</td>\n",
       "      <td>74645</td>\n",
       "      <td>74645.000000</td>\n",
       "      <td>74645</td>\n",
       "    </tr>\n",
       "    <tr>\n",
       "      <th>unique</th>\n",
       "      <td>NaN</td>\n",
       "      <td>2</td>\n",
       "      <td>NaN</td>\n",
       "      <td>12</td>\n",
       "    </tr>\n",
       "    <tr>\n",
       "      <th>top</th>\n",
       "      <td>NaN</td>\n",
       "      <td>M</td>\n",
       "      <td>NaN</td>\n",
       "      <td>M23-26</td>\n",
       "    </tr>\n",
       "    <tr>\n",
       "      <th>freq</th>\n",
       "      <td>NaN</td>\n",
       "      <td>47904</td>\n",
       "      <td>NaN</td>\n",
       "      <td>9605</td>\n",
       "    </tr>\n",
       "    <tr>\n",
       "      <th>mean</th>\n",
       "      <td>-7.491354e+14</td>\n",
       "      <td>NaN</td>\n",
       "      <td>31.410342</td>\n",
       "      <td>NaN</td>\n",
       "    </tr>\n",
       "    <tr>\n",
       "      <th>std</th>\n",
       "      <td>5.327150e+18</td>\n",
       "      <td>NaN</td>\n",
       "      <td>9.868735</td>\n",
       "      <td>NaN</td>\n",
       "    </tr>\n",
       "    <tr>\n",
       "      <th>min</th>\n",
       "      <td>-9.223067e+18</td>\n",
       "      <td>NaN</td>\n",
       "      <td>1.000000</td>\n",
       "      <td>NaN</td>\n",
       "    </tr>\n",
       "    <tr>\n",
       "      <th>25%</th>\n",
       "      <td>-4.617367e+18</td>\n",
       "      <td>NaN</td>\n",
       "      <td>25.000000</td>\n",
       "      <td>NaN</td>\n",
       "    </tr>\n",
       "    <tr>\n",
       "      <th>50%</th>\n",
       "      <td>-1.841362e+16</td>\n",
       "      <td>NaN</td>\n",
       "      <td>29.000000</td>\n",
       "      <td>NaN</td>\n",
       "    </tr>\n",
       "    <tr>\n",
       "      <th>75%</th>\n",
       "      <td>4.636656e+18</td>\n",
       "      <td>NaN</td>\n",
       "      <td>36.000000</td>\n",
       "      <td>NaN</td>\n",
       "    </tr>\n",
       "    <tr>\n",
       "      <th>max</th>\n",
       "      <td>9.222849e+18</td>\n",
       "      <td>NaN</td>\n",
       "      <td>96.000000</td>\n",
       "      <td>NaN</td>\n",
       "    </tr>\n",
       "  </tbody>\n",
       "</table>\n",
       "</div>"
      ],
      "text/plain": [
       "           device_id gender           age   group\n",
       "count   7.464500e+04  74645  74645.000000   74645\n",
       "unique           NaN      2           NaN      12\n",
       "top              NaN      M           NaN  M23-26\n",
       "freq             NaN  47904           NaN    9605\n",
       "mean   -7.491354e+14    NaN     31.410342     NaN\n",
       "std     5.327150e+18    NaN      9.868735     NaN\n",
       "min    -9.223067e+18    NaN      1.000000     NaN\n",
       "25%    -4.617367e+18    NaN     25.000000     NaN\n",
       "50%    -1.841362e+16    NaN     29.000000     NaN\n",
       "75%     4.636656e+18    NaN     36.000000     NaN\n",
       "max     9.222849e+18    NaN     96.000000     NaN"
      ]
     },
     "execution_count": 18,
     "metadata": {},
     "output_type": "execute_result"
    }
   ],
   "source": [
    "df_gender_age_train.describe(include='all')"
   ]
  },
  {
   "cell_type": "markdown",
   "metadata": {
    "colab_type": "text",
    "id": "hmGBkxPCVapB"
   },
   "source": [
    "**Observations** No Null Values in Gender Age Data"
   ]
  },
  {
   "cell_type": "code",
   "execution_count": 19,
   "metadata": {
    "colab": {
     "base_uri": "https://localhost:8080/",
     "height": 206
    },
    "colab_type": "code",
    "executionInfo": {
     "elapsed": 887,
     "status": "ok",
     "timestamp": 1584261608840,
     "user": {
      "displayName": "Pratik Barjatiya",
      "photoUrl": "https://lh3.googleusercontent.com/a-/AOh14GhnYhbpy4SpE-IWY1hbAvdK5Amz2GXyhYz8Us5uF6E=s64",
      "userId": "11284238611791898048"
     },
     "user_tz": -330
    },
    "id": "w4KD2kjqVapD",
    "outputId": "09b77e07-7698-4fce-d947-101806bbf198"
   },
   "outputs": [
    {
     "data": {
      "text/html": [
       "<div>\n",
       "<style scoped>\n",
       "    .dataframe tbody tr th:only-of-type {\n",
       "        vertical-align: middle;\n",
       "    }\n",
       "\n",
       "    .dataframe tbody tr th {\n",
       "        vertical-align: top;\n",
       "    }\n",
       "\n",
       "    .dataframe thead th {\n",
       "        text-align: right;\n",
       "    }\n",
       "</style>\n",
       "<table border=\"1\" class=\"dataframe\">\n",
       "  <thead>\n",
       "    <tr style=\"text-align: right;\">\n",
       "      <th></th>\n",
       "      <th>device_id</th>\n",
       "      <th>gender</th>\n",
       "      <th>age</th>\n",
       "      <th>group</th>\n",
       "    </tr>\n",
       "  </thead>\n",
       "  <tbody>\n",
       "    <tr>\n",
       "      <th>0</th>\n",
       "      <td>-8076087639492063270</td>\n",
       "      <td>M</td>\n",
       "      <td>35</td>\n",
       "      <td>M32-38</td>\n",
       "    </tr>\n",
       "    <tr>\n",
       "      <th>1</th>\n",
       "      <td>-2897161552818060146</td>\n",
       "      <td>M</td>\n",
       "      <td>35</td>\n",
       "      <td>M32-38</td>\n",
       "    </tr>\n",
       "    <tr>\n",
       "      <th>2</th>\n",
       "      <td>-8260683887967679142</td>\n",
       "      <td>M</td>\n",
       "      <td>35</td>\n",
       "      <td>M32-38</td>\n",
       "    </tr>\n",
       "    <tr>\n",
       "      <th>3</th>\n",
       "      <td>-4938849341048082022</td>\n",
       "      <td>M</td>\n",
       "      <td>30</td>\n",
       "      <td>M29-31</td>\n",
       "    </tr>\n",
       "    <tr>\n",
       "      <th>4</th>\n",
       "      <td>245133531816851882</td>\n",
       "      <td>M</td>\n",
       "      <td>30</td>\n",
       "      <td>M29-31</td>\n",
       "    </tr>\n",
       "  </tbody>\n",
       "</table>\n",
       "</div>"
      ],
      "text/plain": [
       "             device_id gender  age   group\n",
       "0 -8076087639492063270      M   35  M32-38\n",
       "1 -2897161552818060146      M   35  M32-38\n",
       "2 -8260683887967679142      M   35  M32-38\n",
       "3 -4938849341048082022      M   30  M29-31\n",
       "4   245133531816851882      M   30  M29-31"
      ]
     },
     "execution_count": 19,
     "metadata": {},
     "output_type": "execute_result"
    }
   ],
   "source": [
    "df_gender_age_train.head()"
   ]
  },
  {
   "cell_type": "code",
   "execution_count": 20,
   "metadata": {
    "colab": {
     "base_uri": "https://localhost:8080/",
     "height": 69
    },
    "colab_type": "code",
    "executionInfo": {
     "elapsed": 862,
     "status": "ok",
     "timestamp": 1584261611982,
     "user": {
      "displayName": "Pratik Barjatiya",
      "photoUrl": "https://lh3.googleusercontent.com/a-/AOh14GhnYhbpy4SpE-IWY1hbAvdK5Amz2GXyhYz8Us5uF6E=s64",
      "userId": "11284238611791898048"
     },
     "user_tz": -330
    },
    "id": "pee2SJsFVapJ",
    "outputId": "139dd85a-4568-4278-f30e-0fb5bf4c0763"
   },
   "outputs": [
    {
     "data": {
      "text/plain": [
       "M    47904\n",
       "F    26741\n",
       "Name: gender, dtype: int64"
      ]
     },
     "execution_count": 20,
     "metadata": {},
     "output_type": "execute_result"
    }
   ],
   "source": [
    "df_gender_age_train['gender'].value_counts()"
   ]
  },
  {
   "cell_type": "code",
   "execution_count": 21,
   "metadata": {
    "colab": {
     "base_uri": "https://localhost:8080/",
     "height": 302
    },
    "colab_type": "code",
    "executionInfo": {
     "elapsed": 872,
     "status": "ok",
     "timestamp": 1584261613682,
     "user": {
      "displayName": "Pratik Barjatiya",
      "photoUrl": "https://lh3.googleusercontent.com/a-/AOh14GhnYhbpy4SpE-IWY1hbAvdK5Amz2GXyhYz8Us5uF6E=s64",
      "userId": "11284238611791898048"
     },
     "user_tz": -330
    },
    "id": "hNBgiikCVapO",
    "outputId": "6021a278-e1e7-4dca-f03c-c3a6ebc82727"
   },
   "outputs": [
    {
     "data": {
      "text/plain": [
       "Text(0, 0.5, 'Age Groups')"
      ]
     },
     "execution_count": 21,
     "metadata": {},
     "output_type": "execute_result"
    },
    {
     "data": {
      "image/png": "[encoded data removed]",
      "text/plain": [
       "<Figure size 1080x360 with 1 Axes>"
      ]
     },
     "metadata": {},
     "output_type": "display_data"
    }
   ],
   "source": [
    "# Male users age group wise to see which group has maximum mobile usage\n",
    "plt.figure(figsize=(15,5))\n",
    "df_gender_age_train[df_gender_age_train['gender']=='M']['group'].value_counts().plot.barh()\n",
    "plt.xlabel(\"# Count\")\n",
    "plt.ylabel(\"Age Groups\")"
   ]
  },
  {
   "cell_type": "code",
   "execution_count": 22,
   "metadata": {
    "colab": {
     "base_uri": "https://localhost:8080/",
     "height": 302
    },
    "colab_type": "code",
    "executionInfo": {
     "elapsed": 897,
     "status": "ok",
     "timestamp": 1584261616868,
     "user": {
      "displayName": "Pratik Barjatiya",
      "photoUrl": "https://lh3.googleusercontent.com/a-/AOh14GhnYhbpy4SpE-IWY1hbAvdK5Amz2GXyhYz8Us5uF6E=s64",
      "userId": "11284238611791898048"
     },
     "user_tz": -330
    },
    "id": "OX-VQFlkVapT",
    "outputId": "341e83db-3475-483e-a5ed-a71e23a0e83d"
   },
   "outputs": [
    {
     "data": {
      "text/plain": [
       "Text(0, 0.5, 'Age Groups')"
      ]
     },
     "execution_count": 22,
     "metadata": {},
     "output_type": "execute_result"
    },
    {
     "data": {
      "image/png": "[encoded data removed]",
      "text/plain": [
       "<Figure size 1080x360 with 1 Axes>"
      ]
     },
     "metadata": {},
     "output_type": "display_data"
    }
   ],
   "source": [
    "# Female users age group wise to see which group has maximum mobile usage\n",
    "plt.figure(figsize=(15,5))\n",
    "df_gender_age_train[df_gender_age_train['gender']=='F']['group'].value_counts().plot.barh()\n",
    "plt.xlabel(\"# Count\")\n",
    "plt.ylabel(\"Age Groups\")"
   ]
  },
  {
   "cell_type": "code",
   "execution_count": 23,
   "metadata": {
    "colab": {
     "base_uri": "https://localhost:8080/",
     "height": 302
    },
    "colab_type": "code",
    "executionInfo": {
     "elapsed": 945,
     "status": "ok",
     "timestamp": 1584261620214,
     "user": {
      "displayName": "Pratik Barjatiya",
      "photoUrl": "https://lh3.googleusercontent.com/a-/AOh14GhnYhbpy4SpE-IWY1hbAvdK5Amz2GXyhYz8Us5uF6E=s64",
      "userId": "11284238611791898048"
     },
     "user_tz": -330
    },
    "id": "oxAjcS5DVapa",
    "outputId": "08116a82-404a-4cef-9c91-73f946e245f2"
   },
   "outputs": [
    {
     "data": {
      "text/plain": [
       "Text(0.5, 0, 'Age')"
      ]
     },
     "execution_count": 23,
     "metadata": {},
     "output_type": "execute_result"
    },
    {
     "data": {
      "image/png": "[encoded data removed]",
      "text/plain": [
       "<Figure size 1080x360 with 1 Axes>"
      ]
     },
     "metadata": {},
     "output_type": "display_data"
    }
   ],
   "source": [
    "plt.figure(figsize=(15,5))\n",
    "range = (10,90)\n",
    "plt.hist(df_gender_age_train['age'], 10, range, color = 'green', histtype = 'bar', rwidth = 0.9)\n",
    "plt.ylabel(\"# Count\")\n",
    "plt.xlabel(\"Age\")"
   ]
  },
  {
   "cell_type": "code",
   "execution_count": 24,
   "metadata": {
    "colab": {
     "base_uri": "https://localhost:8080/",
     "height": 306
    },
    "colab_type": "code",
    "executionInfo": {
     "elapsed": 1045,
     "status": "ok",
     "timestamp": 1584261625840,
     "user": {
      "displayName": "Pratik Barjatiya",
      "photoUrl": "https://lh3.googleusercontent.com/a-/AOh14GhnYhbpy4SpE-IWY1hbAvdK5Amz2GXyhYz8Us5uF6E=s64",
      "userId": "11284238611791898048"
     },
     "user_tz": -330
    },
    "id": "GSRtXHb0Vapf",
    "outputId": "59ed7441-81fd-4a65-b777-c01dce856b2e"
   },
   "outputs": [
    {
     "data": {
      "text/plain": [
       "Text(0.5, 0, 'Age')"
      ]
     },
     "execution_count": 24,
     "metadata": {},
     "output_type": "execute_result"
    },
    {
     "data": {
      "image/png": "[encoded data removed]",
      "text/plain": [
       "<Figure size 1080x360 with 1 Axes>"
      ]
     },
     "metadata": {},
     "output_type": "display_data"
    }
   ],
   "source": [
    "plt.figure(figsize=(15,5))\n",
    "range = (10,90)\n",
    "plt.hist(df_gender_age_train[df_gender_age_train['gender']=='M']['age'], 10, range, color = 'green', histtype = 'bar', rwidth = 0.9)\n",
    "plt.ylabel(\"# Count\")\n",
    "plt.xlabel(\"Age\")"
   ]
  },
  {
   "cell_type": "code",
   "execution_count": 25,
   "metadata": {
    "colab": {
     "base_uri": "https://localhost:8080/",
     "height": 302
    },
    "colab_type": "code",
    "executionInfo": {
     "elapsed": 1338,
     "status": "ok",
     "timestamp": 1584261632271,
     "user": {
      "displayName": "Pratik Barjatiya",
      "photoUrl": "https://lh3.googleusercontent.com/a-/AOh14GhnYhbpy4SpE-IWY1hbAvdK5Amz2GXyhYz8Us5uF6E=s64",
      "userId": "11284238611791898048"
     },
     "user_tz": -330
    },
    "id": "TmY5bSTTVapj",
    "outputId": "ee8d155a-4b34-48cd-c69e-843da39e4184"
   },
   "outputs": [
    {
     "data": {
      "text/plain": [
       "Text(0.5, 0, 'Age')"
      ]
     },
     "execution_count": 25,
     "metadata": {},
     "output_type": "execute_result"
    },
    {
     "data": {
      "image/png": "[encoded data removed]",
      "text/plain": [
       "<Figure size 1080x360 with 1 Axes>"
      ]
     },
     "metadata": {},
     "output_type": "display_data"
    }
   ],
   "source": [
    "plt.figure(figsize=(15,5))\n",
    "range = (10,90)\n",
    "plt.hist(df_gender_age_train[df_gender_age_train['gender']=='F']['age'], 10, range, color = 'green', histtype = 'bar', rwidth = 0.9)\n",
    "plt.ylabel(\"# Count\")\n",
    "plt.xlabel(\"Age\")"
   ]
  },
  {
   "cell_type": "code",
   "execution_count": 26,
   "metadata": {
    "colab": {},
    "colab_type": "code",
    "id": "u-92jhxtVapn"
   },
   "outputs": [],
   "source": [
    "# profile = pandas_profiling.ProfileReport(df_phone_brand_device_model)\n",
    "# profile.to_file(output_file=\"phone_brand_device_model_data_before_preprocessing.html\")"
   ]
  },
  {
   "cell_type": "code",
   "execution_count": 27,
   "metadata": {
    "colab": {},
    "colab_type": "code",
    "id": "fOJaKWkUVapr"
   },
   "outputs": [],
   "source": [
    "# profile = pandas_profiling.ProfileReport(df_gender_age_train)\n",
    "# profile.to_file(output_file=\"gender_age_train_data_before_preprocessing.html\")"
   ]
  },
  {
   "cell_type": "markdown",
   "metadata": {
    "colab_type": "text",
    "id": "_15hkdAoVapv"
   },
   "source": [
    "**Observations** \n",
    "1. People of age group 20 to 40 are using mobiles more as compared to other age groups.\n",
    "2. Mojority of people stops using mobile after the age of 60.\n",
    "3. Males are using mobile more than females.\n",
    "4. People start using mobile after the age of 10.  \n",
    "\n",
    "Person whose age is 1 is also using mobile so it is outlier"
   ]
  },
  {
   "cell_type": "markdown",
   "metadata": {
    "colab_type": "text",
    "id": "xF_jCAPpVapy"
   },
   "source": [
    "#### Data Analysis - Phone Brand Data"
   ]
  },
  {
   "cell_type": "code",
   "execution_count": 28,
   "metadata": {
    "colab": {
     "base_uri": "https://localhost:8080/",
     "height": 34
    },
    "colab_type": "code",
    "executionInfo": {
     "elapsed": 874,
     "status": "ok",
     "timestamp": 1584261643283,
     "user": {
      "displayName": "Pratik Barjatiya",
      "photoUrl": "https://lh3.googleusercontent.com/a-/AOh14GhnYhbpy4SpE-IWY1hbAvdK5Amz2GXyhYz8Us5uF6E=s64",
      "userId": "11284238611791898048"
     },
     "user_tz": -330
    },
    "id": "-19fyBjAVap0",
    "outputId": "6ed8dc7a-6dfa-44e8-8e61-585d67cf447c"
   },
   "outputs": [
    {
     "data": {
      "text/plain": [
       "(87726, 3)"
      ]
     },
     "execution_count": 28,
     "metadata": {},
     "output_type": "execute_result"
    }
   ],
   "source": [
    "df_phone_brand_device_model.shape"
   ]
  },
  {
   "cell_type": "code",
   "execution_count": 29,
   "metadata": {
    "colab": {
     "base_uri": "https://localhost:8080/",
     "height": 156
    },
    "colab_type": "code",
    "executionInfo": {
     "elapsed": 886,
     "status": "ok",
     "timestamp": 1584261645185,
     "user": {
      "displayName": "Pratik Barjatiya",
      "photoUrl": "https://lh3.googleusercontent.com/a-/AOh14GhnYhbpy4SpE-IWY1hbAvdK5Amz2GXyhYz8Us5uF6E=s64",
      "userId": "11284238611791898048"
     },
     "user_tz": -330
    },
    "id": "2XmFe4dNVap4",
    "outputId": "d3ba05ee-c35d-4487-9013-1f0aeb5b665d"
   },
   "outputs": [
    {
     "name": "stdout",
     "output_type": "stream",
     "text": [
      "<class 'pandas.core.frame.DataFrame'>\n",
      "RangeIndex: 87726 entries, 0 to 87725\n",
      "Data columns (total 3 columns):\n",
      " #   Column        Non-Null Count  Dtype \n",
      "---  ------        --------------  ----- \n",
      " 0   device_id     87726 non-null  int64 \n",
      " 1   phone_brand   87726 non-null  object\n",
      " 2   device_model  87726 non-null  object\n",
      "dtypes: int64(1), object(2)\n",
      "memory usage: 2.0+ MB\n"
     ]
    }
   ],
   "source": [
    "df_phone_brand_device_model.info()"
   ]
  },
  {
   "cell_type": "code",
   "execution_count": 30,
   "metadata": {
    "colab": {
     "base_uri": "https://localhost:8080/",
     "height": 300
    },
    "colab_type": "code",
    "executionInfo": {
     "elapsed": 664,
     "status": "ok",
     "timestamp": 1584261647317,
     "user": {
      "displayName": "Pratik Barjatiya",
      "photoUrl": "https://lh3.googleusercontent.com/a-/AOh14GhnYhbpy4SpE-IWY1hbAvdK5Amz2GXyhYz8Us5uF6E=s64",
      "userId": "11284238611791898048"
     },
     "user_tz": -330
    },
    "id": "JJRJ9obYVap9",
    "outputId": "9e05ba2a-ce22-438a-8c3c-f2f9e073cc06"
   },
   "outputs": [
    {
     "data": {
      "text/html": [
       "<div>\n",
       "<style scoped>\n",
       "    .dataframe tbody tr th:only-of-type {\n",
       "        vertical-align: middle;\n",
       "    }\n",
       "\n",
       "    .dataframe tbody tr th {\n",
       "        vertical-align: top;\n",
       "    }\n",
       "\n",
       "    .dataframe thead th {\n",
       "        text-align: right;\n",
       "    }\n",
       "</style>\n",
       "<table border=\"1\" class=\"dataframe\">\n",
       "  <thead>\n",
       "    <tr style=\"text-align: right;\">\n",
       "      <th></th>\n",
       "      <th>device_id</th>\n",
       "    </tr>\n",
       "  </thead>\n",
       "  <tbody>\n",
       "    <tr>\n",
       "      <th>count</th>\n",
       "      <td>8.772600e+04</td>\n",
       "    </tr>\n",
       "    <tr>\n",
       "      <th>mean</th>\n",
       "      <td>-5.212557e+15</td>\n",
       "    </tr>\n",
       "    <tr>\n",
       "      <th>std</th>\n",
       "      <td>5.330157e+18</td>\n",
       "    </tr>\n",
       "    <tr>\n",
       "      <th>min</th>\n",
       "      <td>-9.223322e+18</td>\n",
       "    </tr>\n",
       "    <tr>\n",
       "      <th>25%</th>\n",
       "      <td>-4.623331e+18</td>\n",
       "    </tr>\n",
       "    <tr>\n",
       "      <th>50%</th>\n",
       "      <td>-3.109802e+16</td>\n",
       "    </tr>\n",
       "    <tr>\n",
       "      <th>75%</th>\n",
       "      <td>4.635194e+18</td>\n",
       "    </tr>\n",
       "    <tr>\n",
       "      <th>max</th>\n",
       "      <td>9.222849e+18</td>\n",
       "    </tr>\n",
       "  </tbody>\n",
       "</table>\n",
       "</div>"
      ],
      "text/plain": [
       "          device_id\n",
       "count  8.772600e+04\n",
       "mean  -5.212557e+15\n",
       "std    5.330157e+18\n",
       "min   -9.223322e+18\n",
       "25%   -4.623331e+18\n",
       "50%   -3.109802e+16\n",
       "75%    4.635194e+18\n",
       "max    9.222849e+18"
      ]
     },
     "execution_count": 30,
     "metadata": {},
     "output_type": "execute_result"
    }
   ],
   "source": [
    "df_phone_brand_device_model.describe()"
   ]
  },
  {
   "cell_type": "code",
   "execution_count": 31,
   "metadata": {
    "colab": {
     "base_uri": "https://localhost:8080/",
     "height": 394
    },
    "colab_type": "code",
    "executionInfo": {
     "elapsed": 907,
     "status": "ok",
     "timestamp": 1584261649759,
     "user": {
      "displayName": "Pratik Barjatiya",
      "photoUrl": "https://lh3.googleusercontent.com/a-/AOh14GhnYhbpy4SpE-IWY1hbAvdK5Amz2GXyhYz8Us5uF6E=s64",
      "userId": "11284238611791898048"
     },
     "user_tz": -330
    },
    "id": "2Y_BHxquVaqD",
    "outputId": "e732d2de-296a-471a-8628-c2ac2959a026"
   },
   "outputs": [
    {
     "data": {
      "text/html": [
       "<div>\n",
       "<style scoped>\n",
       "    .dataframe tbody tr th:only-of-type {\n",
       "        vertical-align: middle;\n",
       "    }\n",
       "\n",
       "    .dataframe tbody tr th {\n",
       "        vertical-align: top;\n",
       "    }\n",
       "\n",
       "    .dataframe thead th {\n",
       "        text-align: right;\n",
       "    }\n",
       "</style>\n",
       "<table border=\"1\" class=\"dataframe\">\n",
       "  <thead>\n",
       "    <tr style=\"text-align: right;\">\n",
       "      <th></th>\n",
       "      <th>device_id</th>\n",
       "      <th>phone_brand</th>\n",
       "      <th>device_model</th>\n",
       "    </tr>\n",
       "  </thead>\n",
       "  <tbody>\n",
       "    <tr>\n",
       "      <th>count</th>\n",
       "      <td>8.772600e+04</td>\n",
       "      <td>87726</td>\n",
       "      <td>87726</td>\n",
       "    </tr>\n",
       "    <tr>\n",
       "      <th>unique</th>\n",
       "      <td>NaN</td>\n",
       "      <td>116</td>\n",
       "      <td>1467</td>\n",
       "    </tr>\n",
       "    <tr>\n",
       "      <th>top</th>\n",
       "      <td>NaN</td>\n",
       "      <td>小米</td>\n",
       "      <td>红米note</td>\n",
       "    </tr>\n",
       "    <tr>\n",
       "      <th>freq</th>\n",
       "      <td>NaN</td>\n",
       "      <td>21645</td>\n",
       "      <td>3500</td>\n",
       "    </tr>\n",
       "    <tr>\n",
       "      <th>mean</th>\n",
       "      <td>-5.212557e+15</td>\n",
       "      <td>NaN</td>\n",
       "      <td>NaN</td>\n",
       "    </tr>\n",
       "    <tr>\n",
       "      <th>std</th>\n",
       "      <td>5.330157e+18</td>\n",
       "      <td>NaN</td>\n",
       "      <td>NaN</td>\n",
       "    </tr>\n",
       "    <tr>\n",
       "      <th>min</th>\n",
       "      <td>-9.223322e+18</td>\n",
       "      <td>NaN</td>\n",
       "      <td>NaN</td>\n",
       "    </tr>\n",
       "    <tr>\n",
       "      <th>25%</th>\n",
       "      <td>-4.623331e+18</td>\n",
       "      <td>NaN</td>\n",
       "      <td>NaN</td>\n",
       "    </tr>\n",
       "    <tr>\n",
       "      <th>50%</th>\n",
       "      <td>-3.109802e+16</td>\n",
       "      <td>NaN</td>\n",
       "      <td>NaN</td>\n",
       "    </tr>\n",
       "    <tr>\n",
       "      <th>75%</th>\n",
       "      <td>4.635194e+18</td>\n",
       "      <td>NaN</td>\n",
       "      <td>NaN</td>\n",
       "    </tr>\n",
       "    <tr>\n",
       "      <th>max</th>\n",
       "      <td>9.222849e+18</td>\n",
       "      <td>NaN</td>\n",
       "      <td>NaN</td>\n",
       "    </tr>\n",
       "  </tbody>\n",
       "</table>\n",
       "</div>"
      ],
      "text/plain": [
       "           device_id phone_brand device_model\n",
       "count   8.772600e+04       87726        87726\n",
       "unique           NaN         116         1467\n",
       "top              NaN          小米       红米note\n",
       "freq             NaN       21645         3500\n",
       "mean   -5.212557e+15         NaN          NaN\n",
       "std     5.330157e+18         NaN          NaN\n",
       "min    -9.223322e+18         NaN          NaN\n",
       "25%    -4.623331e+18         NaN          NaN\n",
       "50%    -3.109802e+16         NaN          NaN\n",
       "75%     4.635194e+18         NaN          NaN\n",
       "max     9.222849e+18         NaN          NaN"
      ]
     },
     "execution_count": 31,
     "metadata": {},
     "output_type": "execute_result"
    }
   ],
   "source": [
    "df_phone_brand_device_model.describe(include='all')"
   ]
  },
  {
   "cell_type": "markdown",
   "metadata": {
    "colab_type": "text",
    "id": "T8tv0tAPVaqH"
   },
   "source": [
    "**Observations** No Null Values in Phone Brand Device Data"
   ]
  },
  {
   "cell_type": "code",
   "execution_count": 32,
   "metadata": {
    "colab": {
     "base_uri": "https://localhost:8080/",
     "height": 206
    },
    "colab_type": "code",
    "executionInfo": {
     "elapsed": 894,
     "status": "ok",
     "timestamp": 1584261651917,
     "user": {
      "displayName": "Pratik Barjatiya",
      "photoUrl": "https://lh3.googleusercontent.com/a-/AOh14GhnYhbpy4SpE-IWY1hbAvdK5Amz2GXyhYz8Us5uF6E=s64",
      "userId": "11284238611791898048"
     },
     "user_tz": -330
    },
    "id": "gfJ2-q6IVaqI",
    "outputId": "603bb7a3-7d62-4f8f-ba50-7d8795f0d566"
   },
   "outputs": [
    {
     "data": {
      "text/html": [
       "<div>\n",
       "<style scoped>\n",
       "    .dataframe tbody tr th:only-of-type {\n",
       "        vertical-align: middle;\n",
       "    }\n",
       "\n",
       "    .dataframe tbody tr th {\n",
       "        vertical-align: top;\n",
       "    }\n",
       "\n",
       "    .dataframe thead th {\n",
       "        text-align: right;\n",
       "    }\n",
       "</style>\n",
       "<table border=\"1\" class=\"dataframe\">\n",
       "  <thead>\n",
       "    <tr style=\"text-align: right;\">\n",
       "      <th></th>\n",
       "      <th>device_id</th>\n",
       "      <th>phone_brand</th>\n",
       "      <th>device_model</th>\n",
       "    </tr>\n",
       "  </thead>\n",
       "  <tbody>\n",
       "    <tr>\n",
       "      <th>0</th>\n",
       "      <td>1877775838486905855</td>\n",
       "      <td>vivo</td>\n",
       "      <td>Y13</td>\n",
       "    </tr>\n",
       "    <tr>\n",
       "      <th>1</th>\n",
       "      <td>-3766087376657242966</td>\n",
       "      <td>小米</td>\n",
       "      <td>V183</td>\n",
       "    </tr>\n",
       "    <tr>\n",
       "      <th>2</th>\n",
       "      <td>-6238937574958215831</td>\n",
       "      <td>OPPO</td>\n",
       "      <td>R7s</td>\n",
       "    </tr>\n",
       "    <tr>\n",
       "      <th>3</th>\n",
       "      <td>8973197758510677470</td>\n",
       "      <td>三星</td>\n",
       "      <td>A368t</td>\n",
       "    </tr>\n",
       "    <tr>\n",
       "      <th>4</th>\n",
       "      <td>-2015528097870762664</td>\n",
       "      <td>小米</td>\n",
       "      <td>红米Note2</td>\n",
       "    </tr>\n",
       "  </tbody>\n",
       "</table>\n",
       "</div>"
      ],
      "text/plain": [
       "             device_id phone_brand device_model\n",
       "0  1877775838486905855        vivo          Y13\n",
       "1 -3766087376657242966          小米         V183\n",
       "2 -6238937574958215831        OPPO          R7s\n",
       "3  8973197758510677470          三星        A368t\n",
       "4 -2015528097870762664          小米      红米Note2"
      ]
     },
     "execution_count": 32,
     "metadata": {},
     "output_type": "execute_result"
    }
   ],
   "source": [
    "df_phone_brand_device_model.head()"
   ]
  },
  {
   "cell_type": "markdown",
   "metadata": {
    "colab_type": "text",
    "id": "j_P-cP8UVaqN"
   },
   "source": [
    "**Observations** There are Chineese names for phone_brand & device_model which needs treatment"
   ]
  },
  {
   "cell_type": "code",
   "execution_count": 33,
   "metadata": {
    "colab": {},
    "colab_type": "code",
    "id": "2rc28KvPVaqb"
   },
   "outputs": [],
   "source": [
    "brands_in_chinese = ['华为','小米','三星','魅族','酷派','乐视','联想 ','vivo','OPPO','HTC','LG','TCL','LOGO','Lovme','ZUK','PPTV','努比亚','海信','天语','夏新','欧比', '优米', '欧博信', '奇酷', '锤子', '酷比魔方', '语信', '朵唯', '德赛', '一加',\n",
    "       '华硕', '普耐尔', '易派', '摩托罗拉', '优购', '酷珀', '梦米', '爱派尔', '昂达', '邦华',\n",
    "       '聆韵', '中国移动', '诺亚信', '酷比', '艾优尼', '斐讯', '富可视', '欧新', '美图', '宝捷讯',\n",
    "       '青橙', '果米', '波导', '诺基亚', '神舟', '糯米', '亿通', '纽曼', '唯米', '百立丰',\n",
    "       '沃普丰', '虾米', '凯利通', '贝尔丰', '至尊宝', '蓝魔', '青葱', '白米', '大可乐', '尼比鲁',\n",
    "       '康佳', '乡米', '黑米', '海尔', '优语', '维图', '米歌', '广信', 'E派', '小杨树', '糖葫芦',\n",
    "       '西米', '谷歌', '长虹', '飞利浦', '惠普', '台电', '大Q', '鲜米', '先锋', '欧奇']\n",
    "brands_in_english = ['Huawei','Xiaomi','Samsung','Meizu','Coolpad','LeEco','Lenovo','vivo','OPPO','HTC','LG','TCL','LOGO','Lovme','ZUK','PPTV','Nubia','Hisense','Amagatarai','Amoi','Obi', 'Youmi', 'Obson', 'Qiku', 'Hammer', 'Cubei Cube', 'Letters', 'Duowei', 'Desai', 'One Plus','ASUS', 'Punale', 'Yipai', 'Motorola', 'Yougo', 'Cooper', 'Mengmi', 'Aipair', 'Onda', 'Banghua', 'Lingyun', 'China Mobile', 'Noah',' Coolby ',' Aiyouni ',' Feixun ',' Focus', 'Ou Xin', 'Meitu', 'Projet News','Green Orange', 'Fruit Rice', 'Flyer', 'Nokia', 'Shenzhou', 'Glutinous Rice', 'Yi Tong', 'Newman', 'Wei Mi', 'Bai Li Feng','Wopfung', 'Shrimp', 'Kellystone', 'Bellfonte', 'Extreme Treasure', 'Blue Devils', 'Scallion', 'White Rice', 'Big Cola', 'Nibiru','Kangjia', 'Xianmi', 'Black Rice', 'Haier', 'Youyu', 'Weitu', 'Mi Ge', 'Guangxin', 'E-Pay', 'Little Poplar', ' Candied ','Simi', 'Google', 'Changhong', 'Philips', 'HP', 'Taipower', 'Big Q', 'Fresh Rice', 'Pioneer', 'Ouqi']\n",
    "\n",
    "brands_dict1 = dict(zip(brands_in_chinese, brands_in_english)) \n"
   ]
  },
  {
   "cell_type": "code",
   "execution_count": 34,
   "metadata": {
    "colab": {},
    "colab_type": "code",
    "id": "wVyODrhrVaqf"
   },
   "outputs": [],
   "source": [
    "def translator(val):\n",
    "    if val in brands_dict1:\n",
    "        return brands_dict1[val]\n",
    "    else:\n",
    "        return val"
   ]
  },
  {
   "cell_type": "code",
   "execution_count": 35,
   "metadata": {
    "colab": {},
    "colab_type": "code",
    "id": "iWXQHPh3Vaqi"
   },
   "outputs": [],
   "source": [
    "df_phone_brand_device_model.phone_brand = df_phone_brand_device_model.phone_brand.apply(translator)"
   ]
  },
  {
   "cell_type": "code",
   "execution_count": 36,
   "metadata": {
    "colab": {
     "base_uri": "https://localhost:8080/",
     "height": 206
    },
    "colab_type": "code",
    "executionInfo": {
     "elapsed": 888,
     "status": "ok",
     "timestamp": 1584261674255,
     "user": {
      "displayName": "Pratik Barjatiya",
      "photoUrl": "https://lh3.googleusercontent.com/a-/AOh14GhnYhbpy4SpE-IWY1hbAvdK5Amz2GXyhYz8Us5uF6E=s64",
      "userId": "11284238611791898048"
     },
     "user_tz": -330
    },
    "id": "yiDZmGdKVaqm",
    "outputId": "5071a60b-aea7-46ce-dae8-9742907e0d42"
   },
   "outputs": [
    {
     "data": {
      "text/html": [
       "<div>\n",
       "<style scoped>\n",
       "    .dataframe tbody tr th:only-of-type {\n",
       "        vertical-align: middle;\n",
       "    }\n",
       "\n",
       "    .dataframe tbody tr th {\n",
       "        vertical-align: top;\n",
       "    }\n",
       "\n",
       "    .dataframe thead th {\n",
       "        text-align: right;\n",
       "    }\n",
       "</style>\n",
       "<table border=\"1\" class=\"dataframe\">\n",
       "  <thead>\n",
       "    <tr style=\"text-align: right;\">\n",
       "      <th></th>\n",
       "      <th>device_id</th>\n",
       "      <th>phone_brand</th>\n",
       "      <th>device_model</th>\n",
       "    </tr>\n",
       "  </thead>\n",
       "  <tbody>\n",
       "    <tr>\n",
       "      <th>0</th>\n",
       "      <td>1877775838486905855</td>\n",
       "      <td>vivo</td>\n",
       "      <td>Y13</td>\n",
       "    </tr>\n",
       "    <tr>\n",
       "      <th>1</th>\n",
       "      <td>-3766087376657242966</td>\n",
       "      <td>Xiaomi</td>\n",
       "      <td>V183</td>\n",
       "    </tr>\n",
       "    <tr>\n",
       "      <th>2</th>\n",
       "      <td>-6238937574958215831</td>\n",
       "      <td>OPPO</td>\n",
       "      <td>R7s</td>\n",
       "    </tr>\n",
       "    <tr>\n",
       "      <th>3</th>\n",
       "      <td>8973197758510677470</td>\n",
       "      <td>Samsung</td>\n",
       "      <td>A368t</td>\n",
       "    </tr>\n",
       "    <tr>\n",
       "      <th>4</th>\n",
       "      <td>-2015528097870762664</td>\n",
       "      <td>Xiaomi</td>\n",
       "      <td>红米Note2</td>\n",
       "    </tr>\n",
       "  </tbody>\n",
       "</table>\n",
       "</div>"
      ],
      "text/plain": [
       "             device_id phone_brand device_model\n",
       "0  1877775838486905855        vivo          Y13\n",
       "1 -3766087376657242966      Xiaomi         V183\n",
       "2 -6238937574958215831        OPPO          R7s\n",
       "3  8973197758510677470     Samsung        A368t\n",
       "4 -2015528097870762664      Xiaomi      红米Note2"
      ]
     },
     "execution_count": 36,
     "metadata": {},
     "output_type": "execute_result"
    }
   ],
   "source": [
    "df_phone_brand_device_model.head()"
   ]
  },
  {
   "cell_type": "code",
   "execution_count": 37,
   "metadata": {
    "colab": {
     "base_uri": "https://localhost:8080/",
     "height": 208
    },
    "colab_type": "code",
    "executionInfo": {
     "elapsed": 654,
     "status": "ok",
     "timestamp": 1584261675502,
     "user": {
      "displayName": "Pratik Barjatiya",
      "photoUrl": "https://lh3.googleusercontent.com/a-/AOh14GhnYhbpy4SpE-IWY1hbAvdK5Amz2GXyhYz8Us5uF6E=s64",
      "userId": "11284238611791898048"
     },
     "user_tz": -330
    },
    "id": "DFofug-wVaqz",
    "outputId": "20ed7be8-ceab-48fb-9202-b31f9d960d23"
   },
   "outputs": [
    {
     "data": {
      "text/plain": [
       "Xiaomi     21645\n",
       "Samsung    19211\n",
       "Huawei     15181\n",
       "vivo        7596\n",
       "OPPO        6717\n",
       "Meizu       5531\n",
       "Coolpad     3979\n",
       "HTC         1272\n",
       "Lenovo       982\n",
       "LeEco        841\n",
       "Name: phone_brand, dtype: int64"
      ]
     },
     "execution_count": 37,
     "metadata": {},
     "output_type": "execute_result"
    }
   ],
   "source": [
    "df_phone_brand_device_model['phone_brand'].value_counts().head(10)"
   ]
  },
  {
   "cell_type": "code",
   "execution_count": 38,
   "metadata": {
    "colab": {
     "base_uri": "https://localhost:8080/",
     "height": 343
    },
    "colab_type": "code",
    "executionInfo": {
     "elapsed": 1047,
     "status": "ok",
     "timestamp": 1584261679022,
     "user": {
      "displayName": "Pratik Barjatiya",
      "photoUrl": "https://lh3.googleusercontent.com/a-/AOh14GhnYhbpy4SpE-IWY1hbAvdK5Amz2GXyhYz8Us5uF6E=s64",
      "userId": "11284238611791898048"
     },
     "user_tz": -330
    },
    "id": "cevaHrcnVaq5",
    "outputId": "3477a7b4-72b5-4565-c08c-f34819c79848"
   },
   "outputs": [
    {
     "data": {
      "text/plain": [
       "Text(0.5, 0, 'Phone Brands')"
      ]
     },
     "execution_count": 38,
     "metadata": {},
     "output_type": "execute_result"
    },
    {
     "data": {
      "image/png": "[encoded data removed]",
      "text/plain": [
       "<Figure size 1080x360 with 1 Axes>"
      ]
     },
     "metadata": {},
     "output_type": "display_data"
    }
   ],
   "source": [
    "plt.figure(figsize=(15,5))\n",
    "df_phone_brand_device_model['phone_brand'].value_counts().head(10).plot.bar()\n",
    "plt.ylabel(\"# Count\")\n",
    "plt.xlabel(\"Phone Brands\")"
   ]
  },
  {
   "cell_type": "code",
   "execution_count": 39,
   "metadata": {
    "colab": {
     "base_uri": "https://localhost:8080/",
     "height": 208
    },
    "colab_type": "code",
    "executionInfo": {
     "elapsed": 921,
     "status": "ok",
     "timestamp": 1584261681736,
     "user": {
      "displayName": "Pratik Barjatiya",
      "photoUrl": "https://lh3.googleusercontent.com/a-/AOh14GhnYhbpy4SpE-IWY1hbAvdK5Amz2GXyhYz8Us5uF6E=s64",
      "userId": "11284238611791898048"
     },
     "user_tz": -330
    },
    "id": "kmq8SPZGVaq-",
    "outputId": "96b4b4e3-bf33-48d8-85c6-c6a71437dd6a"
   },
   "outputs": [
    {
     "data": {
      "text/plain": [
       "红米note           3500\n",
       "MI 3             2739\n",
       "MI 2S            2547\n",
       "Galaxy Note 3    2378\n",
       "MI 4             2256\n",
       "Galaxy S4        1910\n",
       "Galaxy Note 2    1877\n",
       "荣耀6              1471\n",
       "荣耀畅玩4X           1279\n",
       "荣耀3C             1206\n",
       "Name: device_model, dtype: int64"
      ]
     },
     "execution_count": 39,
     "metadata": {},
     "output_type": "execute_result"
    }
   ],
   "source": [
    "df_phone_brand_device_model['device_model'].value_counts().head(10)"
   ]
  },
  {
   "cell_type": "code",
   "execution_count": 40,
   "metadata": {
    "colab": {},
    "colab_type": "code",
    "id": "g36rv8B5VarC"
   },
   "outputs": [],
   "source": [
    "df_phone_brand_device_model['device_model'].replace({'红米note': 'Redmi note', '荣耀6 plus': 'Redmi 1S', '天鉴W900S': 'Tianjian W900S','乐檬X3': 'Music lemon X3', '荣耀6': 'Glory 6', '荣耀畅玩4X': 'Honor Play 4X', '荣耀3C': 'Glory 3C', '荣耀6 Plus':'Honor 6 Plus' }, inplace=True)"
   ]
  },
  {
   "cell_type": "code",
   "execution_count": 41,
   "metadata": {
    "colab": {
     "base_uri": "https://localhost:8080/",
     "height": 370
    },
    "colab_type": "code",
    "executionInfo": {
     "elapsed": 993,
     "status": "ok",
     "timestamp": 1584261687519,
     "user": {
      "displayName": "Pratik Barjatiya",
      "photoUrl": "https://lh3.googleusercontent.com/a-/AOh14GhnYhbpy4SpE-IWY1hbAvdK5Amz2GXyhYz8Us5uF6E=s64",
      "userId": "11284238611791898048"
     },
     "user_tz": -330
    },
    "id": "awuQohV5VarG",
    "outputId": "2e6ac07f-e704-4309-8d99-860733596858"
   },
   "outputs": [
    {
     "data": {
      "text/plain": [
       "Text(0.5, 0, 'Device Models')"
      ]
     },
     "execution_count": 41,
     "metadata": {},
     "output_type": "execute_result"
    },
    {
     "data": {
      "image/png": "[encoded data removed]",
      "text/plain": [
       "<Figure size 1080x360 with 1 Axes>"
      ]
     },
     "metadata": {},
     "output_type": "display_data"
    }
   ],
   "source": [
    "plt.figure(figsize=(15,5))\n",
    "df_phone_brand_device_model['device_model'].value_counts().head(10).plot.bar()\n",
    "plt.ylabel(\"# Count\")\n",
    "plt.xlabel(\"Device Models\")"
   ]
  },
  {
   "cell_type": "code",
   "execution_count": 42,
   "metadata": {
    "colab": {
     "base_uri": "https://localhost:8080/",
     "height": 503
    },
    "colab_type": "code",
    "executionInfo": {
     "elapsed": 883,
     "status": "ok",
     "timestamp": 1584261689917,
     "user": {
      "displayName": "Pratik Barjatiya",
      "photoUrl": "https://lh3.googleusercontent.com/a-/AOh14GhnYhbpy4SpE-IWY1hbAvdK5Amz2GXyhYz8Us5uF6E=s64",
      "userId": "11284238611791898048"
     },
     "user_tz": -330
    },
    "id": "rGGG40qZVarJ",
    "outputId": "2bd6081a-a4ef-47c2-83bf-cbefe1bda54a"
   },
   "outputs": [
    {
     "name": "stdout",
     "output_type": "stream",
     "text": [
      "----- vivo ------\n",
      "X3T      425\n",
      "X5Pro    401\n",
      "X3L      333\n",
      "Xplay    293\n",
      "X5SL     279\n",
      "Name: device_model, dtype: int64\n",
      "----- Xiaomi ------\n",
      "Redmi note    3500\n",
      "MI 3          2739\n",
      "MI 2S         2547\n",
      "MI 4          2256\n",
      "红米1S          1191\n",
      "Name: device_model, dtype: int64\n",
      "----- OPPO ------\n",
      "R7         663\n",
      "R7 Plus    459\n",
      "R7s        423\n",
      "Find 7     381\n",
      "R3         335\n",
      "Name: device_model, dtype: int64\n",
      "----- Samsung ------\n",
      "Galaxy Note 3    2378\n",
      "Galaxy S4        1910\n",
      "Galaxy Note 2    1877\n",
      "Galaxy S3        1156\n",
      "Galaxy S5         827\n",
      "Name: device_model, dtype: int64\n"
     ]
    }
   ],
   "source": [
    "for i in df_phone_brand_device_model['phone_brand'].head(10).unique():\n",
    "    print ('-----',i,'------')\n",
    "    print (df_phone_brand_device_model[df_phone_brand_device_model['phone_brand']==i]['device_model'].value_counts().head())"
   ]
  },
  {
   "cell_type": "markdown",
   "metadata": {
    "colab_type": "text",
    "id": "4RasaBWbVarO"
   },
   "source": [
    "#### Data Analysis - Events Data"
   ]
  },
  {
   "cell_type": "code",
   "execution_count": 43,
   "metadata": {
    "colab": {
     "base_uri": "https://localhost:8080/",
     "height": 34
    },
    "colab_type": "code",
    "executionInfo": {
     "elapsed": 944,
     "status": "ok",
     "timestamp": 1584261695529,
     "user": {
      "displayName": "Pratik Barjatiya",
      "photoUrl": "https://lh3.googleusercontent.com/a-/AOh14GhnYhbpy4SpE-IWY1hbAvdK5Amz2GXyhYz8Us5uF6E=s64",
      "userId": "11284238611791898048"
     },
     "user_tz": -330
    },
    "id": "PvHmzzFWVarP",
    "outputId": "1201dac7-25ae-46b8-a0de-0e2cace198d1"
   },
   "outputs": [
    {
     "data": {
      "text/plain": [
       "(3252950, 7)"
      ]
     },
     "execution_count": 43,
     "metadata": {},
     "output_type": "execute_result"
    }
   ],
   "source": [
    "df_all_events_data.shape"
   ]
  },
  {
   "cell_type": "code",
   "execution_count": 44,
   "metadata": {
    "colab": {
     "base_uri": "https://localhost:8080/",
     "height": 225
    },
    "colab_type": "code",
    "executionInfo": {
     "elapsed": 875,
     "status": "ok",
     "timestamp": 1584261697169,
     "user": {
      "displayName": "Pratik Barjatiya",
      "photoUrl": "https://lh3.googleusercontent.com/a-/AOh14GhnYhbpy4SpE-IWY1hbAvdK5Amz2GXyhYz8Us5uF6E=s64",
      "userId": "11284238611791898048"
     },
     "user_tz": -330
    },
    "id": "HkKSOIkPVarS",
    "outputId": "15cc852b-e65a-4f09-dbfe-9e7686b25d0a"
   },
   "outputs": [
    {
     "name": "stdout",
     "output_type": "stream",
     "text": [
      "<class 'pandas.core.frame.DataFrame'>\n",
      "RangeIndex: 3252950 entries, 0 to 3252949\n",
      "Data columns (total 7 columns):\n",
      " #   Column     Dtype  \n",
      "---  ------     -----  \n",
      " 0   event_id   int64  \n",
      " 1   device_id  float64\n",
      " 2   timestamp  object \n",
      " 3   longitude  float64\n",
      " 4   latitude   float64\n",
      " 5   city       object \n",
      " 6   state      object \n",
      "dtypes: float64(3), int64(1), object(3)\n",
      "memory usage: 173.7+ MB\n"
     ]
    }
   ],
   "source": [
    "df_all_events_data.info()"
   ]
  },
  {
   "cell_type": "code",
   "execution_count": 45,
   "metadata": {
    "colab": {
     "base_uri": "https://localhost:8080/",
     "height": 300
    },
    "colab_type": "code",
    "executionInfo": {
     "elapsed": 988,
     "status": "ok",
     "timestamp": 1584261699943,
     "user": {
      "displayName": "Pratik Barjatiya",
      "photoUrl": "https://lh3.googleusercontent.com/a-/AOh14GhnYhbpy4SpE-IWY1hbAvdK5Amz2GXyhYz8Us5uF6E=s64",
      "userId": "11284238611791898048"
     },
     "user_tz": -330
    },
    "id": "mDxMP_sfVarV",
    "outputId": "bf6d0ceb-14a1-4d25-d95b-1e9c546272a3"
   },
   "outputs": [
    {
     "data": {
      "text/html": [
       "<div>\n",
       "<style scoped>\n",
       "    .dataframe tbody tr th:only-of-type {\n",
       "        vertical-align: middle;\n",
       "    }\n",
       "\n",
       "    .dataframe tbody tr th {\n",
       "        vertical-align: top;\n",
       "    }\n",
       "\n",
       "    .dataframe thead th {\n",
       "        text-align: right;\n",
       "    }\n",
       "</style>\n",
       "<table border=\"1\" class=\"dataframe\">\n",
       "  <thead>\n",
       "    <tr style=\"text-align: right;\">\n",
       "      <th></th>\n",
       "      <th>event_id</th>\n",
       "      <th>device_id</th>\n",
       "      <th>longitude</th>\n",
       "      <th>latitude</th>\n",
       "    </tr>\n",
       "  </thead>\n",
       "  <tbody>\n",
       "    <tr>\n",
       "      <th>count</th>\n",
       "      <td>3.252950e+06</td>\n",
       "      <td>3.252497e+06</td>\n",
       "      <td>3.252527e+06</td>\n",
       "      <td>3.252527e+06</td>\n",
       "    </tr>\n",
       "    <tr>\n",
       "      <th>mean</th>\n",
       "      <td>1.626476e+06</td>\n",
       "      <td>1.012200e+17</td>\n",
       "      <td>7.815868e+01</td>\n",
       "      <td>2.168851e+01</td>\n",
       "    </tr>\n",
       "    <tr>\n",
       "      <th>std</th>\n",
       "      <td>9.390459e+05</td>\n",
       "      <td>5.316758e+18</td>\n",
       "      <td>4.235570e+00</td>\n",
       "      <td>5.789111e+00</td>\n",
       "    </tr>\n",
       "    <tr>\n",
       "      <th>min</th>\n",
       "      <td>1.000000e+00</td>\n",
       "      <td>-9.222957e+18</td>\n",
       "      <td>1.256700e+01</td>\n",
       "      <td>8.190110e+00</td>\n",
       "    </tr>\n",
       "    <tr>\n",
       "      <th>25%</th>\n",
       "      <td>8.132382e+05</td>\n",
       "      <td>-4.540611e+18</td>\n",
       "      <td>7.583543e+01</td>\n",
       "      <td>1.780171e+01</td>\n",
       "    </tr>\n",
       "    <tr>\n",
       "      <th>50%</th>\n",
       "      <td>1.626476e+06</td>\n",
       "      <td>1.726820e+17</td>\n",
       "      <td>7.726814e+01</td>\n",
       "      <td>2.216454e+01</td>\n",
       "    </tr>\n",
       "    <tr>\n",
       "      <th>75%</th>\n",
       "      <td>2.439713e+06</td>\n",
       "      <td>4.861813e+18</td>\n",
       "      <td>8.031916e+01</td>\n",
       "      <td>2.868278e+01</td>\n",
       "    </tr>\n",
       "    <tr>\n",
       "      <th>max</th>\n",
       "      <td>3.252950e+06</td>\n",
       "      <td>9.222849e+18</td>\n",
       "      <td>9.545946e+01</td>\n",
       "      <td>4.187190e+01</td>\n",
       "    </tr>\n",
       "  </tbody>\n",
       "</table>\n",
       "</div>"
      ],
      "text/plain": [
       "           event_id     device_id     longitude      latitude\n",
       "count  3.252950e+06  3.252497e+06  3.252527e+06  3.252527e+06\n",
       "mean   1.626476e+06  1.012200e+17  7.815868e+01  2.168851e+01\n",
       "std    9.390459e+05  5.316758e+18  4.235570e+00  5.789111e+00\n",
       "min    1.000000e+00 -9.222957e+18  1.256700e+01  8.190110e+00\n",
       "25%    8.132382e+05 -4.540611e+18  7.583543e+01  1.780171e+01\n",
       "50%    1.626476e+06  1.726820e+17  7.726814e+01  2.216454e+01\n",
       "75%    2.439713e+06  4.861813e+18  8.031916e+01  2.868278e+01\n",
       "max    3.252950e+06  9.222849e+18  9.545946e+01  4.187190e+01"
      ]
     },
     "execution_count": 45,
     "metadata": {},
     "output_type": "execute_result"
    }
   ],
   "source": [
    "df_all_events_data.describe()"
   ]
  },
  {
   "cell_type": "code",
   "execution_count": 46,
   "metadata": {
    "colab": {
     "base_uri": "https://localhost:8080/",
     "height": 52
    },
    "colab_type": "code",
    "executionInfo": {
     "elapsed": 1005,
     "status": "ok",
     "timestamp": 1584261701978,
     "user": {
      "displayName": "Pratik Barjatiya",
      "photoUrl": "https://lh3.googleusercontent.com/a-/AOh14GhnYhbpy4SpE-IWY1hbAvdK5Amz2GXyhYz8Us5uF6E=s64",
      "userId": "11284238611791898048"
     },
     "user_tz": -330
    },
    "id": "etcS11RXVara",
    "outputId": "399804b0-06df-4ecb-e01a-4cd76a35931d"
   },
   "outputs": [
    {
     "data": {
      "text/plain": [
       "array(['Pune', 'Visakhapatnam', 'Indore', 'Chennai', 'Delhi',\n",
       "       'Channapatna', 'Jaipur', 'Gangarampur', 'Arambagh'], dtype=object)"
      ]
     },
     "execution_count": 46,
     "metadata": {},
     "output_type": "execute_result"
    }
   ],
   "source": [
    "df_all_events_data[df_all_events_data['state'].isnull()]['city'].unique()"
   ]
  },
  {
   "cell_type": "code",
   "execution_count": 47,
   "metadata": {},
   "outputs": [
    {
     "data": {
      "text/plain": [
       "array([75.882956, 75.888487, 75.846007, 75.923332, 75.992551, 73.862756,\n",
       "       73.860165, 83.357991, 77.292481, 73.926499, 80.343613, 80.309272,\n",
       "       77.274814, 83.371738, 75.95805 , 83.342711, 75.836167, 80.335435,\n",
       "       73.169345, 70.686387, 77.303153])"
      ]
     },
     "execution_count": 47,
     "metadata": {},
     "output_type": "execute_result"
    }
   ],
   "source": [
    "df_all_events_data[df_all_events_data['device_id'].isnull()]['longitude'].unique()"
   ]
  },
  {
   "cell_type": "code",
   "execution_count": 59,
   "metadata": {},
   "outputs": [
    {
     "data": {
      "text/plain": [
       "longitude\n",
       "75.836167    27\n",
       "75.846007    27\n",
       "75.888487    27\n",
       "73.860165    24\n",
       "73.862756    24\n",
       "73.926499    24\n",
       "83.371738    23\n",
       "83.357991    23\n",
       "83.342711    23\n",
       "77.274814    23\n",
       "77.292481    23\n",
       "77.303153    23\n",
       "80.309272    21\n",
       "80.343613    21\n",
       "80.335435    21\n",
       "75.958050    17\n",
       "75.923332    17\n",
       "75.882956    17\n",
       "75.992551    16\n",
       "73.169345    16\n",
       "70.686387    16\n",
       "dtype: int64"
      ]
     },
     "execution_count": 59,
     "metadata": {},
     "output_type": "execute_result"
    }
   ],
   "source": [
    "chk1=df_all_events_data[df_all_events_data['device_id'].isnull()].value_counts(df_all_events_data['longitude'])\n",
    "chk1"
   ]
  },
  {
   "cell_type": "code",
   "execution_count": 48,
   "metadata": {},
   "outputs": [
    {
     "data": {
      "text/plain": [
       "array([22.814519, 26.948689, 26.960796, 22.777781, 31.561747, 18.628057,\n",
       "       18.566925, 17.805195, 28.719966, 18.614812, 13.153332, 13.149176,\n",
       "       28.721053, 17.752819, 22.817526, 17.822906, 26.95399 , 13.189053,\n",
       "       21.194283, 21.790693, 28.728888])"
      ]
     },
     "execution_count": 48,
     "metadata": {},
     "output_type": "execute_result"
    }
   ],
   "source": [
    "df_all_events_data[df_all_events_data['device_id'].isnull()]['latitude'].unique()"
   ]
  },
  {
   "cell_type": "code",
   "execution_count": 60,
   "metadata": {},
   "outputs": [
    {
     "data": {
      "text/plain": [
       "latitude\n",
       "26.960796    27\n",
       "26.953990    27\n",
       "26.948689    27\n",
       "18.628057    24\n",
       "18.566925    24\n",
       "18.614812    24\n",
       "28.728888    23\n",
       "28.721053    23\n",
       "28.719966    23\n",
       "17.822906    23\n",
       "17.805195    23\n",
       "17.752819    23\n",
       "13.153332    21\n",
       "13.189053    21\n",
       "13.149176    21\n",
       "22.777781    17\n",
       "22.814519    17\n",
       "22.817526    17\n",
       "21.790693    16\n",
       "21.194283    16\n",
       "31.561747    16\n",
       "dtype: int64"
      ]
     },
     "execution_count": 60,
     "metadata": {},
     "output_type": "execute_result"
    }
   ],
   "source": [
    "chk2=df_all_events_data[df_all_events_data['device_id'].isnull()].value_counts(df_all_events_data['latitude'])\n",
    "chk2"
   ]
  },
  {
   "cell_type": "code",
   "execution_count": 51,
   "metadata": {},
   "outputs": [
    {
     "name": "stdout",
     "output_type": "stream",
     "text": [
      "         event_id     device_id            timestamp  longitude   latitude  \\\n",
      "742       3104358 -3.130903e+18  2016-05-07 15:30:26  83.371738  17.752819   \n",
      "3203       126364 -3.130903e+18  2016-05-07 08:48:06  83.371738  17.752819   \n",
      "8467        88496 -3.130903e+18  2016-05-06 14:48:52  83.371738  17.752819   \n",
      "9255      2230178 -3.130903e+18  2016-05-07 07:30:19  83.371738  17.752819   \n",
      "9707      2223155 -3.130903e+18  2016-05-06 21:57:48  83.371738  17.752819   \n",
      "...           ...           ...                  ...        ...        ...   \n",
      "3243361   2475027 -3.130903e+18  2016-05-01 10:21:14  83.371738  17.752819   \n",
      "3244411   1588599 -3.130903e+18  2016-05-02 20:22:02  83.371738  17.752819   \n",
      "3245101   2377514 -3.130903e+18  2016-05-07 20:10:36  83.371738  17.752819   \n",
      "3247477    263455 -3.130903e+18  2016-05-05 21:02:30  83.371738  17.752819   \n",
      "3250153    245201 -3.130903e+18  2016-05-07 07:38:32  83.371738  17.752819   \n",
      "\n",
      "                  city          state  \n",
      "742      Visakhapatnam  AndhraPradesh  \n",
      "3203     Visakhapatnam  AndhraPradesh  \n",
      "8467     Visakhapatnam  AndhraPradesh  \n",
      "9255     Visakhapatnam  AndhraPradesh  \n",
      "9707     Visakhapatnam  AndhraPradesh  \n",
      "...                ...            ...  \n",
      "3243361  Visakhapatnam  AndhraPradesh  \n",
      "3244411  Visakhapatnam  AndhraPradesh  \n",
      "3245101  Visakhapatnam  AndhraPradesh  \n",
      "3247477  Visakhapatnam  AndhraPradesh  \n",
      "3250153  Visakhapatnam  AndhraPradesh  \n",
      "\n",
      "[1169 rows x 7 columns]\n"
     ]
    }
   ],
   "source": [
    "print(df_all_events_data[(df_all_events_data['latitude'] == 17.752819)])"
   ]
  },
  {
   "cell_type": "code",
   "execution_count": 52,
   "metadata": {},
   "outputs": [
    {
     "name": "stdout",
     "output_type": "stream",
     "text": [
      "         event_id     device_id            timestamp  longitude   latitude  \\\n",
      "137       2347231  6.844192e+18  2016-05-03 18:17:40  83.357991  17.805195   \n",
      "2408       525618  6.844192e+18  2016-05-04 20:31:53  83.357991  17.805195   \n",
      "16275      424807  6.844192e+18  2016-05-07 16:23:32  83.357991  17.805195   \n",
      "23544     2583596  6.844192e+18  2016-05-05 12:33:39  83.357991  17.805195   \n",
      "28988     1428124  6.844192e+18  2016-05-07 14:49:24  83.357991  17.805195   \n",
      "...           ...           ...                  ...        ...        ...   \n",
      "3238982   2316908  6.844192e+18  2016-05-02 08:18:08  83.357991  17.805195   \n",
      "3239302   1282401  6.844192e+18  2016-05-05 12:01:08  83.357991  17.805195   \n",
      "3240267    306452  6.844192e+18  2016-05-05 12:34:38  83.357991  17.805195   \n",
      "3248700   1495845  6.844192e+18  2016-05-03 07:45:54  83.357991  17.805195   \n",
      "3251517   2344422  6.844192e+18  2016-05-06 16:10:15  83.357991  17.805195   \n",
      "\n",
      "                  city          state  \n",
      "137      Visakhapatnam  AndhraPradesh  \n",
      "2408     Visakhapatnam  AndhraPradesh  \n",
      "16275    Visakhapatnam  AndhraPradesh  \n",
      "23544    Visakhapatnam  AndhraPradesh  \n",
      "28988    Visakhapatnam  AndhraPradesh  \n",
      "...                ...            ...  \n",
      "3238982  Visakhapatnam  AndhraPradesh  \n",
      "3239302  Visakhapatnam  AndhraPradesh  \n",
      "3240267  Visakhapatnam  AndhraPradesh  \n",
      "3248700  Visakhapatnam  AndhraPradesh  \n",
      "3251517  Visakhapatnam  AndhraPradesh  \n",
      "\n",
      "[1143 rows x 7 columns]\n"
     ]
    }
   ],
   "source": [
    "print(df_all_events_data[(df_all_events_data['latitude'] == 17.805195)])"
   ]
  },
  {
   "cell_type": "code",
   "execution_count": 53,
   "metadata": {},
   "outputs": [
    {
     "name": "stdout",
     "output_type": "stream",
     "text": [
      "         event_id     device_id            timestamp  longitude   latitude  \\\n",
      "2127      1342766  6.619715e+18  2016-05-05 16:27:41  83.342711  17.822906   \n",
      "6805      2555114  6.619715e+18  2016-05-05 13:04:00  83.342711  17.822906   \n",
      "9993       993139  6.619715e+18  2016-05-06 17:25:52  83.342711  17.822906   \n",
      "16569     1695371  6.619715e+18  2016-05-04 19:13:17  83.342711  17.822906   \n",
      "18431     1931871  6.619715e+18  2016-05-07 11:21:23  83.342711  17.822906   \n",
      "...           ...           ...                  ...        ...        ...   \n",
      "3231273   1086406  6.619715e+18  2016-05-06 10:48:03  83.342711  17.822906   \n",
      "3234282   2654350  6.619715e+18  2016-05-06 12:52:24  83.342711  17.822906   \n",
      "3239154    305239  6.619715e+18  2016-05-07 11:52:14  83.342711  17.822906   \n",
      "3249797   1035659  6.619715e+18  2016-05-06 10:09:40  83.342711  17.822906   \n",
      "3249969   2670769  6.619715e+18  2016-05-05 18:20:44  83.342711  17.822906   \n",
      "\n",
      "                  city          state  \n",
      "2127     Visakhapatnam  AndhraPradesh  \n",
      "6805     Visakhapatnam  AndhraPradesh  \n",
      "9993     Visakhapatnam  AndhraPradesh  \n",
      "16569    Visakhapatnam  AndhraPradesh  \n",
      "18431    Visakhapatnam  AndhraPradesh  \n",
      "...                ...            ...  \n",
      "3231273  Visakhapatnam  AndhraPradesh  \n",
      "3234282  Visakhapatnam  AndhraPradesh  \n",
      "3239154  Visakhapatnam  AndhraPradesh  \n",
      "3249797  Visakhapatnam  AndhraPradesh  \n",
      "3249969  Visakhapatnam  AndhraPradesh  \n",
      "\n",
      "[1267 rows x 7 columns]\n"
     ]
    }
   ],
   "source": [
    "print(df_all_events_data[(df_all_events_data['latitude'] == 17.822906)])"
   ]
  },
  {
   "cell_type": "code",
   "execution_count": null,
   "metadata": {},
   "outputs": [],
   "source": [
    "#df_all_events_data.loc[:,(df_all_events_data.dtypes=='float64').values]"
   ]
  },
  {
   "cell_type": "code",
   "execution_count": 56,
   "metadata": {},
   "outputs": [
    {
     "data": {
      "text/plain": [
       "array(['MadhyaPradesh', 'Rajasthan', 'Punjab', 'Maharashtra',\n",
       "       'AndhraPradesh', 'Delhi', 'TamilNadu', 'Gujarat'], dtype=object)"
      ]
     },
     "execution_count": 56,
     "metadata": {},
     "output_type": "execute_result"
    }
   ],
   "source": [
    "df_all_events_data[df_all_events_data['device_id'].isnull()]['state'].unique()"
   ]
  },
  {
   "cell_type": "markdown",
   "metadata": {},
   "source": [
    "- # looks like only 3 device_id can be mapped to missing values"
   ]
  },
  {
   "cell_type": "code",
   "execution_count": 49,
   "metadata": {},
   "outputs": [
    {
     "data": {
      "text/plain": [
       "Delhi                       751733\n",
       "Maharashtra                 677105\n",
       "TamilNadu                   436282\n",
       "AndhraPradesh               321332\n",
       "MadhyaPradesh               232690\n",
       "Rajasthan                   196361\n",
       "WestBengal                  196161\n",
       "Karnataka                    99058\n",
       "UttarPradesh                 94750\n",
       "Gujarat                      42881\n",
       "Bihar                        35472\n",
       "Punjab                       26195\n",
       "Kerala                       23148\n",
       "Haryana                      21053\n",
       "Jharkhand                    18060\n",
       "Orissa                       15904\n",
       "Telangana                    12784\n",
       "Assam                        12021\n",
       "Chhattisgarh                  9754\n",
       "Uttaranchal                   7720\n",
       "JammuandKashmir               5385\n",
       "Goa                           3250\n",
       "Nagaland                      2298\n",
       "Pondicherry                   1741\n",
       "Mizoram                       1613\n",
       "Meghalaya                     1515\n",
       "AndamanandNicobarIslands      1515\n",
       "HimachalPradesh               1409\n",
       "Manipur                        989\n",
       "Chandigarh                     894\n",
       "Tripura                        892\n",
       "ArunachalPradesh               608\n",
       "Name: state, dtype: int64"
      ]
     },
     "execution_count": 49,
     "metadata": {},
     "output_type": "execute_result"
    }
   ],
   "source": [
    "df_all_events_data['state'].value_counts()"
   ]
  },
  {
   "cell_type": "code",
   "execution_count": null,
   "metadata": {},
   "outputs": [],
   "source": [
    "#df_all_events_data[df_all_events_data['device_id'].isnull()]['latitude'].unique()"
   ]
  },
  {
   "cell_type": "markdown",
   "metadata": {
    "colab_type": "text",
    "id": "9UyZnY3qVard"
   },
   "source": [
    "<a id=section201></a>\n",
    "## 2.1 Missing data Imputation \n",
    "\n",
    "We have seen above that in events dataset - `state`, `longitude`, `latitude` and `device_id` have missing values, we will be imputing these"
   ]
  },
  {
   "cell_type": "markdown",
   "metadata": {
    "colab_type": "text",
    "id": "EluenaK0Varf"
   },
   "source": [
    "<a id=section202></a>\n",
    "### 2.1.1 Missing State "
   ]
  },
  {
   "cell_type": "code",
   "execution_count": null,
   "metadata": {
    "colab": {},
    "colab_type": "code",
    "id": "6ayA5BDuVarg"
   },
   "outputs": [],
   "source": [
    "#Replacing null states only for `AndraPradesh`\n",
    "df_all_events_data.loc[(df_all_events_data['city'] =='Visakhapatnam') \\\n",
    "    & (df_all_events_data['state'].isnull()),'state'] = 'AndhraPradesh'\n"
   ]
  },
  {
   "cell_type": "code",
   "execution_count": null,
   "metadata": {
    "colab": {},
    "colab_type": "code",
    "id": "ioVCoKuqVari"
   },
   "outputs": [],
   "source": [
    "l = ['AndhraPradesh', 'Pondicherry', 'Mizoram', 'Andaman and Nicobar Islands', 'Meghalaya', 'HimachalPradesh']\n",
    "#list_of_states = ['WestBengal', 'Karnataka', 'Gujarat', 'Bihar', 'Punjab', 'Kerala']"
   ]
  },
  {
   "cell_type": "code",
   "execution_count": null,
   "metadata": {
    "colab": {},
    "colab_type": "code",
    "id": "Nu7Nt9wXVarm"
   },
   "outputs": [],
   "source": [
    "df_events_data = df_all_events_data.loc[df_all_events_data['state'].isin(l)]"
   ]
  },
  {
   "cell_type": "code",
   "execution_count": null,
   "metadata": {
    "colab": {
     "base_uri": "https://localhost:8080/",
     "height": 34
    },
    "colab_type": "code",
    "executionInfo": {
     "elapsed": 918,
     "status": "ok",
     "timestamp": 1584261723112,
     "user": {
      "displayName": "Pratik Barjatiya",
      "photoUrl": "https://lh3.googleusercontent.com/a-/AOh14GhnYhbpy4SpE-IWY1hbAvdK5Amz2GXyhYz8Us5uF6E=s64",
      "userId": "11284238611791898048"
     },
     "user_tz": -330
    },
    "id": "YMF0814mVarp",
    "outputId": "b1dce507-4289-4708-835c-629ad92b0265"
   },
   "outputs": [],
   "source": [
    "df_events_data.shape"
   ]
  },
  {
   "cell_type": "code",
   "execution_count": null,
   "metadata": {
    "colab": {
     "base_uri": "https://localhost:8080/",
     "height": 225
    },
    "colab_type": "code",
    "executionInfo": {
     "elapsed": 856,
     "status": "ok",
     "timestamp": 1584261724716,
     "user": {
      "displayName": "Pratik Barjatiya",
      "photoUrl": "https://lh3.googleusercontent.com/a-/AOh14GhnYhbpy4SpE-IWY1hbAvdK5Amz2GXyhYz8Us5uF6E=s64",
      "userId": "11284238611791898048"
     },
     "user_tz": -330
    },
    "id": "4Hi8xX0MVart",
    "outputId": "a4b0a8e1-a842-431d-eb75-510d25989764"
   },
   "outputs": [],
   "source": [
    "df_events_data.info()"
   ]
  },
  {
   "cell_type": "code",
   "execution_count": null,
   "metadata": {
    "colab": {
     "base_uri": "https://localhost:8080/",
     "height": 300
    },
    "colab_type": "code",
    "executionInfo": {
     "elapsed": 935,
     "status": "ok",
     "timestamp": 1584261727395,
     "user": {
      "displayName": "Pratik Barjatiya",
      "photoUrl": "https://lh3.googleusercontent.com/a-/AOh14GhnYhbpy4SpE-IWY1hbAvdK5Amz2GXyhYz8Us5uF6E=s64",
      "userId": "11284238611791898048"
     },
     "user_tz": -330
    },
    "id": "fkMXwseaVarx",
    "outputId": "b7f543ab-fd23-4a46-a3e2-e42f10c5b990"
   },
   "outputs": [],
   "source": [
    "df_events_data.describe()"
   ]
  },
  {
   "cell_type": "code",
   "execution_count": null,
   "metadata": {
    "colab": {
     "base_uri": "https://localhost:8080/",
     "height": 394
    },
    "colab_type": "code",
    "executionInfo": {
     "elapsed": 1565,
     "status": "ok",
     "timestamp": 1584261730641,
     "user": {
      "displayName": "Pratik Barjatiya",
      "photoUrl": "https://lh3.googleusercontent.com/a-/AOh14GhnYhbpy4SpE-IWY1hbAvdK5Amz2GXyhYz8Us5uF6E=s64",
      "userId": "11284238611791898048"
     },
     "user_tz": -330
    },
    "id": "Sc0D7Q1MVar3",
    "outputId": "4a382a28-b075-4828-c529-d14e3c32664a"
   },
   "outputs": [],
   "source": [
    "df_events_data.describe(include='all')"
   ]
  },
  {
   "cell_type": "code",
   "execution_count": null,
   "metadata": {
    "colab": {
     "base_uri": "https://localhost:8080/",
     "height": 269
    },
    "colab_type": "code",
    "executionInfo": {
     "elapsed": 925,
     "status": "ok",
     "timestamp": 1584261732576,
     "user": {
      "displayName": "Pratik Barjatiya",
      "photoUrl": "https://lh3.googleusercontent.com/a-/AOh14GhnYhbpy4SpE-IWY1hbAvdK5Amz2GXyhYz8Us5uF6E=s64",
      "userId": "11284238611791898048"
     },
     "user_tz": -330
    },
    "id": "65BP3zdEVar6",
    "outputId": "dff3c031-1903-4a15-cfda-fc89654dcb23"
   },
   "outputs": [],
   "source": [
    "missing_data(df_events_data)"
   ]
  },
  {
   "cell_type": "markdown",
   "metadata": {
    "colab_type": "text",
    "id": "ktaqrH7wVar9"
   },
   "source": [
    "**Observations** NULL values in `device_id`, `latitude` and `longitude`."
   ]
  },
  {
   "cell_type": "markdown",
   "metadata": {
    "colab_type": "text",
    "id": "4dyO-iwlVar9"
   },
   "source": [
    "<a id=section203></a>\n",
    "### 2.1.2 Missing longitude and latitude"
   ]
  },
  {
   "cell_type": "markdown",
   "metadata": {
    "colab_type": "text",
    "id": "Yx6dBnV7Var_"
   },
   "source": [
    "**Replace missing `longitude` and `latitude` with mode values**"
   ]
  },
  {
   "cell_type": "code",
   "execution_count": null,
   "metadata": {
    "colab": {
     "base_uri": "https://localhost:8080/",
     "height": 34
    },
    "colab_type": "code",
    "executionInfo": {
     "elapsed": 1301,
     "status": "ok",
     "timestamp": 1584261740963,
     "user": {
      "displayName": "Pratik Barjatiya",
      "photoUrl": "https://lh3.googleusercontent.com/a-/AOh14GhnYhbpy4SpE-IWY1hbAvdK5Amz2GXyhYz8Us5uF6E=s64",
      "userId": "11284238611791898048"
     },
     "user_tz": -330
    },
    "id": "hVzFEIF0VasA",
    "outputId": "84ee1c1e-27a6-4cd5-9786-e260a0971c4d"
   },
   "outputs": [],
   "source": [
    "df_events_data[df_events_data['longitude'].isnull()]['city'].unique()"
   ]
  },
  {
   "cell_type": "code",
   "execution_count": null,
   "metadata": {
    "colab": {
     "base_uri": "https://localhost:8080/",
     "height": 34
    },
    "colab_type": "code",
    "executionInfo": {
     "elapsed": 1136,
     "status": "ok",
     "timestamp": 1584261743693,
     "user": {
      "displayName": "Pratik Barjatiya",
      "photoUrl": "https://lh3.googleusercontent.com/a-/AOh14GhnYhbpy4SpE-IWY1hbAvdK5Amz2GXyhYz8Us5uF6E=s64",
      "userId": "11284238611791898048"
     },
     "user_tz": -330
    },
    "id": "-47W5cDeVasC",
    "outputId": "d7745e6a-f172-4027-df64-1a765f91c74d"
   },
   "outputs": [],
   "source": [
    "df_events_data[df_events_data['longitude'].isnull()]['state'].unique()"
   ]
  },
  {
   "cell_type": "code",
   "execution_count": null,
   "metadata": {
    "colab": {
     "base_uri": "https://localhost:8080/",
     "height": 206
    },
    "colab_type": "code",
    "executionInfo": {
     "elapsed": 932,
     "status": "ok",
     "timestamp": 1584261745612,
     "user": {
      "displayName": "Pratik Barjatiya",
      "photoUrl": "https://lh3.googleusercontent.com/a-/AOh14GhnYhbpy4SpE-IWY1hbAvdK5Amz2GXyhYz8Us5uF6E=s64",
      "userId": "11284238611791898048"
     },
     "user_tz": -330
    },
    "id": "bjhg9TyQVasF",
    "outputId": "d370bfb7-c2ee-4fca-86ff-2d8116fde32c"
   },
   "outputs": [],
   "source": [
    "pd.reset_option('^display.', silent=True)\n",
    "c = ['state','city','longitude','latitude']\n",
    "l = ['Visakhapatnam']\n",
    "df_events_data[c][df_events_data['city'].isin(l)].groupby(df_events_data['city']).describe()"
   ]
  },
  {
   "cell_type": "code",
   "execution_count": null,
   "metadata": {
    "colab": {
     "base_uri": "https://localhost:8080/",
     "height": 52
    },
    "colab_type": "code",
    "executionInfo": {
     "elapsed": 942,
     "status": "ok",
     "timestamp": 1584261748288,
     "user": {
      "displayName": "Pratik Barjatiya",
      "photoUrl": "https://lh3.googleusercontent.com/a-/AOh14GhnYhbpy4SpE-IWY1hbAvdK5Amz2GXyhYz8Us5uF6E=s64",
      "userId": "11284238611791898048"
     },
     "user_tz": -330
    },
    "id": "zVeePeGTVasH",
    "outputId": "25772159-79f6-412f-b43f-a3bc0b6f9346"
   },
   "outputs": [],
   "source": [
    "Visakhapatnam_latitude_mode = df_events_data['latitude'][df_events_data['city'] == 'Visakhapatnam'].mode()\n",
    "Visakhapatnam_latitude_mode"
   ]
  },
  {
   "cell_type": "code",
   "execution_count": null,
   "metadata": {
    "colab": {
     "base_uri": "https://localhost:8080/",
     "height": 52
    },
    "colab_type": "code",
    "executionInfo": {
     "elapsed": 993,
     "status": "ok",
     "timestamp": 1584261754739,
     "user": {
      "displayName": "Pratik Barjatiya",
      "photoUrl": "https://lh3.googleusercontent.com/a-/AOh14GhnYhbpy4SpE-IWY1hbAvdK5Amz2GXyhYz8Us5uF6E=s64",
      "userId": "11284238611791898048"
     },
     "user_tz": -330
    },
    "id": "Nu3np8zuVasT",
    "outputId": "184e02b7-424d-44be-a4b2-1407aa759bcd"
   },
   "outputs": [],
   "source": [
    "Visakhapatnam_longitude_mode = df_events_data['longitude'][df_events_data['city'] == 'Visakhapatnam'].mode()\n",
    "Visakhapatnam_longitude_mode"
   ]
  },
  {
   "cell_type": "code",
   "execution_count": null,
   "metadata": {
    "colab": {},
    "colab_type": "code",
    "id": "IWyhj9FEVase"
   },
   "outputs": [],
   "source": [
    "df_events_data_copy = df_events_data"
   ]
  },
  {
   "cell_type": "code",
   "execution_count": null,
   "metadata": {
    "colab": {
     "base_uri": "https://localhost:8080/",
     "height": 34
    },
    "colab_type": "code",
    "executionInfo": {
     "elapsed": 772,
     "status": "ok",
     "timestamp": 1584261762971,
     "user": {
      "displayName": "Pratik Barjatiya",
      "photoUrl": "https://lh3.googleusercontent.com/a-/AOh14GhnYhbpy4SpE-IWY1hbAvdK5Amz2GXyhYz8Us5uF6E=s64",
      "userId": "11284238611791898048"
     },
     "user_tz": -330
    },
    "id": "84XND6kWVasi",
    "outputId": "22cec071-a04c-40db-e65a-ef739d496eae"
   },
   "outputs": [],
   "source": [
    "df_events_data_copy.shape"
   ]
  },
  {
   "cell_type": "code",
   "execution_count": null,
   "metadata": {},
   "outputs": [],
   "source": []
  },
  {
   "cell_type": "code",
   "execution_count": null,
   "metadata": {
    "colab": {
     "base_uri": "https://localhost:8080/",
     "height": 121
    },
    "colab_type": "code",
    "executionInfo": {
     "elapsed": 1393,
     "status": "ok",
     "timestamp": 1584261766506,
     "user": {
      "displayName": "Pratik Barjatiya",
      "photoUrl": "https://lh3.googleusercontent.com/a-/AOh14GhnYhbpy4SpE-IWY1hbAvdK5Amz2GXyhYz8Us5uF6E=s64",
      "userId": "11284238611791898048"
     },
     "user_tz": -330
    },
    "id": "CtJlpTClVasm",
    "outputId": "34005bce-178c-4107-f073-df938e1c7048"
   },
   "outputs": [],
   "source": [
    "#Replacing missing longitude & latitude in `Araria`,`Bagaha` & `Moga`\n",
    "pd.options.display.float_format = '{:30,.1f}'.format\n",
    "df_events_data.loc[(df_events_data['city'] =='Visakhapatnam') \\\n",
    "                   & (df_events_data['longitude'].isnull()),'longitude']= '83.326714'\n"
   ]
  },
  {
   "cell_type": "code",
   "execution_count": null,
   "metadata": {},
   "outputs": [],
   "source": [
    "pd.options.display.float_format = '{:30,.1f}'.format\n",
    "df_events_data.loc[(df_events_data['city'] =='Visakhapatnam') \\\n",
    "                   & (df_events_data['latitude'].isnull()),'latitude']= '17.829748'\n"
   ]
  },
  {
   "cell_type": "code",
   "execution_count": null,
   "metadata": {
    "colab": {
     "base_uri": "https://localhost:8080/",
     "height": 206
    },
    "colab_type": "code",
    "executionInfo": {
     "elapsed": 871,
     "status": "ok",
     "timestamp": 1584261770462,
     "user": {
      "displayName": "Pratik Barjatiya",
      "photoUrl": "https://lh3.googleusercontent.com/a-/AOh14GhnYhbpy4SpE-IWY1hbAvdK5Amz2GXyhYz8Us5uF6E=s64",
      "userId": "11284238611791898048"
     },
     "user_tz": -330
    },
    "id": "0S1WEgR-Vasp",
    "outputId": "ee395ab0-0b1d-4706-8d7b-63d0ddbbd202"
   },
   "outputs": [],
   "source": [
    "df_events_data.head()"
   ]
  },
  {
   "cell_type": "markdown",
   "metadata": {
    "colab_type": "text",
    "id": "CZ-DqkWRVass"
   },
   "source": [
    "<a id=section204></a>\n",
    "### 2.1.3 Missing Device_ID"
   ]
  },
  {
   "cell_type": "code",
   "execution_count": null,
   "metadata": {
    "colab": {
     "base_uri": "https://localhost:8080/",
     "height": 34
    },
    "colab_type": "code",
    "executionInfo": {
     "elapsed": 879,
     "status": "ok",
     "timestamp": 1584261776531,
     "user": {
      "displayName": "Pratik Barjatiya",
      "photoUrl": "https://lh3.googleusercontent.com/a-/AOh14GhnYhbpy4SpE-IWY1hbAvdK5Amz2GXyhYz8Us5uF6E=s64",
      "userId": "11284238611791898048"
     },
     "user_tz": -330
    },
    "id": "e10M_gmmVast",
    "outputId": "507b4935-5ef4-4af9-9bb4-c2d43d10b37b"
   },
   "outputs": [],
   "source": [
    "df_events_data[df_events_data['device_id'].isnull()]['city'].unique()"
   ]
  },
  {
   "cell_type": "code",
   "execution_count": null,
   "metadata": {
    "colab": {
     "base_uri": "https://localhost:8080/",
     "height": 175
    },
    "colab_type": "code",
    "executionInfo": {
     "elapsed": 1008,
     "status": "ok",
     "timestamp": 1584261778153,
     "user": {
      "displayName": "Pratik Barjatiya",
      "photoUrl": "https://lh3.googleusercontent.com/a-/AOh14GhnYhbpy4SpE-IWY1hbAvdK5Amz2GXyhYz8Us5uF6E=s64",
      "userId": "11284238611791898048"
     },
     "user_tz": -330
    },
    "id": "t3GJvzf1Vasw",
    "outputId": "08d83730-3359-4c41-ab9e-15831ea5e5c6",
    "scrolled": true
   },
   "outputs": [],
   "source": [
    "df_events_data[df_events_data['device_id'].isnull()].groupby(df_events_data['city']).count()"
   ]
  },
  {
   "cell_type": "markdown",
   "metadata": {
    "colab_type": "text",
    "id": "_rHKMggCVas2"
   },
   "source": [
    "**Replace missing `device_id` with mode values**"
   ]
  },
  {
   "cell_type": "code",
   "execution_count": null,
   "metadata": {
    "colab": {
     "base_uri": "https://localhost:8080/",
     "height": 52
    },
    "colab_type": "code",
    "executionInfo": {
     "elapsed": 848,
     "status": "ok",
     "timestamp": 1584261780615,
     "user": {
      "displayName": "Pratik Barjatiya",
      "photoUrl": "https://lh3.googleusercontent.com/a-/AOh14GhnYhbpy4SpE-IWY1hbAvdK5Amz2GXyhYz8Us5uF6E=s64",
      "userId": "11284238611791898048"
     },
     "user_tz": -330
    },
    "id": "RDyWtpDHVas3",
    "outputId": "f40d150e-4840-4eef-c77c-f79c4bdf65e5"
   },
   "outputs": [],
   "source": [
    "pd.options.display.float_format = '{:30,.1f}'.format\n",
    "df_events_data['device_id'][df_events_data['city']=='Visakhapatnam'].mode()"
   ]
  },
  {
   "cell_type": "code",
   "execution_count": null,
   "metadata": {
    "colab": {
     "base_uri": "https://localhost:8080/",
     "height": 121
    },
    "colab_type": "code",
    "executionInfo": {
     "elapsed": 896,
     "status": "ok",
     "timestamp": 1584261787164,
     "user": {
      "displayName": "Pratik Barjatiya",
      "photoUrl": "https://lh3.googleusercontent.com/a-/AOh14GhnYhbpy4SpE-IWY1hbAvdK5Amz2GXyhYz8Us5uF6E=s64",
      "userId": "11284238611791898048"
     },
     "user_tz": -330
    },
    "id": "QEuDR81TVatB",
    "outputId": "3f295f9b-ae3d-4a06-935d-899fef4964cc"
   },
   "outputs": [],
   "source": [
    "#Replacing missing `device_id` in Jetpur, Bardoli and Hoshiarpur\n",
    "pd.options.display.float_format = '{:30,.1f}'.format\n",
    "df_events_data.loc[(df_events_data['city'] =='Visakhapatnam') \\\n",
    "                   & (df_events_data['device_id'].isnull()),'device_id']= '3,137,053,756,433,768,448'\n"
   ]
  },
  {
   "cell_type": "code",
   "execution_count": null,
   "metadata": {
    "colab": {
     "base_uri": "https://localhost:8080/",
     "height": 175
    },
    "colab_type": "code",
    "executionInfo": {
     "elapsed": 877,
     "status": "ok",
     "timestamp": 1584261790967,
     "user": {
      "displayName": "Pratik Barjatiya",
      "photoUrl": "https://lh3.googleusercontent.com/a-/AOh14GhnYhbpy4SpE-IWY1hbAvdK5Amz2GXyhYz8Us5uF6E=s64",
      "userId": "11284238611791898048"
     },
     "user_tz": -330
    },
    "id": "R8MfOluOVatD",
    "outputId": "d33fcc5e-157f-4b21-b98b-4f36e0076367"
   },
   "outputs": [],
   "source": [
    "ll = ['Visakhapatnam']\n",
    "df_events_data[df_events_data['city'].isin(ll)].groupby(df_events_data['city']).count()"
   ]
  },
  {
   "cell_type": "code",
   "execution_count": null,
   "metadata": {
    "colab": {
     "base_uri": "https://localhost:8080/",
     "height": 269
    },
    "colab_type": "code",
    "executionInfo": {
     "elapsed": 990,
     "status": "ok",
     "timestamp": 1584261793832,
     "user": {
      "displayName": "Pratik Barjatiya",
      "photoUrl": "https://lh3.googleusercontent.com/a-/AOh14GhnYhbpy4SpE-IWY1hbAvdK5Amz2GXyhYz8Us5uF6E=s64",
      "userId": "11284238611791898048"
     },
     "user_tz": -330
    },
    "id": "gZ20aQsUVatH",
    "outputId": "2eea4a95-c256-43c6-f502-9fe9eb2fce84"
   },
   "outputs": [],
   "source": [
    "missing_data(df_events_data)"
   ]
  },
  {
   "cell_type": "code",
   "execution_count": null,
   "metadata": {},
   "outputs": [],
   "source": [
    "df_events_data.info(verbose = True, memory_usage = 'deep', show_counts = True)"
   ]
  },
  {
   "cell_type": "markdown",
   "metadata": {
    "colab_type": "text",
    "id": "CRFzZfuiVatK"
   },
   "source": [
    "<a id=section205></a>\n",
    "### 2.2 Anomaly Detection [Outliers] "
   ]
  },
  {
   "cell_type": "code",
   "execution_count": null,
   "metadata": {
    "colab": {
     "base_uri": "https://localhost:8080/",
     "height": 121
    },
    "colab_type": "code",
    "executionInfo": {
     "elapsed": 866,
     "status": "ok",
     "timestamp": 1584261798828,
     "user": {
      "displayName": "Pratik Barjatiya",
      "photoUrl": "https://lh3.googleusercontent.com/a-/AOh14GhnYhbpy4SpE-IWY1hbAvdK5Amz2GXyhYz8Us5uF6E=s64",
      "userId": "11284238611791898048"
     },
     "user_tz": -330
    },
    "id": "Td0v0r8aVatL",
    "outputId": "23716fcf-88c9-45ae-e4ac-2a3afa939b9f"
   },
   "outputs": [],
   "source": [
    "df_events_data.loc[:,'longitude':'latitude']=df_events_data.loc[:,'longitude':'latitude'].astype(float)"
   ]
  },
  {
   "cell_type": "code",
   "execution_count": null,
   "metadata": {
    "colab": {
     "base_uri": "https://localhost:8080/",
     "height": 225
    },
    "colab_type": "code",
    "executionInfo": {
     "elapsed": 881,
     "status": "ok",
     "timestamp": 1584261802321,
     "user": {
      "displayName": "Pratik Barjatiya",
      "photoUrl": "https://lh3.googleusercontent.com/a-/AOh14GhnYhbpy4SpE-IWY1hbAvdK5Amz2GXyhYz8Us5uF6E=s64",
      "userId": "11284238611791898048"
     },
     "user_tz": -330
    },
    "id": "fXLdcZJOVatQ",
    "outputId": "9b1a3e31-5bca-478e-ea11-41e8db678a30"
   },
   "outputs": [],
   "source": [
    "df_events_data.info()"
   ]
  },
  {
   "cell_type": "code",
   "execution_count": null,
   "metadata": {
    "colab": {
     "base_uri": "https://localhost:8080/",
     "height": 302
    },
    "colab_type": "code",
    "executionInfo": {
     "elapsed": 1335,
     "status": "ok",
     "timestamp": 1584261812947,
     "user": {
      "displayName": "Pratik Barjatiya",
      "photoUrl": "https://lh3.googleusercontent.com/a-/AOh14GhnYhbpy4SpE-IWY1hbAvdK5Amz2GXyhYz8Us5uF6E=s64",
      "userId": "11284238611791898048"
     },
     "user_tz": -330
    },
    "id": "mheFNeLOVatU",
    "outputId": "516e5e99-ddc4-498a-b27d-f07642f63b96"
   },
   "outputs": [],
   "source": [
    "plt.figure(figsize=(15,5))\n",
    "plt.hist(df_events_data['longitude'], 20, range, color = 'green', histtype = 'bar', rwidth = 0.8)\n",
    "plt.title('Distribution of Longitude Across Events Data');\n",
    "plt.ylabel(\"# Count\")\n",
    "plt.xlabel(\"Longitude\")"
   ]
  },
  {
   "cell_type": "code",
   "execution_count": null,
   "metadata": {
    "colab": {
     "base_uri": "https://localhost:8080/",
     "height": 302
    },
    "colab_type": "code",
    "executionInfo": {
     "elapsed": 909,
     "status": "ok",
     "timestamp": 1584261816731,
     "user": {
      "displayName": "Pratik Barjatiya",
      "photoUrl": "https://lh3.googleusercontent.com/a-/AOh14GhnYhbpy4SpE-IWY1hbAvdK5Amz2GXyhYz8Us5uF6E=s64",
      "userId": "11284238611791898048"
     },
     "user_tz": -330
    },
    "id": "T6lP84KTVatY",
    "outputId": "c6e41960-911d-4bd9-eb68-123721b36de0"
   },
   "outputs": [],
   "source": [
    "plt.figure(figsize=(15,5))\n",
    "plt.hist(df_events_data['latitude'], 20, range, color = 'green', histtype = 'bar', rwidth = 0.8)\n",
    "plt.title('Distribution of Latitude Across Events Data');\n",
    "plt.ylabel(\"# Count\")\n",
    "plt.xlabel(\"Latitude\")"
   ]
  },
  {
   "cell_type": "code",
   "execution_count": null,
   "metadata": {
    "colab": {
     "base_uri": "https://localhost:8080/",
     "height": 285
    },
    "colab_type": "code",
    "executionInfo": {
     "elapsed": 924,
     "status": "ok",
     "timestamp": 1584261819864,
     "user": {
      "displayName": "Pratik Barjatiya",
      "photoUrl": "https://lh3.googleusercontent.com/a-/AOh14GhnYhbpy4SpE-IWY1hbAvdK5Amz2GXyhYz8Us5uF6E=s64",
      "userId": "11284238611791898048"
     },
     "user_tz": -330
    },
    "id": "XUMEqW1oVatc",
    "outputId": "cb5e8b6c-5669-4efd-ec87-5b4c77f3b550"
   },
   "outputs": [],
   "source": [
    "plt.figure(figsize=(15,5))\n",
    "boxplot = df_events_data.boxplot(column='latitude')\n",
    "plt.title('Boxplot of Latitude Across Events Data');\n",
    "plt.ylabel(\"# Value\")"
   ]
  },
  {
   "cell_type": "code",
   "execution_count": null,
   "metadata": {
    "colab": {
     "base_uri": "https://localhost:8080/",
     "height": 143
    },
    "colab_type": "code",
    "executionInfo": {
     "elapsed": 887,
     "status": "ok",
     "timestamp": 1584261821970,
     "user": {
      "displayName": "Pratik Barjatiya",
      "photoUrl": "https://lh3.googleusercontent.com/a-/AOh14GhnYhbpy4SpE-IWY1hbAvdK5Amz2GXyhYz8Us5uF6E=s64",
      "userId": "11284238611791898048"
     },
     "user_tz": -330
    },
    "id": "eiwoNr4HVatf",
    "outputId": "9b9c2f50-44b8-42b3-cce4-a896374186e3"
   },
   "outputs": [],
   "source": [
    "df_events_data[df_events_data['latitude']>35]"
   ]
  },
  {
   "cell_type": "code",
   "execution_count": null,
   "metadata": {
    "colab": {
     "base_uri": "https://localhost:8080/",
     "height": 52
    },
    "colab_type": "code",
    "executionInfo": {
     "elapsed": 887,
     "status": "ok",
     "timestamp": 1584261823746,
     "user": {
      "displayName": "Pratik Barjatiya",
      "photoUrl": "https://lh3.googleusercontent.com/a-/AOh14GhnYhbpy4SpE-IWY1hbAvdK5Amz2GXyhYz8Us5uF6E=s64",
      "userId": "11284238611791898048"
     },
     "user_tz": -330
    },
    "id": "a9fL8zqEVat1",
    "outputId": "74ebe29e-26c9-4bb0-d3e2-4ab10cddc0a7"
   },
   "outputs": [],
   "source": [
    "df_events_data[df_events_data['city']=='Purnia']['latitude'].mode()"
   ]
  },
  {
   "cell_type": "code",
   "execution_count": null,
   "metadata": {
    "colab": {},
    "colab_type": "code",
    "id": "WSickLcCVat5"
   },
   "outputs": [],
   "source": [
    "mylist = df_events_data[df_events_data['latitude']>35]['event_id'].index.to_list()\n",
    "for i in mylist:\n",
    "    df_events_data.at[i,'latitude']=df_events_data[df_events_data['city']=='Purnia']['latitude'].mode()"
   ]
  },
  {
   "cell_type": "code",
   "execution_count": null,
   "metadata": {
    "colab": {
     "base_uri": "https://localhost:8080/",
     "height": 285
    },
    "colab_type": "code",
    "executionInfo": {
     "elapsed": 918,
     "status": "ok",
     "timestamp": 1584261827881,
     "user": {
      "displayName": "Pratik Barjatiya",
      "photoUrl": "https://lh3.googleusercontent.com/a-/AOh14GhnYhbpy4SpE-IWY1hbAvdK5Amz2GXyhYz8Us5uF6E=s64",
      "userId": "11284238611791898048"
     },
     "user_tz": -330
    },
    "id": "1ulpBZGuVat7",
    "outputId": "98be5042-3b81-4572-a860-d8780d514f97"
   },
   "outputs": [],
   "source": [
    "plt.figure(figsize=(15,5))\n",
    "boxplot = df_events_data.boxplot(column='latitude')\n",
    "plt.title('Boxplot of Latitude Across Events Data');\n",
    "plt.ylabel(\"# Value\")"
   ]
  },
  {
   "cell_type": "code",
   "execution_count": null,
   "metadata": {
    "colab": {
     "base_uri": "https://localhost:8080/",
     "height": 285
    },
    "colab_type": "code",
    "executionInfo": {
     "elapsed": 1074,
     "status": "ok",
     "timestamp": 1584261829576,
     "user": {
      "displayName": "Pratik Barjatiya",
      "photoUrl": "https://lh3.googleusercontent.com/a-/AOh14GhnYhbpy4SpE-IWY1hbAvdK5Amz2GXyhYz8Us5uF6E=s64",
      "userId": "11284238611791898048"
     },
     "user_tz": -330
    },
    "id": "qrX3_uQtVat9",
    "outputId": "c6aa2d57-5041-4622-b9f4-0b4f2c9e45de"
   },
   "outputs": [],
   "source": [
    "plt.figure(figsize=(15,5))\n",
    "boxplot = df_events_data.boxplot(column='longitude')\n",
    "plt.title('Boxplot of Longitude Across Events Data');\n",
    "plt.ylabel(\"# Value\")"
   ]
  },
  {
   "cell_type": "code",
   "execution_count": null,
   "metadata": {
    "colab": {
     "base_uri": "https://localhost:8080/",
     "height": 238
    },
    "colab_type": "code",
    "executionInfo": {
     "elapsed": 929,
     "status": "ok",
     "timestamp": 1584261831761,
     "user": {
      "displayName": "Pratik Barjatiya",
      "photoUrl": "https://lh3.googleusercontent.com/a-/AOh14GhnYhbpy4SpE-IWY1hbAvdK5Amz2GXyhYz8Us5uF6E=s64",
      "userId": "11284238611791898048"
     },
     "user_tz": -330
    },
    "id": "z-30t-0sVauA",
    "outputId": "fe0a9883-66bc-47ea-e3f4-577c9202a82a"
   },
   "outputs": [],
   "source": [
    "df_events_data[df_events_data['longitude']<68]"
   ]
  },
  {
   "cell_type": "code",
   "execution_count": null,
   "metadata": {
    "colab": {
     "base_uri": "https://localhost:8080/",
     "height": 52
    },
    "colab_type": "code",
    "executionInfo": {
     "elapsed": 989,
     "status": "ok",
     "timestamp": 1584261833987,
     "user": {
      "displayName": "Pratik Barjatiya",
      "photoUrl": "https://lh3.googleusercontent.com/a-/AOh14GhnYhbpy4SpE-IWY1hbAvdK5Amz2GXyhYz8Us5uF6E=s64",
      "userId": "11284238611791898048"
     },
     "user_tz": -330
    },
    "id": "gPMyGh34VauD",
    "outputId": "f1708a53-521e-46cb-91af-2f1b56dc378e",
    "scrolled": true
   },
   "outputs": [],
   "source": [
    "df_events_data[df_events_data['city']=='Purnia']['longitude'].mode()"
   ]
  },
  {
   "cell_type": "code",
   "execution_count": null,
   "metadata": {
    "colab": {
     "base_uri": "https://localhost:8080/",
     "height": 52
    },
    "colab_type": "code",
    "executionInfo": {
     "elapsed": 1042,
     "status": "ok",
     "timestamp": 1584261836497,
     "user": {
      "displayName": "Pratik Barjatiya",
      "photoUrl": "https://lh3.googleusercontent.com/a-/AOh14GhnYhbpy4SpE-IWY1hbAvdK5Amz2GXyhYz8Us5uF6E=s64",
      "userId": "11284238611791898048"
     },
     "user_tz": -330
    },
    "id": "4jkx5nKFVauF",
    "outputId": "1813d0e7-8412-468d-82cd-b6088b6993a7"
   },
   "outputs": [],
   "source": [
    "df_events_data[df_events_data['city']=='Ilkal']['longitude'].mode()"
   ]
  },
  {
   "cell_type": "code",
   "execution_count": null,
   "metadata": {
    "colab": {},
    "colab_type": "code",
    "id": "2q0A4x4xVauJ"
   },
   "outputs": [],
   "source": [
    "mylist1 = df_events_data[(df_events_data['longitude']<68) \\\n",
    "                         & (df_events_data['city']=='Purnia')]['event_id'].index.to_list()\n",
    "for i in mylist1:\n",
    "    df_events_data.at[i,'longitude']=df_events_data[df_events_data['city']=='Purnia']['longitude'].mode()\n",
    "    \n",
    "mylist2 = df_events_data[(df_events_data['longitude']<68) \\\n",
    "                         & (df_events_data['city']=='Ilkal')]['event_id'].index.to_list()\n",
    "for i in mylist2:\n",
    "    df_events_data.at[i,'longitude']=df_events_data[df_events_data['city']=='Ilkal']['longitude'].mode()"
   ]
  },
  {
   "cell_type": "code",
   "execution_count": null,
   "metadata": {
    "colab": {
     "base_uri": "https://localhost:8080/",
     "height": 285
    },
    "colab_type": "code",
    "executionInfo": {
     "elapsed": 1378,
     "status": "ok",
     "timestamp": 1584261841972,
     "user": {
      "displayName": "Pratik Barjatiya",
      "photoUrl": "https://lh3.googleusercontent.com/a-/AOh14GhnYhbpy4SpE-IWY1hbAvdK5Amz2GXyhYz8Us5uF6E=s64",
      "userId": "11284238611791898048"
     },
     "user_tz": -330
    },
    "id": "3SjgS8dFVauL",
    "outputId": "427905de-f239-4e2c-918e-24e963dd4979"
   },
   "outputs": [],
   "source": [
    "plt.figure(figsize=(15,5))\n",
    "boxplot = df_events_data.boxplot(column='longitude')\n",
    "plt.title('Boxplot of Longitude Across Events Data');\n",
    "plt.ylabel(\"# Value\")"
   ]
  },
  {
   "cell_type": "code",
   "execution_count": null,
   "metadata": {
    "colab": {},
    "colab_type": "code",
    "id": "8B4bTy2nVauN",
    "outputId": "587194ee-e684-455f-be57-fc06485a8563"
   },
   "outputs": [],
   "source": [
    "plt.figure(figsize=(15,5))\n",
    "range = (0,100)\n",
    "plt.hist(df_events_data['latitude'], 20, range, color = 'green', histtype = 'bar', rwidth = 0.8)\n",
    "plt.title('Distribution of Latitude Across Events Data');\n",
    "plt.ylabel(\"# Count\")\n",
    "plt.xlabel(\"Latitude\")"
   ]
  },
  {
   "cell_type": "code",
   "execution_count": null,
   "metadata": {
    "colab": {
     "base_uri": "https://localhost:8080/",
     "height": 302
    },
    "colab_type": "code",
    "executionInfo": {
     "elapsed": 888,
     "status": "ok",
     "timestamp": 1584261845866,
     "user": {
      "displayName": "Pratik Barjatiya",
      "photoUrl": "https://lh3.googleusercontent.com/a-/AOh14GhnYhbpy4SpE-IWY1hbAvdK5Amz2GXyhYz8Us5uF6E=s64",
      "userId": "11284238611791898048"
     },
     "user_tz": -330
    },
    "id": "KFAT8cKeVauQ",
    "outputId": "747cc8ea-232e-48c2-baa9-22d4c29da716"
   },
   "outputs": [],
   "source": [
    "plt.figure(figsize=(15,5))\n",
    "range = (0,100)\n",
    "plt.hist(df_events_data['longitude'], 20, range, color = 'green', histtype = 'bar', rwidth = 0.8)\n",
    "plt.title('Distribution of Longitude Across Events Data');\n",
    "plt.ylabel(\"# Count\")\n",
    "plt.xlabel(\"Longitude\")"
   ]
  },
  {
   "cell_type": "markdown",
   "metadata": {
    "colab_type": "text",
    "id": "M2s-Z7hNVauT"
   },
   "source": [
    "<a id=section206></a>\n",
    "### 2.3 Merging Datasets - Phone, Gender and Events"
   ]
  },
  {
   "cell_type": "code",
   "execution_count": null,
   "metadata": {
    "colab": {
     "base_uri": "https://localhost:8080/",
     "height": 173
    },
    "colab_type": "code",
    "executionInfo": {
     "elapsed": 1489,
     "status": "ok",
     "timestamp": 1584261852830,
     "user": {
      "displayName": "Pratik Barjatiya",
      "photoUrl": "https://lh3.googleusercontent.com/a-/AOh14GhnYhbpy4SpE-IWY1hbAvdK5Amz2GXyhYz8Us5uF6E=s64",
      "userId": "11284238611791898048"
     },
     "user_tz": -330
    },
    "id": "NNOBkXpBVauV",
    "outputId": "28000295-7867-4831-f86c-eb64291cf807"
   },
   "outputs": [],
   "source": [
    "df_gender_age_train.info()"
   ]
  },
  {
   "cell_type": "code",
   "execution_count": null,
   "metadata": {
    "colab": {
     "base_uri": "https://localhost:8080/",
     "height": 156
    },
    "colab_type": "code",
    "executionInfo": {
     "elapsed": 833,
     "status": "ok",
     "timestamp": 1584261855445,
     "user": {
      "displayName": "Pratik Barjatiya",
      "photoUrl": "https://lh3.googleusercontent.com/a-/AOh14GhnYhbpy4SpE-IWY1hbAvdK5Amz2GXyhYz8Us5uF6E=s64",
      "userId": "11284238611791898048"
     },
     "user_tz": -330
    },
    "id": "gxhHnkJVVauY",
    "outputId": "f406b998-df00-4f24-fecf-c043ab367e05"
   },
   "outputs": [],
   "source": [
    "df_phone_brand_device_model.info()"
   ]
  },
  {
   "cell_type": "code",
   "execution_count": null,
   "metadata": {
    "colab": {
     "base_uri": "https://localhost:8080/",
     "height": 225
    },
    "colab_type": "code",
    "executionInfo": {
     "elapsed": 946,
     "status": "ok",
     "timestamp": 1584261860185,
     "user": {
      "displayName": "Pratik Barjatiya",
      "photoUrl": "https://lh3.googleusercontent.com/a-/AOh14GhnYhbpy4SpE-IWY1hbAvdK5Amz2GXyhYz8Us5uF6E=s64",
      "userId": "11284238611791898048"
     },
     "user_tz": -330
    },
    "id": "eHxuAQ7MVaub",
    "outputId": "355b2850-ed99-40ea-948e-b745c184bb44"
   },
   "outputs": [],
   "source": [
    "df_events_data.info()"
   ]
  },
  {
   "cell_type": "code",
   "execution_count": null,
   "metadata": {
    "colab": {},
    "colab_type": "code",
    "id": "oX13-o1xVaue"
   },
   "outputs": [],
   "source": [
    "df_gender_age_train['device_id']=df_gender_age_train['device_id'].astype(float)"
   ]
  },
  {
   "cell_type": "code",
   "execution_count": null,
   "metadata": {
    "colab": {},
    "colab_type": "code",
    "id": "qUTo-pjUXtRd"
   },
   "outputs": [],
   "source": [
    "df_phone_brand_device_model['device_id']=df_phone_brand_device_model['device_id'].astype(float)"
   ]
  },
  {
   "cell_type": "code",
   "execution_count": null,
   "metadata": {
    "colab": {
     "base_uri": "https://localhost:8080/",
     "height": 121
    },
    "colab_type": "code",
    "executionInfo": {
     "elapsed": 904,
     "status": "ok",
     "timestamp": 1584262011106,
     "user": {
      "displayName": "Pratik Barjatiya",
      "photoUrl": "https://lh3.googleusercontent.com/a-/AOh14GhnYhbpy4SpE-IWY1hbAvdK5Amz2GXyhYz8Us5uF6E=s64",
      "userId": "11284238611791898048"
     },
     "user_tz": -330
    },
    "id": "WzTc1-twX5mW",
    "outputId": "f3ca2ad7-68f9-47f6-bfdc-b9e155ce9037"
   },
   "outputs": [],
   "source": [
    "df_events_data['device_id']=df_events_data['device_id'].astype(float)"
   ]
  },
  {
   "cell_type": "code",
   "execution_count": null,
   "metadata": {
    "colab": {},
    "colab_type": "code",
    "id": "IipEV90BVauh"
   },
   "outputs": [],
   "source": [
    "df_final = df_events_data.merge(df_phone_brand_device_model,on='device_id').merge(df_gender_age_train,on='device_id')"
   ]
  },
  {
   "cell_type": "code",
   "execution_count": null,
   "metadata": {
    "colab": {
     "base_uri": "https://localhost:8080/",
     "height": 34
    },
    "colab_type": "code",
    "executionInfo": {
     "elapsed": 894,
     "status": "ok",
     "timestamp": 1584262023392,
     "user": {
      "displayName": "Pratik Barjatiya",
      "photoUrl": "https://lh3.googleusercontent.com/a-/AOh14GhnYhbpy4SpE-IWY1hbAvdK5Amz2GXyhYz8Us5uF6E=s64",
      "userId": "11284238611791898048"
     },
     "user_tz": -330
    },
    "id": "r_up1EYcVauj",
    "outputId": "e9b001e3-f846-4ca6-86f3-ac0dbf33edbe"
   },
   "outputs": [],
   "source": [
    "df_final.shape"
   ]
  },
  {
   "cell_type": "code",
   "execution_count": null,
   "metadata": {
    "colab": {
     "base_uri": "https://localhost:8080/",
     "height": 426
    },
    "colab_type": "code",
    "executionInfo": {
     "elapsed": 920,
     "status": "ok",
     "timestamp": 1584262173329,
     "user": {
      "displayName": "Pratik Barjatiya",
      "photoUrl": "https://lh3.googleusercontent.com/a-/AOh14GhnYhbpy4SpE-IWY1hbAvdK5Amz2GXyhYz8Us5uF6E=s64",
      "userId": "11284238611791898048"
     },
     "user_tz": -330
    },
    "id": "hFtha2L5Vaum",
    "outputId": "75ee0a9d-61ca-406a-fca2-3b0e4e5e47ec"
   },
   "outputs": [],
   "source": [
    "missing_data(df_final)"
   ]
  },
  {
   "cell_type": "code",
   "execution_count": null,
   "metadata": {
    "colab": {},
    "colab_type": "code",
    "id": "05nM05zyVau8"
   },
   "outputs": [],
   "source": [
    "df_events_data['timestamp']=pd.to_datetime(df_events_data['timestamp'])"
   ]
  },
  {
   "cell_type": "code",
   "execution_count": null,
   "metadata": {},
   "outputs": [],
   "source": [
    "df_final.columns"
   ]
  },
  {
   "cell_type": "code",
   "execution_count": null,
   "metadata": {},
   "outputs": [],
   "source": [
    "CONTINUOUS_COLUMNS = [\"age\", \"latitude\", \"longitude\"]"
   ]
  },
  {
   "cell_type": "code",
   "execution_count": null,
   "metadata": {},
   "outputs": [],
   "source": [
    "def plot_histgrams(data):\n",
    "    ncols = len(data.columns)\n",
    "    fig = plt.figure(figsize=(5 * 5, 5 * (ncols // 5 + 1)))\n",
    "    for i, col in enumerate(data.columns):\n",
    "        X = data[col].dropna()\n",
    "        plt.subplot(ncols // 5 + 1, 5, i + 1)\n",
    "        plt.hist(X, bins=20, alpha=0.5, \\\n",
    "                 edgecolor=\"black\", linewidth=2.0)\n",
    "        plt.xlabel(col, fontsize=18)\n",
    "        plt.ylabel(\"frequency\", fontsize=18)\n",
    "    fig.tight_layout()\n",
    "    plt.show()\n",
    "\n",
    "plot_histgrams(df_final[CONTINUOUS_COLUMNS])"
   ]
  },
  {
   "cell_type": "code",
   "execution_count": null,
   "metadata": {},
   "outputs": [],
   "source": [
    "CATEGORICAL_COLUMNS = [\"group\", \"gender\", \"state\"]"
   ]
  },
  {
   "cell_type": "code",
   "execution_count": null,
   "metadata": {},
   "outputs": [],
   "source": [
    "\n",
    "\n",
    "def plot_categoricals(data):\n",
    "    ncols = len(data.columns)\n",
    "    fig = plt.figure(figsize=(5 * 5, 5 * (ncols // 5 + 1)))\n",
    "    for i, col in enumerate(data.columns):\n",
    "        cnt = Counter(data[col])\n",
    "        keys = list(cnt.keys())\n",
    "        vals = list(cnt.values())\n",
    "        #range(len(keys))\n",
    "        plt.subplot(ncols // 5 + 1, 5, i + 1)\n",
    "        plt.bar(keys, vals, align=\"center\")\n",
    "        plt.xticks(keys, keys, rotation=45)\n",
    "        plt.xlabel(col, fontsize=18)\n",
    "        plt.ylabel(\"frequency\", fontsize=18)\n",
    "    fig.tight_layout()\n",
    "    plt.show()\n",
    "\n",
    "plot_categoricals(df_final[CATEGORICAL_COLUMNS])"
   ]
  },
  {
   "cell_type": "code",
   "execution_count": null,
   "metadata": {},
   "outputs": [],
   "source": [
    "df_final.groupby(['state', 'phone_brand']).device_model.value_counts().nlargest(10)"
   ]
  },
  {
   "cell_type": "code",
   "execution_count": null,
   "metadata": {},
   "outputs": [],
   "source": [
    "df_final.groupby(['phone_brand','device_model']).agg(lambda x:x.value_counts().index[0])"
   ]
  },
  {
   "cell_type": "code",
   "execution_count": null,
   "metadata": {},
   "outputs": [],
   "source": [
    "plt.figure(figsize=(15,5))\n",
    "sns.boxplot(df_final['gender'], df_final['age'])\n",
    "plt.title('Age vs Gender Box Plot', fontsize=20)      \n",
    "plt.xlabel('Gender', fontsize=16)\n",
    "plt.ylabel('Age', fontsize=16)\n",
    "plt.show()"
   ]
  },
  {
   "cell_type": "code",
   "execution_count": null,
   "metadata": {
    "colab": {},
    "colab_type": "code",
    "id": "s1jBKslZVau_"
   },
   "outputs": [],
   "source": [
    "df_WestBengal = df_events_data[df_events_data.state =='WestBengal']"
   ]
  },
  {
   "cell_type": "code",
   "execution_count": null,
   "metadata": {
    "colab": {
     "base_uri": "https://localhost:8080/",
     "height": 237
    },
    "colab_type": "code",
    "executionInfo": {
     "elapsed": 5217,
     "status": "error",
     "timestamp": 1584262119469,
     "user": {
      "displayName": "Pratik Barjatiya",
      "photoUrl": "https://lh3.googleusercontent.com/a-/AOh14GhnYhbpy4SpE-IWY1hbAvdK5Amz2GXyhYz8Us5uF6E=s64",
      "userId": "11284238611791898048"
     },
     "user_tz": -330
    },
    "id": "KoCYVBIhVavA",
    "outputId": "59c0cf15-24a3-47f8-b7ce-e107fab6d4ee"
   },
   "outputs": [],
   "source": [
    "#profile = pandas_profiling.ProfileReport(df_WestBengal)\n",
    "#profile.to_file(output_file=\"westbengal_profiling.html\")"
   ]
  },
  {
   "cell_type": "code",
   "execution_count": null,
   "metadata": {
    "colab": {},
    "colab_type": "code",
    "id": "3twWU6XiVavD"
   },
   "outputs": [],
   "source": [
    "df_Karnataka = df_events_data[df_events_data.state =='Karnataka']"
   ]
  },
  {
   "cell_type": "code",
   "execution_count": null,
   "metadata": {
    "colab": {},
    "colab_type": "code",
    "id": "ol9cnLIWVavF"
   },
   "outputs": [],
   "source": [
    "#profile = pandas_profiling.ProfileReport(df_Karnataka)\n",
    "#profile.to_file(output_file=\"karnataka_profiling.html\")"
   ]
  },
  {
   "cell_type": "code",
   "execution_count": null,
   "metadata": {
    "colab": {},
    "colab_type": "code",
    "id": "s5qLcDbiVavH"
   },
   "outputs": [],
   "source": [
    "df_Gujarat = df_events_data[df_events_data.state =='Gujarat']"
   ]
  },
  {
   "cell_type": "code",
   "execution_count": null,
   "metadata": {
    "colab": {},
    "colab_type": "code",
    "id": "9dL98rgDVavJ"
   },
   "outputs": [],
   "source": [
    "#profile = pandas_profiling.ProfileReport(df_Gujarat)\n",
    "#profile.to_file(output_file=\"gujarat_profiling.html\")"
   ]
  },
  {
   "cell_type": "code",
   "execution_count": null,
   "metadata": {
    "colab": {},
    "colab_type": "code",
    "id": "WAlsyXFnVavM"
   },
   "outputs": [],
   "source": [
    "df_Bihar = df_events_data[df_events_data.state =='Bihar']"
   ]
  },
  {
   "cell_type": "code",
   "execution_count": null,
   "metadata": {
    "colab": {},
    "colab_type": "code",
    "id": "p3xhQ5bKVavN"
   },
   "outputs": [],
   "source": [
    "#profile = pandas_profiling.ProfileReport(df_Bihar)\n",
    "#profile.to_file(output_file=\"bihar_profiling.html\")"
   ]
  },
  {
   "cell_type": "code",
   "execution_count": null,
   "metadata": {
    "colab": {},
    "colab_type": "code",
    "id": "E2ObvoLDVavQ"
   },
   "outputs": [],
   "source": [
    "df_Punjab = df_events_data[df_events_data.state =='Punjab']"
   ]
  },
  {
   "cell_type": "code",
   "execution_count": null,
   "metadata": {
    "colab": {},
    "colab_type": "code",
    "id": "wT985ovWVavT"
   },
   "outputs": [],
   "source": [
    "#profile = pandas_profiling.ProfileReport(df_Punjab)\n",
    "#profile.to_file(output_file=\"punjab_profiling.html\")"
   ]
  },
  {
   "cell_type": "code",
   "execution_count": null,
   "metadata": {
    "colab": {},
    "colab_type": "code",
    "id": "yduJPB2GVavX"
   },
   "outputs": [],
   "source": [
    "df_Kerala = df_events_data[df_events_data.state =='Kerala']"
   ]
  },
  {
   "cell_type": "code",
   "execution_count": null,
   "metadata": {
    "colab": {},
    "colab_type": "code",
    "id": "drYsefBIVavZ"
   },
   "outputs": [],
   "source": [
    "#profile = pandas_profiling.ProfileReport(df_Kerala)\n",
    "#profile.to_file(output_file=\"kerala_profiling.html\")"
   ]
  },
  {
   "cell_type": "code",
   "execution_count": null,
   "metadata": {
    "colab": {
     "base_uri": "https://localhost:8080/",
     "height": 394
    },
    "colab_type": "code",
    "executionInfo": {
     "elapsed": 1530,
     "status": "ok",
     "timestamp": 1584262156231,
     "user": {
      "displayName": "Pratik Barjatiya",
      "photoUrl": "https://lh3.googleusercontent.com/a-/AOh14GhnYhbpy4SpE-IWY1hbAvdK5Amz2GXyhYz8Us5uF6E=s64",
      "userId": "11284238611791898048"
     },
     "user_tz": -330
    },
    "id": "cq5egFqYVavk",
    "outputId": "13ed5c57-ecaa-4785-9cdf-f0e8fa812859"
   },
   "outputs": [],
   "source": [
    "df_final.describe(include='all')"
   ]
  },
  {
   "cell_type": "code",
   "execution_count": null,
   "metadata": {
    "colab": {
     "base_uri": "https://localhost:8080/",
     "height": 34
    },
    "colab_type": "code",
    "executionInfo": {
     "elapsed": 876,
     "status": "ok",
     "timestamp": 1584262184387,
     "user": {
      "displayName": "Pratik Barjatiya",
      "photoUrl": "https://lh3.googleusercontent.com/a-/AOh14GhnYhbpy4SpE-IWY1hbAvdK5Amz2GXyhYz8Us5uF6E=s64",
      "userId": "11284238611791898048"
     },
     "user_tz": -330
    },
    "id": "dH_8fcTRVavm",
    "outputId": "e1d480c2-df5b-4aaf-fda7-6d97e87e5417"
   },
   "outputs": [],
   "source": [
    "df_final['device_id'].nunique()"
   ]
  },
  {
   "cell_type": "code",
   "execution_count": null,
   "metadata": {
    "colab": {
     "base_uri": "https://localhost:8080/",
     "height": 34
    },
    "colab_type": "code",
    "executionInfo": {
     "elapsed": 907,
     "status": "ok",
     "timestamp": 1584262239549,
     "user": {
      "displayName": "Pratik Barjatiya",
      "photoUrl": "https://lh3.googleusercontent.com/a-/AOh14GhnYhbpy4SpE-IWY1hbAvdK5Amz2GXyhYz8Us5uF6E=s64",
      "userId": "11284238611791898048"
     },
     "user_tz": -330
    },
    "id": "DUcExiLFVav7",
    "outputId": "a2212a6f-52cc-490e-90ed-fdcad7e5d94c"
   },
   "outputs": [],
   "source": [
    "df_final.shape"
   ]
  },
  {
   "cell_type": "code",
   "execution_count": null,
   "metadata": {},
   "outputs": [],
   "source": [
    "df_final['timestamp']=pd.to_datetime(df_final['timestamp'])"
   ]
  },
  {
   "cell_type": "code",
   "execution_count": null,
   "metadata": {
    "colab": {
     "base_uri": "https://localhost:8080/",
     "height": 312
    },
    "colab_type": "code",
    "executionInfo": {
     "elapsed": 928,
     "status": "ok",
     "timestamp": 1584262250057,
     "user": {
      "displayName": "Pratik Barjatiya",
      "photoUrl": "https://lh3.googleusercontent.com/a-/AOh14GhnYhbpy4SpE-IWY1hbAvdK5Amz2GXyhYz8Us5uF6E=s64",
      "userId": "11284238611791898048"
     },
     "user_tz": -330
    },
    "id": "8XplsDsjVav-",
    "outputId": "7775e032-b461-4a4d-fa9f-b63d187fee49"
   },
   "outputs": [],
   "source": [
    "df_final.info()"
   ]
  },
  {
   "cell_type": "code",
   "execution_count": null,
   "metadata": {
    "colab": {
     "base_uri": "https://localhost:8080/",
     "height": 300
    },
    "colab_type": "code",
    "executionInfo": {
     "elapsed": 923,
     "status": "ok",
     "timestamp": 1584262275210,
     "user": {
      "displayName": "Pratik Barjatiya",
      "photoUrl": "https://lh3.googleusercontent.com/a-/AOh14GhnYhbpy4SpE-IWY1hbAvdK5Amz2GXyhYz8Us5uF6E=s64",
      "userId": "11284238611791898048"
     },
     "user_tz": -330
    },
    "id": "k_LXZkJKVawB",
    "outputId": "dd46d009-cb92-4622-c71f-02e5e1d95fd5"
   },
   "outputs": [],
   "source": [
    "df_final.describe()"
   ]
  },
  {
   "cell_type": "markdown",
   "metadata": {
    "colab_type": "text",
    "id": "i0Idx3PMVawF"
   },
   "source": [
    "<a id=section3></a>\n",
    "### 3. Anamoly Detection"
   ]
  },
  {
   "cell_type": "code",
   "execution_count": null,
   "metadata": {
    "colab": {
     "base_uri": "https://localhost:8080/",
     "height": 948
    },
    "colab_type": "code",
    "executionInfo": {
     "elapsed": 3416,
     "status": "ok",
     "timestamp": 1584262310954,
     "user": {
      "displayName": "Pratik Barjatiya",
      "photoUrl": "https://lh3.googleusercontent.com/a-/AOh14GhnYhbpy4SpE-IWY1hbAvdK5Amz2GXyhYz8Us5uF6E=s64",
      "userId": "11284238611791898048"
     },
     "user_tz": -330
    },
    "id": "28KpEihiVawG",
    "outputId": "e8d39679-e9b3-4ab4-d0b4-ff98d1ffd34c"
   },
   "outputs": [],
   "source": [
    "\n",
    "# Make an empty map\n",
    "map = folium.Map(location=[22.356359, 79.395484], zoom_start=5)\n",
    "mc = MarkerCluster()\n",
    "state_list = ['WestBengal', 'Karnataka', 'Gujarat', 'Bihar', 'Punjab', 'Kerala']\n",
    "\n",
    "for state in state_list:\n",
    "    mapping_data = df_events_data[['latitude', 'longitude','city']][df_events_data['state']==state].drop_duplicates()\n",
    "    latitude_list = []\n",
    "    longitude = []\n",
    "    citylist = []\n",
    "    for city in mapping_data.city.unique().tolist():\n",
    "        latitude_list.append(mapping_data.latitude[mapping_data['city']==city].mean())\n",
    "        longitude.append(mapping_data.longitude[mapping_data['city']==city].mean())   \n",
    "        citylist.append(city)\n",
    "    \n",
    "    df_data = pd.DataFrame(\n",
    "    {'latitude' : latitude_list,\n",
    "     'longitude' : longitude,\n",
    "     'city' : citylist\n",
    "    })\n",
    "    \n",
    "    locations = df_data[['latitude', 'longitude']]\n",
    "    locationlist = locations.values.tolist()\n",
    "    \n",
    "    for index, item in enumerate(locationlist):\n",
    "        mc.add_child(folium.Marker(location=item, popup=citylist[index]))\n",
    "                             \n",
    "map.add_child(mc)\n",
    "map.save(\"state_wise_map_plot.html\")\n",
    "map"
   ]
  },
  {
   "cell_type": "code",
   "execution_count": null,
   "metadata": {
    "colab": {},
    "colab_type": "code",
    "id": "Sn8m8e4GVawI"
   },
   "outputs": [],
   "source": [
    "locations = df_events_data[['longitude','latitude']]\n",
    "locations.reset_index(drop=True,inplace=True)\n",
    "colordict = {0: 'lightblue', 1: 'lightgreen', 2: 'orange', 3: 'red'}\n"
   ]
  },
  {
   "cell_type": "code",
   "execution_count": null,
   "metadata": {
    "colab": {},
    "colab_type": "code",
    "id": "AaBhKTMnVawL"
   },
   "outputs": [],
   "source": [
    "city_map = folium.Map(location=[20.5937,78.9629],zoom_start=5)"
   ]
  },
  {
   "cell_type": "code",
   "execution_count": null,
   "metadata": {
    "colab": {},
    "colab_type": "code",
    "id": "OkBR6HyuVawM"
   },
   "outputs": [],
   "source": [
    "df = df_events_data[['latitude','longitude','city','state']]\n",
    "df = df.drop_duplicates(keep='first',).reset_index()"
   ]
  },
  {
   "cell_type": "code",
   "execution_count": null,
   "metadata": {
    "colab": {},
    "colab_type": "code",
    "id": "iR56hDTrVawO"
   },
   "outputs": [],
   "source": [
    "for lat,long,city,state in zip(df['latitude'],df['longitude'],df['city'],df['state']):\n",
    "    folium.CircleMarker(location=[lat,long],fill_opacity=0.7,fill=True,key_on =state,color='b', \\\n",
    "                        radius=2,weight=0).add_to(city_map)"
   ]
  },
  {
   "cell_type": "code",
   "execution_count": null,
   "metadata": {
    "colab": {
     "base_uri": "https://localhost:8080/",
     "height": 948,
     "output_embedded_package_id": "1IW5h_L3I1yIo1URujsoNtucDfAUtDU1o"
    },
    "colab_type": "code",
    "executionInfo": {
     "elapsed": 23086,
     "status": "ok",
     "timestamp": 1584266987493,
     "user": {
      "displayName": "Pratik Barjatiya",
      "photoUrl": "https://lh3.googleusercontent.com/a-/AOh14GhnYhbpy4SpE-IWY1hbAvdK5Amz2GXyhYz8Us5uF6E=s64",
      "userId": "11284238611791898048"
     },
     "user_tz": -330
    },
    "id": "jjCFQKaUVawS",
    "outputId": "b68d92c4-9abc-474a-cdcb-97b97244ec10"
   },
   "outputs": [],
   "source": [
    "city_map.save(\"city_wise_map_plot.html\")\n",
    "city_map"
   ]
  },
  {
   "cell_type": "markdown",
   "metadata": {
    "colab_type": "text",
    "id": "RgZhMfA5VawU"
   },
   "source": [
    "<a id=section4></a>\n",
    "## 4. Plotting Distributions"
   ]
  },
  {
   "cell_type": "code",
   "execution_count": null,
   "metadata": {
    "colab": {
     "base_uri": "https://localhost:8080/",
     "height": 129
    },
    "colab_type": "code",
    "executionInfo": {
     "elapsed": 1198,
     "status": "ok",
     "timestamp": 1584262387802,
     "user": {
      "displayName": "Pratik Barjatiya",
      "photoUrl": "https://lh3.googleusercontent.com/a-/AOh14GhnYhbpy4SpE-IWY1hbAvdK5Amz2GXyhYz8Us5uF6E=s64",
      "userId": "11284238611791898048"
     },
     "user_tz": -330
    },
    "id": "K9cFtTZvVawV",
    "outputId": "e80f4ea3-2711-4f13-fd76-617715f4187b"
   },
   "outputs": [],
   "source": [
    "user_data = df_final.drop(['event_id','timestamp'],axis=1)\n",
    "user_data = user_data.drop_duplicates(keep='first').reset_index()\n",
    "print(user_data.shape)\n",
    "user_data.head(2)"
   ]
  },
  {
   "cell_type": "markdown",
   "metadata": {
    "colab_type": "text",
    "id": "Q27BI6gPVawX"
   },
   "source": [
    "<a id=section400></a>\n",
    "### 4.1 Distribution of Users(device_id) across States"
   ]
  },
  {
   "cell_type": "code",
   "execution_count": null,
   "metadata": {
    "colab": {
     "base_uri": "https://localhost:8080/",
     "height": 525
    },
    "colab_type": "code",
    "executionInfo": {
     "elapsed": 1021,
     "status": "ok",
     "timestamp": 1584262395314,
     "user": {
      "displayName": "Pratik Barjatiya",
      "photoUrl": "https://lh3.googleusercontent.com/a-/AOh14GhnYhbpy4SpE-IWY1hbAvdK5Amz2GXyhYz8Us5uF6E=s64",
      "userId": "11284238611791898048"
     },
     "user_tz": -330
    },
    "id": "FIyn0coNVawY",
    "outputId": "e5630cd1-1c58-47ef-b71e-9f686bc4fbc7",
    "scrolled": true
   },
   "outputs": [],
   "source": [
    "plt.figure(figsize=(15,5))\n",
    "user_data.groupby('state').device_id.count().plot(kind='barh')\n",
    "plt.title('Distribution of Users across States');\n",
    "plt.xlabel(\"# Device ID\")\n",
    "plt.legend();"
   ]
  },
  {
   "cell_type": "markdown",
   "metadata": {
    "colab_type": "text",
    "id": "eFVI6P1dVawa"
   },
   "source": [
    "<a id=section401></a>\n",
    "### 4.2 Distribution of Users across Phone Brands(10 Most used Phone Brands)"
   ]
  },
  {
   "cell_type": "code",
   "execution_count": null,
   "metadata": {
    "colab": {
     "base_uri": "https://localhost:8080/",
     "height": 506
    },
    "colab_type": "code",
    "executionInfo": {
     "elapsed": 1124,
     "status": "ok",
     "timestamp": 1584262406463,
     "user": {
      "displayName": "Pratik Barjatiya",
      "photoUrl": "https://lh3.googleusercontent.com/a-/AOh14GhnYhbpy4SpE-IWY1hbAvdK5Amz2GXyhYz8Us5uF6E=s64",
      "userId": "11284238611791898048"
     },
     "user_tz": -330
    },
    "id": "5uccBkbuVawb",
    "outputId": "ada05c13-d174-465a-87c0-d2bc8e18b5e5"
   },
   "outputs": [],
   "source": [
    "plt.figure(figsize=(15,5))\n",
    "user_data.groupby('phone_brand').device_id.count().sort_values(ascending=False).head(10).plot(kind='barh')\n",
    "plt.title('Distribution of Users across Phone Brands');\n",
    "plt.xlabel('# Number of Users');\n",
    "plt.legend();"
   ]
  },
  {
   "cell_type": "code",
   "execution_count": null,
   "metadata": {},
   "outputs": [],
   "source": [
    "fig, axis1 = plt.subplots(1,1,figsize=(15,5))\n",
    "sns.countplot(x='phone_brand', hue=\"state\",order=df_final.phone_brand.value_counts().iloc[:10].index, data=df_final, ax=axis1)\n",
    "plt.title(\"Phone Brand Distribution Across States\")"
   ]
  },
  {
   "cell_type": "code",
   "execution_count": null,
   "metadata": {
    "scrolled": false
   },
   "outputs": [],
   "source": [
    "fig, axis1 = plt.subplots(1,1,figsize=(15,5))\n",
    "sns.countplot(x='device_model', hue=\"state\",order=df_final.device_model.value_counts().iloc[:10].index, data=df_final, ax=axis1)\n",
    "plt.title(\"Device Model Distribution Across States\")"
   ]
  },
  {
   "cell_type": "markdown",
   "metadata": {
    "colab_type": "text",
    "id": "rm85myfmVawe"
   },
   "source": [
    "<a id=section402></a>\n",
    "### 4.3 Distribution of Users across Gender"
   ]
  },
  {
   "cell_type": "code",
   "execution_count": null,
   "metadata": {
    "colab": {
     "base_uri": "https://localhost:8080/",
     "height": 506
    },
    "colab_type": "code",
    "executionInfo": {
     "elapsed": 913,
     "status": "ok",
     "timestamp": 1584262423187,
     "user": {
      "displayName": "Pratik Barjatiya",
      "photoUrl": "https://lh3.googleusercontent.com/a-/AOh14GhnYhbpy4SpE-IWY1hbAvdK5Amz2GXyhYz8Us5uF6E=s64",
      "userId": "11284238611791898048"
     },
     "user_tz": -330
    },
    "id": "SxeafKTfVawf",
    "outputId": "3a07f359-1d91-4a9e-ed7f-7403d154aacb"
   },
   "outputs": [],
   "source": [
    "plt.figure(figsize=(15,5))\n",
    "user_data.groupby('gender').device_id.count().sort_values(ascending=False).plot(kind='barh')\n",
    "plt.title('Gender Vs Devices')\n",
    "plt.xlabel('# Devices')\n",
    "plt.legend()"
   ]
  },
  {
   "cell_type": "code",
   "execution_count": null,
   "metadata": {
    "scrolled": true
   },
   "outputs": [],
   "source": [
    "axis1 = plt.subplots(1,1,figsize=(15,5))\n",
    "splot = sns.countplot(x='gender',data=df_final)\n",
    "for p in splot.patches:\n",
    "    splot.annotate(format(p.get_height(), '.2f'), (p.get_x() + p.get_width() / 2., p.get_height()), \\\n",
    "                   ha = 'center', va = 'center', xytext = (0, 10), textcoords = 'offset points')\n",
    "\n",
    "plt.title(\"Gender Distribution\")"
   ]
  },
  {
   "cell_type": "code",
   "execution_count": null,
   "metadata": {},
   "outputs": [],
   "source": [
    "axis1 = plt.subplots(1,1,figsize=(15,9))\n",
    "values=df_final['gender'].value_counts()\n",
    "print(values)\n",
    "\n",
    "def make_autopct(values):\n",
    "    def my_autopct(pct):\n",
    "        total = sum(values)\n",
    "        val = int(round(pct*total/100.0))\n",
    "        return '{p:.2f}%  ({v:d})'.format(p=pct,v=val)\n",
    "    return my_autopct\n",
    "# Using matplotlib pie chart and label the pie chart\n",
    "plt.pie(values,labels=['Male','Female'], autopct=make_autopct(values));\n",
    "plt.title(\"Gender Distribution - Pie Chart\")"
   ]
  },
  {
   "cell_type": "code",
   "execution_count": null,
   "metadata": {},
   "outputs": [],
   "source": [
    "plt.figure(figsize=(15,5))\n",
    "facet = sns.FacetGrid(df_final, hue=\"gender\",aspect=4, hue_order=['M', 'F'])\n",
    "facet.map(sns.kdeplot,'age')\n",
    "facet.set(xlim=(0, df_final['age'].max()))\n",
    "facet.add_legend()\n",
    "plt.title(\"Gender Vs Age Distribution\")"
   ]
  },
  {
   "cell_type": "code",
   "execution_count": null,
   "metadata": {},
   "outputs": [],
   "source": [
    "plt.figure(figsize=(15,5))\n",
    "sns.distplot(df_final[\"age\"],bins=10,kde=True)"
   ]
  },
  {
   "cell_type": "code",
   "execution_count": null,
   "metadata": {},
   "outputs": [],
   "source": [
    "plt.figure(figsize=(15,5))\n",
    "facet = sns.FacetGrid(df_final, hue=\"state\",aspect=4, hue_order=['WestBengal', 'Karnataka', 'Bihar', 'Gujarat', 'Punjab', 'Kerala'])\n",
    "facet.map(sns.kdeplot,'age') \n",
    "facet.set(xlim=(0, df_final['age'].max()))\n",
    "facet.add_legend()\n",
    "plt.title(\"Age distribution Across States\")"
   ]
  },
  {
   "cell_type": "code",
   "execution_count": null,
   "metadata": {},
   "outputs": [],
   "source": [
    "total = len(df_final['gender'])*1.\n",
    "fig, axis1 = plt.subplots(1,1,figsize=(15,5))\n",
    "splot = sns.countplot(x='gender', hue=\"state\", data=df_final, ax=axis1)\n",
    "plt.title(\"Gender Distribution Across State\")\n",
    "plt.ylabel('Count')\n",
    "for p in splot.patches:\n",
    "    splot.annotate(format(p.get_height(), '.2f'), (p.get_x() + p.get_width() / 2., p.get_height()), ha = 'center', va = 'center', xytext = (0, 10), textcoords = 'offset points')\n"
   ]
  },
  {
   "cell_type": "code",
   "execution_count": null,
   "metadata": {},
   "outputs": [],
   "source": [
    "fig, axis1 = plt.subplots(1,1,figsize=(15,5))\n",
    "sns.countplot(x='age', hue=\"gender\", order=df_final.age.value_counts().iloc[:15].index, data=df_final, ax=axis1)\n",
    "plt.title(\"Age Vs Gender Distribution\")"
   ]
  },
  {
   "cell_type": "code",
   "execution_count": null,
   "metadata": {},
   "outputs": [],
   "source": [
    "plt.figure(figsize=(15,5))\n",
    "role_ed_xtab = pd.crosstab(df_final['gender'], df_final['state'], normalize='index')\n",
    "sns.heatmap(role_ed_xtab, annot=True, fmt='0.0%', cmap='YlOrRd')\n",
    "plt.title(\"Overall Gender Distribution Across States\")"
   ]
  },
  {
   "cell_type": "code",
   "execution_count": null,
   "metadata": {
    "scrolled": true
   },
   "outputs": [],
   "source": [
    "plt.figure(figsize=(15,12))\n",
    "role_ed_xtab = pd.crosstab(df_final['state'], df_final['group'], normalize='index')\n",
    "sns.heatmap(role_ed_xtab, annot=True, fmt='0.0%', cmap='YlOrRd')\n",
    "plt.title(\"Age Group Distribution Across States\")"
   ]
  },
  {
   "cell_type": "code",
   "execution_count": null,
   "metadata": {},
   "outputs": [],
   "source": [
    "plt.figure(figsize=(15,5))\n",
    "plt.hist('age', data=df_final[df_final['gender'] == 'M'], alpha=0.5, label='Male');\n",
    "plt.hist('age', data=df_final[df_final['gender'] == 'F'], alpha=0.5, label='Female');\n",
    "plt.title('Distribution of Age by Gender');\n",
    "plt.xlabel('Age');\n",
    "plt.legend();"
   ]
  },
  {
   "cell_type": "markdown",
   "metadata": {
    "colab_type": "text",
    "id": "C7mLqj0VVawh"
   },
   "source": [
    "<a id=section403></a>\n",
    "### 4.4 Distribution of Users across Age Segments"
   ]
  },
  {
   "cell_type": "code",
   "execution_count": null,
   "metadata": {
    "colab": {
     "base_uri": "https://localhost:8080/",
     "height": 506
    },
    "colab_type": "code",
    "executionInfo": {
     "elapsed": 1142,
     "status": "ok",
     "timestamp": 1584262430120,
     "user": {
      "displayName": "Pratik Barjatiya",
      "photoUrl": "https://lh3.googleusercontent.com/a-/AOh14GhnYhbpy4SpE-IWY1hbAvdK5Amz2GXyhYz8Us5uF6E=s64",
      "userId": "11284238611791898048"
     },
     "user_tz": -330
    },
    "id": "OG4gJkqFVawh",
    "outputId": "7f73461a-01b5-4ece-ec4a-66f57de5fceb"
   },
   "outputs": [],
   "source": [
    "plt.figure(figsize=(15,5))\n",
    "user_data.groupby('group').device_id.count().sort_values(ascending=False).plot(kind='barh')\n",
    "plt.title('Distribution of Users across Age Groups');\n",
    "plt.xlabel('# Device Id');\n",
    "plt.legend();"
   ]
  },
  {
   "cell_type": "code",
   "execution_count": null,
   "metadata": {},
   "outputs": [],
   "source": [
    "plt.figure(figsize=(15,5))\n",
    "user_data['group'].value_counts().plot(kind='bar')\n",
    "plt.title('Distribution of Users across Age Groups');\n",
    "plt.ylabel('# Number of Users');\n",
    "plt.legend();"
   ]
  },
  {
   "cell_type": "code",
   "execution_count": null,
   "metadata": {},
   "outputs": [],
   "source": [
    "age_group = [] \n",
    "for value in user_data['age']: \n",
    "    if value <=10: \n",
    "        age_group.append(\"Group-1\") \n",
    "    elif value >10 and value <=20: \n",
    "        age_group.append(\"Group-2\") \n",
    "    elif value>20 and value<=30:\n",
    "        age_group.append(\"Group-3\")\n",
    "    elif value>30 and value<=40:\n",
    "        age_group.append(\"Group-4\")\n",
    "    elif value>40 and value<=50:\n",
    "        age_group.append(\"Group-5\")\n",
    "    elif value>50 and value<=60:\n",
    "        age_group.append(\"Group-6\")\n",
    "    elif value>60 and value<=70:\n",
    "        age_group.append(\"Group-7\")\n",
    "    elif value>70 and value<=80:\n",
    "        age_group.append(\"Group-8\")\n",
    "    elif value>80 and value<=90:\n",
    "        age_group.append(\"Group-9\")\n",
    "    else: \n",
    "        age_group.append(\"Group-10\") \n",
    "        \n",
    "user_data['age_group'] = age_group  "
   ]
  },
  {
   "cell_type": "code",
   "execution_count": null,
   "metadata": {},
   "outputs": [],
   "source": [
    "plt.figure(figsize=(15,5))\n",
    "user_data['age_group'].value_counts().plot.bar()\n",
    "plt.title('Distribution of Users across Age Segments');\n",
    "plt.ylabel('# Number of Users');\n",
    "plt.legend();"
   ]
  },
  {
   "cell_type": "code",
   "execution_count": null,
   "metadata": {},
   "outputs": [],
   "source": [
    "fig, axis1 = plt.subplots(1,1,figsize=(15,5))\n",
    "sns.countplot(x='group', hue=\"state\", data=df_final, ax=axis1)\n",
    "plt.title(\"Age Group Distribution Across States\")"
   ]
  },
  {
   "cell_type": "code",
   "execution_count": null,
   "metadata": {},
   "outputs": [],
   "source": [
    "df_WestBengal = df_final[df_final.state=='WestBengal']\n",
    "df_Karnataka = df_final[df_final.state=='Karnataka']\n",
    "df_Gujarat = df_final[df_final.state=='Gujarat']\n",
    "df_Bihar = df_final[df_final.state=='Bihar']\n",
    "df_Punjab = df_final[df_final.state=='Punjab']\n",
    "df_Kerala = df_final[df_final.state=='Kerala']"
   ]
  },
  {
   "cell_type": "markdown",
   "metadata": {
    "colab_type": "text",
    "id": "IU7NVO61Vawk"
   },
   "source": [
    "<a id=section404></a>\n",
    "### 4.5 Distribution of Phone Brands(10 Most used Phone Brand): Age Segment, State, Gender"
   ]
  },
  {
   "cell_type": "code",
   "execution_count": null,
   "metadata": {},
   "outputs": [],
   "source": [
    "plt.figure(figsize=(15,5))\n",
    "df_WestBengal['phone_brand'].value_counts().head(10).plot.bar()\n",
    "plt.title('Distribution of Top 10 Phone Brands across WestBengal');\n",
    "plt.ylabel('# Count');\n",
    "plt.legend();"
   ]
  },
  {
   "cell_type": "code",
   "execution_count": null,
   "metadata": {},
   "outputs": [],
   "source": [
    "plt.figure(figsize=(15,5))\n",
    "df_Karnataka['phone_brand'].value_counts().head(10).plot.bar()\n",
    "plt.title('Distribution of Top 10 Phone Brands across Karnataka');\n",
    "plt.ylabel('# Count');\n",
    "plt.legend();"
   ]
  },
  {
   "cell_type": "code",
   "execution_count": null,
   "metadata": {},
   "outputs": [],
   "source": [
    "plt.figure(figsize=(15,5))\n",
    "df_Gujarat['phone_brand'].value_counts().head(10).plot.bar()\n",
    "plt.title('Distribution of Top 10 Phone Brands across Gujarat');\n",
    "plt.ylabel('# Count');\n",
    "plt.legend();"
   ]
  },
  {
   "cell_type": "code",
   "execution_count": null,
   "metadata": {},
   "outputs": [],
   "source": [
    "plt.figure(figsize=(15,5))\n",
    "df_Bihar['phone_brand'].value_counts().head(10).plot.bar()\n",
    "plt.title('Distribution of Top 10 Phone Brands across Bihar');\n",
    "plt.ylabel('# Count');\n",
    "plt.legend();"
   ]
  },
  {
   "cell_type": "code",
   "execution_count": null,
   "metadata": {},
   "outputs": [],
   "source": [
    "plt.figure(figsize=(15,5))\n",
    "df_Punjab['phone_brand'].value_counts().head(10).plot.bar()\n",
    "plt.title('Distribution of Top 10 Phone Brands across Punjab');\n",
    "plt.ylabel('# Count');\n",
    "plt.legend();"
   ]
  },
  {
   "cell_type": "code",
   "execution_count": null,
   "metadata": {},
   "outputs": [],
   "source": [
    "plt.figure(figsize=(15,5))\n",
    "df_Kerala['phone_brand'].value_counts().head(10).plot.bar()\n",
    "plt.title('Distribution of Top 10 Phone Brands across Kerala');\n",
    "plt.ylabel('# Count');\n",
    "plt.legend();"
   ]
  },
  {
   "cell_type": "code",
   "execution_count": null,
   "metadata": {},
   "outputs": [],
   "source": [
    "plt.figure(figsize=(15,5))\n",
    "df_WestBengal['device_model'].value_counts().head(10).plot.bar()\n",
    "plt.title('Distribution of Top 10 Devices across WestBengal');\n",
    "plt.ylabel('# Count of Devices');\n",
    "plt.legend();"
   ]
  },
  {
   "cell_type": "code",
   "execution_count": null,
   "metadata": {},
   "outputs": [],
   "source": [
    "plt.figure(figsize=(15,5))\n",
    "df_Karnataka['device_model'].value_counts().head(10).plot.bar()\n",
    "plt.title('Distribution of Top 10 Devices across Karnataka');\n",
    "plt.ylabel('# Count of Devices');\n",
    "plt.legend();"
   ]
  },
  {
   "cell_type": "code",
   "execution_count": null,
   "metadata": {},
   "outputs": [],
   "source": [
    "plt.figure(figsize=(15,5))\n",
    "df_Gujarat['device_model'].value_counts().head(10).plot.bar()\n",
    "plt.title('Distribution of Top 10 Devices across Gujarat');\n",
    "plt.ylabel('# Count of Devices');\n",
    "plt.legend();"
   ]
  },
  {
   "cell_type": "code",
   "execution_count": null,
   "metadata": {},
   "outputs": [],
   "source": [
    "plt.figure(figsize=(15,5))\n",
    "df_Bihar['device_model'].value_counts().head(10).plot.bar()\n",
    "plt.title('Distribution of Top 10 Devices across Bihar');\n",
    "plt.ylabel('# Count of Devices');\n",
    "plt.legend();"
   ]
  },
  {
   "cell_type": "code",
   "execution_count": null,
   "metadata": {},
   "outputs": [],
   "source": [
    "plt.figure(figsize=(15,5))\n",
    "df_Punjab['device_model'].value_counts().head(10).plot.bar()\n",
    "plt.title('Distribution of Top 10 Devices across Punjab');\n",
    "plt.ylabel('# Count of Devices');\n",
    "plt.legend();"
   ]
  },
  {
   "cell_type": "code",
   "execution_count": null,
   "metadata": {},
   "outputs": [],
   "source": [
    "plt.figure(figsize=(15,5))\n",
    "df_Kerala['device_model'].value_counts().head(10).plot.bar()\n",
    "plt.title('Distribution of Top 10 Devices across Kerala');\n",
    "plt.ylabel('# Count of Devices');\n",
    "plt.legend();"
   ]
  },
  {
   "cell_type": "code",
   "execution_count": null,
   "metadata": {},
   "outputs": [],
   "source": [
    "fig, axis1 = plt.subplots(1,1,figsize=(15,5))\n",
    "sns.countplot(x='phone_brand', hue=\"state\",order=df_final.phone_brand.value_counts().iloc[:10].index, data=df_final, ax=axis1)\n",
    "plt.title(\"Top 10 Phone Brand Distribution Across States\")"
   ]
  },
  {
   "cell_type": "code",
   "execution_count": null,
   "metadata": {},
   "outputs": [],
   "source": [
    "fig, axis1 = plt.subplots(1,1,figsize=(15,5))\n",
    "splot = sns.countplot('group', hue='gender', data=df_WestBengal);\n",
    "plt.title('Distribution of Phone Brand to Age Group, Colored by Gender');\n",
    "for p in splot.patches:\n",
    "    splot.annotate(format(p.get_height(), '.2f'), (p.get_x() + p.get_width() / 2., p.get_height()), \\\n",
    "                   ha = 'center', va = 'center', xytext = (0, 10), textcoords = 'offset points')"
   ]
  },
  {
   "cell_type": "markdown",
   "metadata": {
    "colab_type": "text",
    "id": "oxa6LibcVawn"
   },
   "source": [
    "<a id=section405></a>\n",
    "### 4.6 Distribution of Gender for each State, Age Segment and Phone Brand(10 Most used Phone Brands)"
   ]
  },
  {
   "cell_type": "code",
   "execution_count": null,
   "metadata": {
    "colab": {},
    "colab_type": "code",
    "id": "2uknEYRWVawo"
   },
   "outputs": [],
   "source": [
    "plt.figure(figsize=(15,5))\n",
    "plt.hist('age', data=df_final[df_final['gender'] == 'M'], alpha=0.5, label='Male');\n",
    "plt.hist('age', data=df_final[df_final['gender'] == 'F'], alpha=0.5, label='Female');\n",
    "plt.title('Distribution of Age by Gender');\n",
    "plt.xlabel('Age');\n",
    "plt.legend();"
   ]
  },
  {
   "cell_type": "code",
   "execution_count": null,
   "metadata": {
    "colab": {
     "base_uri": "https://localhost:8080/",
     "height": 1000
    },
    "colab_type": "code",
    "executionInfo": {
     "elapsed": 2325,
     "status": "ok",
     "timestamp": 1584262459498,
     "user": {
      "displayName": "Pratik Barjatiya",
      "photoUrl": "https://lh3.googleusercontent.com/a-/AOh14GhnYhbpy4SpE-IWY1hbAvdK5Amz2GXyhYz8Us5uF6E=s64",
      "userId": "11284238611791898048"
     },
     "user_tz": -330
    },
    "id": "LlAHYcTeVawy",
    "outputId": "982befed-358a-4649-e166-98dbf064f8ae"
   },
   "outputs": [],
   "source": [
    "states = ['WestBengal', 'Karnataka', 'Gujarat', 'Bihar', 'Punjab', 'Kerala']\n",
    "\n",
    "for state in states:\n",
    "    fig, axes = plt.subplots(figsize=(5,5))\n",
    "    df_final[df_final['state']==state]['gender'].value_counts().head().plot.bar()\n",
    "    plt.title(state)\n",
    "    plt.ylabel('# Count')\n",
    "fig.tight_layout()\n",
    "fig.show()    "
   ]
  },
  {
   "cell_type": "markdown",
   "metadata": {
    "colab_type": "text",
    "id": "DpDr4YzsVawq"
   },
   "source": [
    "<a id=section406></a>\n",
    "### 4.7 Distribution of Age Segments for each State, Gender and Phone Brand(10 Most used Phone Brands)"
   ]
  },
  {
   "cell_type": "code",
   "execution_count": null,
   "metadata": {
    "colab": {
     "base_uri": "https://localhost:8080/",
     "height": 139
    },
    "colab_type": "code",
    "executionInfo": {
     "elapsed": 939,
     "status": "ok",
     "timestamp": 1584262466755,
     "user": {
      "displayName": "Pratik Barjatiya",
      "photoUrl": "https://lh3.googleusercontent.com/a-/AOh14GhnYhbpy4SpE-IWY1hbAvdK5Amz2GXyhYz8Us5uF6E=s64",
      "userId": "11284238611791898048"
     },
     "user_tz": -330
    },
    "id": "Ay370-QfVaw4",
    "outputId": "f58478b9-6e45-46f3-ae99-df5104bc5512"
   },
   "outputs": [],
   "source": [
    "df_final['state'].value_counts()"
   ]
  },
  {
   "cell_type": "code",
   "execution_count": null,
   "metadata": {
    "colab": {
     "base_uri": "https://localhost:8080/",
     "height": 506
    },
    "colab_type": "code",
    "executionInfo": {
     "elapsed": 1030,
     "status": "ok",
     "timestamp": 1584262470880,
     "user": {
      "displayName": "Pratik Barjatiya",
      "photoUrl": "https://lh3.googleusercontent.com/a-/AOh14GhnYhbpy4SpE-IWY1hbAvdK5Amz2GXyhYz8Us5uF6E=s64",
      "userId": "11284238611791898048"
     },
     "user_tz": -330
    },
    "id": "ejmCerOIVaw7",
    "outputId": "9c8b7508-9d00-4664-aecf-ae2c4ae222f4"
   },
   "outputs": [],
   "source": [
    "plt.figure(figsize=(15,5))\n",
    "df_final['state'].value_counts().plot.barh()"
   ]
  },
  {
   "cell_type": "code",
   "execution_count": null,
   "metadata": {
    "colab": {
     "base_uri": "https://localhost:8080/",
     "height": 506
    },
    "colab_type": "code",
    "executionInfo": {
     "elapsed": 1005,
     "status": "ok",
     "timestamp": 1584262476910,
     "user": {
      "displayName": "Pratik Barjatiya",
      "photoUrl": "https://lh3.googleusercontent.com/a-/AOh14GhnYhbpy4SpE-IWY1hbAvdK5Amz2GXyhYz8Us5uF6E=s64",
      "userId": "11284238611791898048"
     },
     "user_tz": -330
    },
    "id": "rxSJ3mz1Vaw_",
    "outputId": "d739374d-c526-4b15-8479-2f3d576d2dbe",
    "scrolled": true
   },
   "outputs": [],
   "source": [
    "plt.figure(figsize=(15,5))\n",
    "df_final['city'].value_counts().head().plot.barh()"
   ]
  },
  {
   "cell_type": "code",
   "execution_count": null,
   "metadata": {
    "scrolled": true
   },
   "outputs": [],
   "source": [
    "fig, axis1 = plt.subplots(1,1,figsize=(15,5))\n",
    "sns.countplot(x='phone_brand', hue=\"state\",order=df_final.phone_brand.value_counts().iloc[:10].index, data=df_final, ax=axis1)\n",
    "plt.title(\"Top 10 Phone Brand Distribution Across States\")"
   ]
  },
  {
   "cell_type": "code",
   "execution_count": null,
   "metadata": {
    "colab": {
     "base_uri": "https://localhost:8080/",
     "height": 851
    },
    "colab_type": "code",
    "executionInfo": {
     "elapsed": 1198,
     "status": "ok",
     "timestamp": 1584262495100,
     "user": {
      "displayName": "Pratik Barjatiya",
      "photoUrl": "https://lh3.googleusercontent.com/a-/AOh14GhnYhbpy4SpE-IWY1hbAvdK5Amz2GXyhYz8Us5uF6E=s64",
      "userId": "11284238611791898048"
     },
     "user_tz": -330
    },
    "id": "hy8O2q0FVaxF",
    "outputId": "780eb71a-7b9a-48a2-cf6a-94d2822eee3b",
    "scrolled": true
   },
   "outputs": [],
   "source": [
    "list_metro_cities = ['Calcutta', 'Bangalore', 'Ahmadabad', 'Surat']\n",
    "for i in list_metro_cities:\n",
    "    #print (i)\n",
    "    #print (df_final[df_final['city']==i]['device_model'].value_counts().head(10))\n",
    "    fig, axis1 = plt.subplots(1,1,figsize=(15,5))\n",
    "    sns.countplot(x='phone_brand' ,order=df_final.phone_brand.value_counts().iloc[:10].index, data=df_final[df_final['city']==i], ax=axis1)\n",
    "    plt.title(\"Top 10 Phone Brand Distribution Across \" + i)\n",
    "    "
   ]
  },
  {
   "cell_type": "code",
   "execution_count": null,
   "metadata": {
    "colab": {},
    "colab_type": "code",
    "id": "zilbr8dNVaxH"
   },
   "outputs": [],
   "source": [
    "metro_city_data = df_final[df_final.city.isin(list_metro_cities)]"
   ]
  },
  {
   "cell_type": "code",
   "execution_count": null,
   "metadata": {
    "colab": {
     "base_uri": "https://localhost:8080/",
     "height": 191
    },
    "colab_type": "code",
    "executionInfo": {
     "elapsed": 958,
     "status": "ok",
     "timestamp": 1584262505420,
     "user": {
      "displayName": "Pratik Barjatiya",
      "photoUrl": "https://lh3.googleusercontent.com/a-/AOh14GhnYhbpy4SpE-IWY1hbAvdK5Amz2GXyhYz8Us5uF6E=s64",
      "userId": "11284238611791898048"
     },
     "user_tz": -330
    },
    "id": "RrYCCjYpVaxK",
    "outputId": "e0b33086-d7e6-403d-99f4-af4b287af0fa"
   },
   "outputs": [],
   "source": [
    "metro_city_data.groupby(['gender','city'])['city'].count()\n"
   ]
  },
  {
   "cell_type": "code",
   "execution_count": null,
   "metadata": {},
   "outputs": [],
   "source": [
    "fig, axis1 = plt.subplots(1,1,figsize=(15,5))\n",
    "splot = sns.countplot(x='city', hue='gender', data=metro_city_data, ax=axis1)\n",
    "plt.title(\"Metro City Distribution\")\n",
    "for p in splot.patches:\n",
    "    splot.annotate(format(p.get_height(), '.2f'), (p.get_x() + p.get_width() / 2., p.get_height()), \\\n",
    "                   ha = 'center', va = 'center', xytext = (0, 10), textcoords = 'offset points')"
   ]
  },
  {
   "cell_type": "code",
   "execution_count": null,
   "metadata": {},
   "outputs": [],
   "source": [
    "facet = sns.FacetGrid(metro_city_data, hue=\"city\",aspect=4, hue_order=['Calcutta', 'Bangalore', 'Ahmadabad', 'Surat'])\n",
    "facet.map(sns.kdeplot,'age') \n",
    "facet.set(xlim=(0, metro_city_data['age'].max()))\n",
    "facet.add_legend()\n",
    "plt.title(\"Age distribution Across Metro city Data\")"
   ]
  },
  {
   "cell_type": "code",
   "execution_count": null,
   "metadata": {},
   "outputs": [],
   "source": [
    "non_metro_city_data = df_final[~df_final['city'].isin(list_metro_cities)]"
   ]
  },
  {
   "cell_type": "code",
   "execution_count": null,
   "metadata": {},
   "outputs": [],
   "source": [
    "non_metro_city_data['city'].value_counts().head(7)"
   ]
  },
  {
   "cell_type": "code",
   "execution_count": null,
   "metadata": {},
   "outputs": [],
   "source": [
    "facet = sns.FacetGrid(non_metro_city_data, hue=\"city\",aspect=4, hue_order=['Bagaha','Dinapur','Bankura','Ponnani','Channapatna'])\n",
    "facet.map(sns.kdeplot,'age') \n",
    "facet.set(xlim=(0, non_metro_city_data['age'].max()))\n",
    "facet.add_legend()\n",
    "plt.title(\"Age distribution Across Non Metro city Data\")"
   ]
  },
  {
   "cell_type": "code",
   "execution_count": null,
   "metadata": {
    "colab": {
     "base_uri": "https://localhost:8080/",
     "height": 69
    },
    "colab_type": "code",
    "executionInfo": {
     "elapsed": 885,
     "status": "ok",
     "timestamp": 1584262509609,
     "user": {
      "displayName": "Pratik Barjatiya",
      "photoUrl": "https://lh3.googleusercontent.com/a-/AOh14GhnYhbpy4SpE-IWY1hbAvdK5Amz2GXyhYz8Us5uF6E=s64",
      "userId": "11284238611791898048"
     },
     "user_tz": -330
    },
    "id": "IKmyZHg9VaxM",
    "outputId": "1b9efc20-2ea6-45c3-e6c1-b00a15a59799"
   },
   "outputs": [],
   "source": [
    "df_final.columns"
   ]
  },
  {
   "cell_type": "code",
   "execution_count": null,
   "metadata": {
    "colab": {
     "base_uri": "https://localhost:8080/",
     "height": 208
    },
    "colab_type": "code",
    "executionInfo": {
     "elapsed": 1091,
     "status": "ok",
     "timestamp": 1584262514956,
     "user": {
      "displayName": "Pratik Barjatiya",
      "photoUrl": "https://lh3.googleusercontent.com/a-/AOh14GhnYhbpy4SpE-IWY1hbAvdK5Amz2GXyhYz8Us5uF6E=s64",
      "userId": "11284238611791898048"
     },
     "user_tz": -330
    },
    "id": "DCus-gj1VaxQ",
    "outputId": "e3bfbca1-b887-431d-9278-8056f34d92dd"
   },
   "outputs": [],
   "source": [
    "x = df_final['phone_brand'].value_counts().head(10)\n",
    "x"
   ]
  },
  {
   "cell_type": "code",
   "execution_count": null,
   "metadata": {},
   "outputs": [],
   "source": [
    "fig, axis1 = plt.subplots(1,1,figsize=(15,5))\n",
    "x.plot(kind='barh')\n",
    "plt.show()"
   ]
  },
  {
   "cell_type": "code",
   "execution_count": null,
   "metadata": {},
   "outputs": [],
   "source": [
    "brand_count  = df_final['phone_brand'].value_counts()\n",
    "brand_count = brand_count[:10,]\n",
    "plt.figure(figsize=(15,5))\n",
    "sns.barplot(brand_count.index, brand_count.values, alpha=0.8)\n",
    "plt.title('Phone Brands - Top 10')\n",
    "plt.ylabel('Number of Occurrences', fontsize=12)\n",
    "plt.xlabel('Phone Brands', fontsize=12)\n",
    "plt.show()"
   ]
  },
  {
   "cell_type": "code",
   "execution_count": null,
   "metadata": {
    "colab": {
     "base_uri": "https://localhost:8080/",
     "height": 208
    },
    "colab_type": "code",
    "executionInfo": {
     "elapsed": 911,
     "status": "ok",
     "timestamp": 1584262519660,
     "user": {
      "displayName": "Pratik Barjatiya",
      "photoUrl": "https://lh3.googleusercontent.com/a-/AOh14GhnYhbpy4SpE-IWY1hbAvdK5Amz2GXyhYz8Us5uF6E=s64",
      "userId": "11284238611791898048"
     },
     "user_tz": -330
    },
    "id": "4ZCFCu8GVaxS",
    "outputId": "1a32abc5-f626-4b70-92ce-601517d597c2",
    "scrolled": true
   },
   "outputs": [],
   "source": [
    "df_final['group'].value_counts().head(10)"
   ]
  },
  {
   "cell_type": "code",
   "execution_count": null,
   "metadata": {},
   "outputs": [],
   "source": [
    "group_count  = df_final['group'].value_counts()\n",
    "group_count = group_count[:10,]\n",
    "plt.figure(figsize=(15,5))\n",
    "sns.barplot(group_count.index, group_count.values, alpha=0.8)\n",
    "plt.title('Distribution Across Age Groups')\n",
    "plt.ylabel('Number of Occurrences', fontsize=12)\n",
    "plt.xlabel('Age Groups', fontsize=12)\n",
    "plt.show()"
   ]
  },
  {
   "cell_type": "code",
   "execution_count": null,
   "metadata": {
    "colab": {},
    "colab_type": "code",
    "id": "4S1Slkc7Vawq"
   },
   "outputs": [],
   "source": [
    "plt.figure(figsize=(15,5))\n",
    "plt.hist('age', data=df_final[df_final['gender'] == 'M'], alpha=0.5, label='Male');\n",
    "plt.hist('age', data=df_final[df_final['gender'] == 'F'], alpha=0.5, label='Female');\n",
    "plt.title('Distribution of Age by Gender');\n",
    "plt.xlabel('Age Group');\n",
    "plt.legend();"
   ]
  },
  {
   "cell_type": "markdown",
   "metadata": {
    "colab_type": "text",
    "id": "mBsQRus8Vawt"
   },
   "source": [
    "<a id=section407></a>\n",
    "### 4.8 Hourly distribution of Phone Calls"
   ]
  },
  {
   "cell_type": "code",
   "execution_count": null,
   "metadata": {
    "colab": {
     "base_uri": "https://localhost:8080/",
     "height": 363
    },
    "colab_type": "code",
    "executionInfo": {
     "elapsed": 865,
     "status": "ok",
     "timestamp": 1584262523390,
     "user": {
      "displayName": "Pratik Barjatiya",
      "photoUrl": "https://lh3.googleusercontent.com/a-/AOh14GhnYhbpy4SpE-IWY1hbAvdK5Amz2GXyhYz8Us5uF6E=s64",
      "userId": "11284238611791898048"
     },
     "user_tz": -330
    },
    "id": "nJNBZBoTVaxU",
    "outputId": "cf23d2a8-a2c5-4bfc-c6ac-bb4a381a17d0",
    "scrolled": true
   },
   "outputs": [],
   "source": [
    "df_final.sample(10)"
   ]
  },
  {
   "cell_type": "code",
   "execution_count": null,
   "metadata": {
    "colab": {},
    "colab_type": "code",
    "id": "9saemiQ8VaxX"
   },
   "outputs": [],
   "source": [
    "df_final['timestamp'] = pd.to_datetime(df_final['timestamp'])"
   ]
  },
  {
   "cell_type": "code",
   "execution_count": null,
   "metadata": {
    "colab": {},
    "colab_type": "code",
    "id": "C0_qP7MLVaxa"
   },
   "outputs": [],
   "source": [
    "df_final['date'] = pd.to_datetime(df_final['timestamp']).dt.date\n",
    "df_final['time'] = pd.to_datetime(df_final['timestamp']).dt.time\n",
    "df_final['date'] = pd.to_datetime(df_final['date'])\n",
    "df_final['day'] = pd.to_datetime(df_final['timestamp']).dt.weekday_name\n",
    "df_final['month']= pd.to_datetime(df_final['timestamp']).dt.month"
   ]
  },
  {
   "cell_type": "code",
   "execution_count": null,
   "metadata": {
    "colab": {},
    "colab_type": "code",
    "id": "F9144_x9Vaxd"
   },
   "outputs": [],
   "source": [
    "def finding_time_range(val):\n",
    "    if(val >= time(8,0) and val < time(12,0)):\n",
    "        return '08 to 12'\n",
    "    elif(val >= time(12,0) and val < time(16,0)):\n",
    "        return '12 to 16'\n",
    "    elif(val >= time(16,0) and val < time(20,0)):\n",
    "        return '16 to 20'\n",
    "    elif(val >= time(20,0) and val < time(23,59)):\n",
    "        return '20 to 00'\n",
    "    elif(val >= time(0,0) and val < time(4,0)):\n",
    "        return '00 to 04'\n",
    "    elif(val >= time(4,0) and val < time(8,0)):\n",
    "        return '04 to 08'\n"
   ]
  },
  {
   "cell_type": "code",
   "execution_count": null,
   "metadata": {
    "colab": {
     "base_uri": "https://localhost:8080/",
     "height": 208
    },
    "colab_type": "code",
    "executionInfo": {
     "elapsed": 1115,
     "status": "ok",
     "timestamp": 1584262558785,
     "user": {
      "displayName": "Pratik Barjatiya",
      "photoUrl": "https://lh3.googleusercontent.com/a-/AOh14GhnYhbpy4SpE-IWY1hbAvdK5Amz2GXyhYz8Us5uF6E=s64",
      "userId": "11284238611791898048"
     },
     "user_tz": -330
    },
    "id": "WlocmLvCVaxg",
    "outputId": "673af04c-cc3e-4a71-ac42-9d35c354e9bb"
   },
   "outputs": [],
   "source": [
    "df_final['timestamp'].sample(10)"
   ]
  },
  {
   "cell_type": "code",
   "execution_count": null,
   "metadata": {
    "colab": {
     "base_uri": "https://localhost:8080/",
     "height": 143
    },
    "colab_type": "code",
    "executionInfo": {
     "elapsed": 904,
     "status": "ok",
     "timestamp": 1584262572637,
     "user": {
      "displayName": "Pratik Barjatiya",
      "photoUrl": "https://lh3.googleusercontent.com/a-/AOh14GhnYhbpy4SpE-IWY1hbAvdK5Amz2GXyhYz8Us5uF6E=s64",
      "userId": "11284238611791898048"
     },
     "user_tz": -330
    },
    "id": "1J6YCWhDVaxk",
    "outputId": "7e64f097-9311-49d4-dd14-c9d87185fe27"
   },
   "outputs": [],
   "source": [
    "df_final.head(3)"
   ]
  },
  {
   "cell_type": "code",
   "execution_count": null,
   "metadata": {
    "colab": {},
    "colab_type": "code",
    "id": "SRkrZxXVVaxn"
   },
   "outputs": [],
   "source": [
    "df_final['time_range'] = df_final['timestamp'].dt.hour"
   ]
  },
  {
   "cell_type": "code",
   "execution_count": null,
   "metadata": {
    "colab": {},
    "colab_type": "code",
    "id": "GiBLGxkyVawt",
    "scrolled": true
   },
   "outputs": [],
   "source": [
    "plt.figure(figsize=(15,5))\n",
    "g = sns.catplot(x=\"group\", y='time_range', kind=\"violin\", data=df_final)\n",
    "g.set_xticklabels(rotation=45)"
   ]
  },
  {
   "cell_type": "markdown",
   "metadata": {
    "colab_type": "text",
    "id": "4eXX0b5iVaww"
   },
   "source": [
    "<a id=section408></a>\n",
    "### 4.9 Users on the Map using any suitable package"
   ]
  },
  {
   "cell_type": "code",
   "execution_count": null,
   "metadata": {
    "colab": {},
    "colab_type": "code",
    "id": "ZXXTdhnCVaxx"
   },
   "outputs": [],
   "source": [
    "map2 = folium.Map(location=[22.356359, 79.395484], zoom_start=5)\n",
    "mc2 = MarkerCluster()\n",
    "state_list = ['WestBengal', 'Karnataka', 'Gujarat', 'Bihar', 'Punjab', 'Kerala']\n",
    "\n",
    "for state in state_list:\n",
    "    mapping_data = df_events_data[['latitude', 'longitude','city']][df_events_data['state']==state].drop_duplicates()\n",
    "    citylist = mapping_data['city'].tolist()\n",
    "        \n",
    "    locations = mapping_data[['latitude', 'longitude']]\n",
    "    locationlist = locations.values.tolist()\n",
    "    \n",
    "    for index, item in enumerate(locationlist):\n",
    "        mc2.add_child(folium.Marker(location=item, popup=citylist[index]))\n",
    "                             \n",
    "map2.add_child(mc2)\n",
    "map2.save(\"state_wise_map_plot2.html\")\n",
    "map2"
   ]
  },
  {
   "cell_type": "markdown",
   "metadata": {
    "colab_type": "text",
    "id": "pIT1XS52Vaxo"
   },
   "source": [
    "## Hourly distribution of phonecalls by age group for Male"
   ]
  },
  {
   "cell_type": "code",
   "execution_count": null,
   "metadata": {
    "colab": {
     "base_uri": "https://localhost:8080/",
     "height": 523
    },
    "colab_type": "code",
    "executionInfo": {
     "elapsed": 4251,
     "status": "ok",
     "timestamp": 1584262593061,
     "user": {
      "displayName": "Pratik Barjatiya",
      "photoUrl": "https://lh3.googleusercontent.com/a-/AOh14GhnYhbpy4SpE-IWY1hbAvdK5Amz2GXyhYz8Us5uF6E=s64",
      "userId": "11284238611791898048"
     },
     "user_tz": -330
    },
    "id": "_Bf_87_XVaxp",
    "outputId": "b9565990-6c84-4e13-9385-45db93212ed7",
    "scrolled": true
   },
   "outputs": [],
   "source": [
    "plt.figure(figsize=(15,5))\n",
    "sns.catplot(x=\"group\", y='time_range', kind=\"violin\", data=df_final[df_final['gender']=='M'])"
   ]
  },
  {
   "cell_type": "markdown",
   "metadata": {
    "colab_type": "text",
    "id": "7tbWxh5oVaxr"
   },
   "source": [
    "## Hourly distribution of phonecalls by age group for Female"
   ]
  },
  {
   "cell_type": "code",
   "execution_count": null,
   "metadata": {
    "colab": {
     "base_uri": "https://localhost:8080/",
     "height": 523
    },
    "colab_type": "code",
    "executionInfo": {
     "elapsed": 3048,
     "status": "ok",
     "timestamp": 1584262599443,
     "user": {
      "displayName": "Pratik Barjatiya",
      "photoUrl": "https://lh3.googleusercontent.com/a-/AOh14GhnYhbpy4SpE-IWY1hbAvdK5Amz2GXyhYz8Us5uF6E=s64",
      "userId": "11284238611791898048"
     },
     "user_tz": -330
    },
    "id": "saWOF6YjVaxs",
    "outputId": "5267be21-a0fa-4df1-f45d-50f422a1383c"
   },
   "outputs": [],
   "source": [
    "plt.figure(figsize=(15,5))\n",
    "sns.catplot(x=\"group\", y='time_range', kind=\"violin\", data=df_final[df_final['gender']=='F'])"
   ]
  },
  {
   "cell_type": "code",
   "execution_count": null,
   "metadata": {
    "scrolled": true
   },
   "outputs": [],
   "source": [
    "fig, axes = plt.subplots(3, 1, figsize=(11, 10), sharex=True)\n",
    "for name, ax in zip([\"age\", \"latitude\", \"longitude\"], axes):\n",
    "    sns.boxplot(data=df_final, x='month', y=name, ax=ax)\n",
    "    ax.set_ylabel('# Events')\n",
    "    ax.set_title(name)\n",
    "    # Remove the automatic x-axis label from all but the bottom subplot\n",
    "    if ax != axes[-1]:\n",
    "        ax.set_xlabel('')"
   ]
  },
  {
   "cell_type": "code",
   "execution_count": null,
   "metadata": {},
   "outputs": [],
   "source": [
    "plt.figure(figsize=(15,5))\n",
    "sns.boxplot(data=df_final, x='day', y='event_id');"
   ]
  },
  {
   "cell_type": "code",
   "execution_count": null,
   "metadata": {
    "scrolled": true
   },
   "outputs": [],
   "source": [
    "plt.figure(figsize=(15,5))\n",
    "sns.boxplot(data=df_final, x='day', y='age');\n",
    "plt.title(\"Age Distribution\")"
   ]
  },
  {
   "cell_type": "code",
   "execution_count": null,
   "metadata": {},
   "outputs": [],
   "source": [
    "plt.figure(figsize=(15,5))\n",
    "sns.countplot(data=df_final, x='age',hue='day', order=df_final.age.value_counts().iloc[:10].index )\n",
    "plt.ylabel('# Event Count')"
   ]
  },
  {
   "cell_type": "markdown",
   "metadata": {
    "colab_type": "text",
    "id": "Lcm4tVZiVaxu"
   },
   "source": [
    "## Statewise distribution of calls"
   ]
  },
  {
   "cell_type": "code",
   "execution_count": null,
   "metadata": {
    "colab": {
     "base_uri": "https://localhost:8080/",
     "height": 524
    },
    "colab_type": "code",
    "executionInfo": {
     "elapsed": 5489,
     "status": "ok",
     "timestamp": 1584262609050,
     "user": {
      "displayName": "Pratik Barjatiya",
      "photoUrl": "https://lh3.googleusercontent.com/a-/AOh14GhnYhbpy4SpE-IWY1hbAvdK5Amz2GXyhYz8Us5uF6E=s64",
      "userId": "11284238611791898048"
     },
     "user_tz": -330
    },
    "id": "0kXmxOQ0Vaxv",
    "outputId": "4490ca82-da3c-485b-fc0d-cd1fa9ca099a"
   },
   "outputs": [],
   "source": [
    "plt.figure(figsize=(15,5))\n",
    "sns.catplot(x=\"state\", y='time_range', kind=\"violin\", data=df_final)"
   ]
  },
  {
   "cell_type": "code",
   "execution_count": null,
   "metadata": {
    "colab": {
     "base_uri": "https://localhost:8080/",
     "height": 584
    },
    "colab_type": "code",
    "executionInfo": {
     "elapsed": 9177,
     "status": "ok",
     "timestamp": 1584262689516,
     "user": {
      "displayName": "Pratik Barjatiya",
      "photoUrl": "https://lh3.googleusercontent.com/a-/AOh14GhnYhbpy4SpE-IWY1hbAvdK5Amz2GXyhYz8Us5uF6E=s64",
      "userId": "11284238611791898048"
     },
     "user_tz": -330
    },
    "id": "8oMhS-_XVaxz",
    "outputId": "1d8a795e-62a6-40ce-ce12-9f351845dacc"
   },
   "outputs": [],
   "source": [
    "plt.figure(figsize=(15,5))\n",
    "df_final[df_final['state']=='Karnataka']['city'].value_counts().head().plot.bar()"
   ]
  },
  {
   "cell_type": "code",
   "execution_count": null,
   "metadata": {
    "colab": {
     "base_uri": "https://localhost:8080/",
     "height": 550
    },
    "colab_type": "code",
    "executionInfo": {
     "elapsed": 9151,
     "status": "ok",
     "timestamp": 1584262689518,
     "user": {
      "displayName": "Pratik Barjatiya",
      "photoUrl": "https://lh3.googleusercontent.com/a-/AOh14GhnYhbpy4SpE-IWY1hbAvdK5Amz2GXyhYz8Us5uF6E=s64",
      "userId": "11284238611791898048"
     },
     "user_tz": -330
    },
    "id": "Y3yJNZWWVax1",
    "outputId": "f94b0a7e-4c53-45f5-8374-aaa3427053ee"
   },
   "outputs": [],
   "source": [
    "plt.figure(figsize=(15,5))\n",
    "df_final[df_final['state']=='Karnataka']['phone_brand'].value_counts().head().plot.bar()"
   ]
  },
  {
   "cell_type": "code",
   "execution_count": null,
   "metadata": {
    "colab": {
     "base_uri": "https://localhost:8080/",
     "height": 578
    },
    "colab_type": "code",
    "executionInfo": {
     "elapsed": 9129,
     "status": "ok",
     "timestamp": 1584262689520,
     "user": {
      "displayName": "Pratik Barjatiya",
      "photoUrl": "https://lh3.googleusercontent.com/a-/AOh14GhnYhbpy4SpE-IWY1hbAvdK5Amz2GXyhYz8Us5uF6E=s64",
      "userId": "11284238611791898048"
     },
     "user_tz": -330
    },
    "id": "HONpflnKVayG",
    "outputId": "1fec0059-53b8-49c6-93bd-d5c2d20a7d23"
   },
   "outputs": [],
   "source": [
    "plt.figure(figsize=(15,5))\n",
    "df_final[df_final['state']=='WestBengal']['city'].value_counts().head().plot.bar()"
   ]
  },
  {
   "cell_type": "code",
   "execution_count": null,
   "metadata": {
    "colab": {
     "base_uri": "https://localhost:8080/",
     "height": 549
    },
    "colab_type": "code",
    "executionInfo": {
     "elapsed": 9108,
     "status": "ok",
     "timestamp": 1584262689522,
     "user": {
      "displayName": "Pratik Barjatiya",
      "photoUrl": "https://lh3.googleusercontent.com/a-/AOh14GhnYhbpy4SpE-IWY1hbAvdK5Amz2GXyhYz8Us5uF6E=s64",
      "userId": "11284238611791898048"
     },
     "user_tz": -330
    },
    "id": "tWibzICIVayI",
    "outputId": "c6839739-ff77-400f-804d-5d2beed6cd4b"
   },
   "outputs": [],
   "source": [
    "plt.figure(figsize=(15,5))\n",
    "df_final[df_final['state']=='Bihar']['city'].value_counts().head().plot.bar()"
   ]
  },
  {
   "cell_type": "code",
   "execution_count": null,
   "metadata": {
    "colab": {
     "base_uri": "https://localhost:8080/",
     "height": 539
    },
    "colab_type": "code",
    "executionInfo": {
     "elapsed": 8037,
     "status": "ok",
     "timestamp": 1584262689525,
     "user": {
      "displayName": "Pratik Barjatiya",
      "photoUrl": "https://lh3.googleusercontent.com/a-/AOh14GhnYhbpy4SpE-IWY1hbAvdK5Amz2GXyhYz8Us5uF6E=s64",
      "userId": "11284238611791898048"
     },
     "user_tz": -330
    },
    "id": "4vTwoQyFVayL",
    "outputId": "41505627-6622-4fe0-ebd2-c0caf19b2dc7"
   },
   "outputs": [],
   "source": [
    "plt.figure(figsize=(15,5))\n",
    "df_final[df_final['state']=='Gujarat']['city'].value_counts().head().plot.bar()"
   ]
  },
  {
   "cell_type": "code",
   "execution_count": null,
   "metadata": {
    "colab": {
     "base_uri": "https://localhost:8080/",
     "height": 578
    },
    "colab_type": "code",
    "executionInfo": {
     "elapsed": 943,
     "status": "ok",
     "timestamp": 1584262719291,
     "user": {
      "displayName": "Pratik Barjatiya",
      "photoUrl": "https://lh3.googleusercontent.com/a-/AOh14GhnYhbpy4SpE-IWY1hbAvdK5Amz2GXyhYz8Us5uF6E=s64",
      "userId": "11284238611791898048"
     },
     "user_tz": -330
    },
    "id": "bG0h_z0sVayN",
    "outputId": "d733afde-14eb-42e8-80df-2afb583fa23b"
   },
   "outputs": [],
   "source": [
    "plt.figure(figsize=(15,5))\n",
    "df_final[df_final['state']=='WestBengal']['city'].value_counts().head().plot.bar()"
   ]
  },
  {
   "cell_type": "code",
   "execution_count": null,
   "metadata": {
    "colab": {
     "base_uri": "https://localhost:8080/",
     "height": 1000
    },
    "colab_type": "code",
    "executionInfo": {
     "elapsed": 1210,
     "status": "ok",
     "timestamp": 1584262738940,
     "user": {
      "displayName": "Pratik Barjatiya",
      "photoUrl": "https://lh3.googleusercontent.com/a-/AOh14GhnYhbpy4SpE-IWY1hbAvdK5Amz2GXyhYz8Us5uF6E=s64",
      "userId": "11284238611791898048"
     },
     "user_tz": -330
    },
    "id": "SZrXFVcwVayP",
    "outputId": "807b6d48-c078-4bd3-9a24-d58d7eb80853"
   },
   "outputs": [],
   "source": [
    "city = ['Calcutta','Bankura','Krishnanagar','Gangarampur','Binnaguri','Bangalore','Channapatna','Ramanagaram','Ullal','Karwar','Dinapur','Madhipura','Purnia','Masaurhi','Bihar','Jetpur','Veraval','Unjha','Surat','Gondal','Ponnani','Malappuram','Kollam','Thiruvananthapuram','Tiruvalla','Patiala','Bathinda','Kapurthala','KotKapura','Sunam']\n",
    "for i in city:\n",
    "    #print (i)\n",
    "    #print (df_final[df_final['city']==i]['device_model'].value_counts().head(10))\n",
    "    fig, axis1 = plt.subplots(1,1,figsize=(15,5))\n",
    "    sns.countplot(x='device_model' ,order=df_final.device_model.value_counts().iloc[:10].index, data=df_final[df_final['city']==i], ax=axis1)\n",
    "    plt.title(\"Top 10 Device Model Distribution Across \" + i)\n",
    "    "
   ]
  },
  {
   "cell_type": "code",
   "execution_count": null,
   "metadata": {
    "colab": {
     "base_uri": "https://localhost:8080/",
     "height": 1000
    },
    "colab_type": "code",
    "executionInfo": {
     "elapsed": 1384,
     "status": "ok",
     "timestamp": 1584262747782,
     "user": {
      "displayName": "Pratik Barjatiya",
      "photoUrl": "https://lh3.googleusercontent.com/a-/AOh14GhnYhbpy4SpE-IWY1hbAvdK5Amz2GXyhYz8Us5uF6E=s64",
      "userId": "11284238611791898048"
     },
     "user_tz": -330
    },
    "id": "ZOqpKfrhVayR",
    "outputId": "7d62d6b0-a651-4938-8c80-18abaad5f1a8"
   },
   "outputs": [],
   "source": [
    "city = ['Calcutta','Bankura','Krishnanagar','Gangarampur','Binnaguri','Bangalore','Channapatna','Ramanagaram','Ullal','Karwar','Dinapur','Madhipura','Purnia','Masaurhi','Bihar','Jetpur','Veraval','Unjha','Surat','Gondal','Ponnani','Malappuram','Kollam','Thiruvananthapuram','Tiruvalla','Patiala','Bathinda','Kapurthala','KotKapura','Sunam']\n",
    "for i in city:\n",
    "    fig, axis1 = plt.subplots(1,1,figsize=(15,5))\n",
    "    sns.countplot(x='phone_brand' ,order=df_final.phone_brand.value_counts().iloc[:10].index, data=df_final[df_final['city']==i], ax=axis1)\n",
    "    plt.title(\"Top 10 Phone Brand Distribution Across \" + i)\n",
    "    #print (i)\n",
    "    #print (df_final[df_final['city']==i]['phone_brand'].value_counts().head(10))"
   ]
  },
  {
   "cell_type": "code",
   "execution_count": null,
   "metadata": {
    "colab": {
     "base_uri": "https://localhost:8080/",
     "height": 559
    },
    "colab_type": "code",
    "executionInfo": {
     "elapsed": 1380,
     "status": "ok",
     "timestamp": 1584262755346,
     "user": {
      "displayName": "Pratik Barjatiya",
      "photoUrl": "https://lh3.googleusercontent.com/a-/AOh14GhnYhbpy4SpE-IWY1hbAvdK5Amz2GXyhYz8Us5uF6E=s64",
      "userId": "11284238611791898048"
     },
     "user_tz": -330
    },
    "id": "F82UYS8bVayT",
    "outputId": "e48a572f-0603-4afd-c489-22eb9bfcb9a1"
   },
   "outputs": [],
   "source": [
    "plt.figure(figsize=(15,5))\n",
    "df_final[df_final['state']=='Punjab']['city'].value_counts().head().plot.bar()"
   ]
  },
  {
   "cell_type": "code",
   "execution_count": null,
   "metadata": {
    "colab": {
     "base_uri": "https://localhost:8080/",
     "height": 121
    },
    "colab_type": "code",
    "executionInfo": {
     "elapsed": 1069,
     "status": "ok",
     "timestamp": 1584262760331,
     "user": {
      "displayName": "Pratik Barjatiya",
      "photoUrl": "https://lh3.googleusercontent.com/a-/AOh14GhnYhbpy4SpE-IWY1hbAvdK5Amz2GXyhYz8Us5uF6E=s64",
      "userId": "11284238611791898048"
     },
     "user_tz": -330
    },
    "id": "5ehqpYkzVayV",
    "outputId": "3054db98-d14b-410d-d90f-2b8be36511fa"
   },
   "outputs": [],
   "source": [
    "df_final[df_final['state']=='Bihar']['city'].value_counts().head()"
   ]
  },
  {
   "cell_type": "code",
   "execution_count": null,
   "metadata": {
    "colab": {
     "base_uri": "https://localhost:8080/",
     "height": 52
    },
    "colab_type": "code",
    "executionInfo": {
     "elapsed": 903,
     "status": "ok",
     "timestamp": 1584262764160,
     "user": {
      "displayName": "Pratik Barjatiya",
      "photoUrl": "https://lh3.googleusercontent.com/a-/AOh14GhnYhbpy4SpE-IWY1hbAvdK5Amz2GXyhYz8Us5uF6E=s64",
      "userId": "11284238611791898048"
     },
     "user_tz": -330
    },
    "id": "RMiU_9fzVayW",
    "outputId": "42fe3603-ba5b-4894-91c5-13122ffed2d6"
   },
   "outputs": [],
   "source": [
    "df_final['group'].unique()"
   ]
  },
  {
   "cell_type": "markdown",
   "metadata": {
    "colab_type": "text",
    "id": "_FTzybcTVayZ"
   },
   "source": [
    "### Popular phone brands among all age groups"
   ]
  },
  {
   "cell_type": "code",
   "execution_count": null,
   "metadata": {
    "colab": {
     "base_uri": "https://localhost:8080/",
     "height": 1000
    },
    "colab_type": "code",
    "executionInfo": {
     "elapsed": 999,
     "status": "ok",
     "timestamp": 1584262775642,
     "user": {
      "displayName": "Pratik Barjatiya",
      "photoUrl": "https://lh3.googleusercontent.com/a-/AOh14GhnYhbpy4SpE-IWY1hbAvdK5Amz2GXyhYz8Us5uF6E=s64",
      "userId": "11284238611791898048"
     },
     "user_tz": -330
    },
    "id": "idL2aXgrVayZ",
    "outputId": "feb9eadb-f4c1-4242-c5fc-1190b82fb8e1"
   },
   "outputs": [],
   "source": [
    "for i in df_final['group'].unique():\n",
    "    #print ('-----------',i,'-----------')\n",
    "    #print (df_final[df_final['group']==i]['phone_brand'].value_counts().head(10))\n",
    "    fig, axis1 = plt.subplots(1,1,figsize=(15,5))\n",
    "    sns.countplot(x='phone_brand' ,order=df_final.phone_brand.value_counts().iloc[:10].index, data=df_final[df_final['group']==i], ax=axis1)\n",
    "    plt.title(\"Top 10 Phone Brand Distribution Across \" + i)"
   ]
  },
  {
   "cell_type": "markdown",
   "metadata": {
    "colab_type": "text",
    "id": "lCmA647WVayb"
   },
   "source": [
    "### Popular device among all age group"
   ]
  },
  {
   "cell_type": "code",
   "execution_count": null,
   "metadata": {
    "colab": {
     "base_uri": "https://localhost:8080/",
     "height": 1000
    },
    "colab_type": "code",
    "executionInfo": {
     "elapsed": 1187,
     "status": "ok",
     "timestamp": 1584262790656,
     "user": {
      "displayName": "Pratik Barjatiya",
      "photoUrl": "https://lh3.googleusercontent.com/a-/AOh14GhnYhbpy4SpE-IWY1hbAvdK5Amz2GXyhYz8Us5uF6E=s64",
      "userId": "11284238611791898048"
     },
     "user_tz": -330
    },
    "id": "aalDqAj8Vayc",
    "outputId": "388d2be3-6d5d-45e3-c672-8ff802a4a5c0"
   },
   "outputs": [],
   "source": [
    "for i in df_final['group'].unique():\n",
    "    #print ('-----------',i,'-----------')\n",
    "    #print (df_final[df_final['group']==i]['device_model'].value_counts().head(10))\n",
    "    fig, axis1 = plt.subplots(1,1,figsize=(15,5))\n",
    "    sns.countplot(x='device_model' ,order=df_final.device_model.value_counts().iloc[:10].index, data=df_final[df_final['group']==i], ax=axis1)\n",
    "    plt.title(\"Top 10 Device Model Distribution Across \" + i)\n",
    "    "
   ]
  },
  {
   "cell_type": "code",
   "execution_count": null,
   "metadata": {
    "colab": {
     "base_uri": "https://localhost:8080/",
     "height": 156
    },
    "colab_type": "code",
    "executionInfo": {
     "elapsed": 874,
     "status": "ok",
     "timestamp": 1584262801753,
     "user": {
      "displayName": "Pratik Barjatiya",
      "photoUrl": "https://lh3.googleusercontent.com/a-/AOh14GhnYhbpy4SpE-IWY1hbAvdK5Amz2GXyhYz8Us5uF6E=s64",
      "userId": "11284238611791898048"
     },
     "user_tz": -330
    },
    "id": "X8ZMt4roVayf",
    "outputId": "9be90379-6f91-4112-b1c7-e3b12420f2e2"
   },
   "outputs": [],
   "source": [
    "states_list = df_events_data['city'].groupby(df_events_data['state']).count()\n",
    "states_list"
   ]
  },
  {
   "cell_type": "code",
   "execution_count": null,
   "metadata": {
    "colab": {
     "base_uri": "https://localhost:8080/",
     "height": 455
    },
    "colab_type": "code",
    "executionInfo": {
     "elapsed": 942,
     "status": "ok",
     "timestamp": 1584262809639,
     "user": {
      "displayName": "Pratik Barjatiya",
      "photoUrl": "https://lh3.googleusercontent.com/a-/AOh14GhnYhbpy4SpE-IWY1hbAvdK5Amz2GXyhYz8Us5uF6E=s64",
      "userId": "11284238611791898048"
     },
     "user_tz": -330
    },
    "id": "2RiOoQoiVayi",
    "outputId": "0837323b-9b4d-4977-c25e-d12ce9c191e8"
   },
   "outputs": [],
   "source": [
    "pd.crosstab(df_events_data['city'],df_events_data['state'],margins=True).sort_values('All',ascending=False)"
   ]
  },
  {
   "cell_type": "code",
   "execution_count": null,
   "metadata": {
    "colab": {
     "base_uri": "https://localhost:8080/",
     "height": 394
    },
    "colab_type": "code",
    "executionInfo": {
     "elapsed": 865,
     "status": "ok",
     "timestamp": 1584262813321,
     "user": {
      "displayName": "Pratik Barjatiya",
      "photoUrl": "https://lh3.googleusercontent.com/a-/AOh14GhnYhbpy4SpE-IWY1hbAvdK5Amz2GXyhYz8Us5uF6E=s64",
      "userId": "11284238611791898048"
     },
     "user_tz": -330
    },
    "id": "7_6Q6yEnVayj",
    "outputId": "239b57ad-45d1-4895-ad41-f51a28f3de5e"
   },
   "outputs": [],
   "source": [
    "pd.crosstab(df_events_data['city'],df_events_data['state'][df_events_data['state'] == 'Karnataka'],margins=True)\\\n",
    ".sort_values('All',ascending=False).head(10)"
   ]
  },
  {
   "cell_type": "code",
   "execution_count": null,
   "metadata": {
    "colab": {
     "base_uri": "https://localhost:8080/",
     "height": 394
    },
    "colab_type": "code",
    "executionInfo": {
     "elapsed": 1120,
     "status": "ok",
     "timestamp": 1584262817479,
     "user": {
      "displayName": "Pratik Barjatiya",
      "photoUrl": "https://lh3.googleusercontent.com/a-/AOh14GhnYhbpy4SpE-IWY1hbAvdK5Amz2GXyhYz8Us5uF6E=s64",
      "userId": "11284238611791898048"
     },
     "user_tz": -330
    },
    "id": "fXRbekZ-Vayl",
    "outputId": "94a4ffe2-71a9-458e-edc9-9fa108be36a3"
   },
   "outputs": [],
   "source": [
    "pd.crosstab(df_events_data['city'],df_events_data['state'][df_events_data['state'] == 'WestBengal'],margins=True)\\\n",
    ".sort_values('All',ascending=False).head(10)"
   ]
  },
  {
   "cell_type": "code",
   "execution_count": null,
   "metadata": {
    "colab": {
     "base_uri": "https://localhost:8080/",
     "height": 394
    },
    "colab_type": "code",
    "executionInfo": {
     "elapsed": 890,
     "status": "ok",
     "timestamp": 1584262819889,
     "user": {
      "displayName": "Pratik Barjatiya",
      "photoUrl": "https://lh3.googleusercontent.com/a-/AOh14GhnYhbpy4SpE-IWY1hbAvdK5Amz2GXyhYz8Us5uF6E=s64",
      "userId": "11284238611791898048"
     },
     "user_tz": -330
    },
    "id": "2BsvCr4bVayo",
    "outputId": "8dde3b81-34fd-457d-ef26-2e3defcd1dad"
   },
   "outputs": [],
   "source": [
    "pd.crosstab(df_events_data['city'],df_events_data['state'][df_events_data['state'] == 'Gujarat'],margins=True)\\\n",
    ".sort_values('All',ascending=False).head(10)"
   ]
  },
  {
   "cell_type": "code",
   "execution_count": null,
   "metadata": {
    "colab": {
     "base_uri": "https://localhost:8080/",
     "height": 394
    },
    "colab_type": "code",
    "executionInfo": {
     "elapsed": 872,
     "status": "ok",
     "timestamp": 1584262824905,
     "user": {
      "displayName": "Pratik Barjatiya",
      "photoUrl": "https://lh3.googleusercontent.com/a-/AOh14GhnYhbpy4SpE-IWY1hbAvdK5Amz2GXyhYz8Us5uF6E=s64",
      "userId": "11284238611791898048"
     },
     "user_tz": -330
    },
    "id": "ODD7LUn2Vayq",
    "outputId": "4e329347-21d9-4e3a-a50e-2b63854c65d7"
   },
   "outputs": [],
   "source": [
    "pd.crosstab(df_events_data['city'],df_events_data['state'][df_events_data['state'] == 'Bihar'],margins=True)\\\n",
    ".sort_values('All',ascending=False).head(10)"
   ]
  },
  {
   "cell_type": "code",
   "execution_count": null,
   "metadata": {
    "colab": {
     "base_uri": "https://localhost:8080/",
     "height": 394
    },
    "colab_type": "code",
    "executionInfo": {
     "elapsed": 1087,
     "status": "ok",
     "timestamp": 1584262828427,
     "user": {
      "displayName": "Pratik Barjatiya",
      "photoUrl": "https://lh3.googleusercontent.com/a-/AOh14GhnYhbpy4SpE-IWY1hbAvdK5Amz2GXyhYz8Us5uF6E=s64",
      "userId": "11284238611791898048"
     },
     "user_tz": -330
    },
    "id": "M4-obNZrVays",
    "outputId": "c2eeaebe-9c47-4edf-cbff-8317e768b29b"
   },
   "outputs": [],
   "source": [
    "pd.crosstab(df_events_data['city'],df_events_data['state'][df_events_data['state'] == 'Punjab'],margins=True)\\\n",
    ".sort_values('All',ascending=False).head(10)"
   ]
  },
  {
   "cell_type": "code",
   "execution_count": null,
   "metadata": {
    "colab": {
     "base_uri": "https://localhost:8080/",
     "height": 394
    },
    "colab_type": "code",
    "executionInfo": {
     "elapsed": 931,
     "status": "ok",
     "timestamp": 1584262831004,
     "user": {
      "displayName": "Pratik Barjatiya",
      "photoUrl": "https://lh3.googleusercontent.com/a-/AOh14GhnYhbpy4SpE-IWY1hbAvdK5Amz2GXyhYz8Us5uF6E=s64",
      "userId": "11284238611791898048"
     },
     "user_tz": -330
    },
    "id": "AQuWP2ZAVayu",
    "outputId": "ca3979cd-2c79-4b11-a5b1-f807a52cd727"
   },
   "outputs": [],
   "source": [
    "pd.crosstab(df_events_data['city'],df_events_data['state'][df_events_data['state'] == 'Kerala'],margins=True)\\\n",
    ".sort_values('All',ascending=False).head(10)"
   ]
  },
  {
   "cell_type": "code",
   "execution_count": null,
   "metadata": {
    "colab": {
     "base_uri": "https://localhost:8080/",
     "height": 143
    },
    "colab_type": "code",
    "executionInfo": {
     "elapsed": 1156,
     "status": "ok",
     "timestamp": 1584262833689,
     "user": {
      "displayName": "Pratik Barjatiya",
      "photoUrl": "https://lh3.googleusercontent.com/a-/AOh14GhnYhbpy4SpE-IWY1hbAvdK5Amz2GXyhYz8Us5uF6E=s64",
      "userId": "11284238611791898048"
     },
     "user_tz": -330
    },
    "id": "dmwLeMx0Vayw",
    "outputId": "045176e8-f747-442f-98d7-128f4b4fb448"
   },
   "outputs": [],
   "source": [
    "pd.crosstab(df_gender_age_train['gender'],df_gender_age_train['group'])"
   ]
  },
  {
   "cell_type": "code",
   "execution_count": null,
   "metadata": {
    "colab": {
     "base_uri": "https://localhost:8080/",
     "height": 455
    },
    "colab_type": "code",
    "executionInfo": {
     "elapsed": 909,
     "status": "ok",
     "timestamp": 1584262835858,
     "user": {
      "displayName": "Pratik Barjatiya",
      "photoUrl": "https://lh3.googleusercontent.com/a-/AOh14GhnYhbpy4SpE-IWY1hbAvdK5Amz2GXyhYz8Us5uF6E=s64",
      "userId": "11284238611791898048"
     },
     "user_tz": -330
    },
    "id": "7Ko6QOxeVayy",
    "outputId": "94cde44e-1c17-40b8-cd34-998d08b11c67"
   },
   "outputs": [],
   "source": [
    "pd.crosstab(df_gender_age_train['age'],df_gender_age_train['gender'],margins=True).sort_values('All',ascending=False).head(10)"
   ]
  },
  {
   "cell_type": "code",
   "execution_count": null,
   "metadata": {
    "colab": {
     "base_uri": "https://localhost:8080/",
     "height": 545
    },
    "colab_type": "code",
    "executionInfo": {
     "elapsed": 924,
     "status": "ok",
     "timestamp": 1584262839147,
     "user": {
      "displayName": "Pratik Barjatiya",
      "photoUrl": "https://lh3.googleusercontent.com/a-/AOh14GhnYhbpy4SpE-IWY1hbAvdK5Amz2GXyhYz8Us5uF6E=s64",
      "userId": "11284238611791898048"
     },
     "user_tz": -330
    },
    "id": "bvKhcxa4Vayz",
    "outputId": "f5d53fa3-f99b-4f65-cc74-418225083d30"
   },
   "outputs": [],
   "source": [
    "pd.crosstab(df_phone_brand_device_model['device_model'],df_phone_brand_device_model['phone_brand'],margins=True).sort_values('All',ascending=False).head(10)"
   ]
  },
  {
   "cell_type": "code",
   "execution_count": null,
   "metadata": {
    "colab": {
     "base_uri": "https://localhost:8080/",
     "height": 225
    },
    "colab_type": "code",
    "executionInfo": {
     "elapsed": 916,
     "status": "ok",
     "timestamp": 1584262842653,
     "user": {
      "displayName": "Pratik Barjatiya",
      "photoUrl": "https://lh3.googleusercontent.com/a-/AOh14GhnYhbpy4SpE-IWY1hbAvdK5Amz2GXyhYz8Us5uF6E=s64",
      "userId": "11284238611791898048"
     },
     "user_tz": -330
    },
    "id": "gI0rktx9Vay2",
    "outputId": "f5b1e459-b691-42ba-f5bd-e26ce98f9a85"
   },
   "outputs": [],
   "source": [
    "df_phone_brand_device_model['device_model'].groupby(df_phone_brand_device_model['phone_brand']).count().sort_values(ascending=False).head(10)"
   ]
  },
  {
   "cell_type": "code",
   "execution_count": null,
   "metadata": {
    "colab": {
     "base_uri": "https://localhost:8080/",
     "height": 225
    },
    "colab_type": "code",
    "executionInfo": {
     "elapsed": 886,
     "status": "ok",
     "timestamp": 1584262845442,
     "user": {
      "displayName": "Pratik Barjatiya",
      "photoUrl": "https://lh3.googleusercontent.com/a-/AOh14GhnYhbpy4SpE-IWY1hbAvdK5Amz2GXyhYz8Us5uF6E=s64",
      "userId": "11284238611791898048"
     },
     "user_tz": -330
    },
    "id": "I99CZeCGVay4",
    "outputId": "4d694c66-afbb-49fa-f8c8-a75cbf4e16f2",
    "scrolled": false
   },
   "outputs": [],
   "source": [
    "df_phone_brand_device_model['phone_brand'].groupby(df_phone_brand_device_model['device_model']).count().sort_values(ascending=False).head(10)"
   ]
  },
  {
   "cell_type": "markdown",
   "metadata": {},
   "source": [
    "<a id=section5></a>\n",
    "## 5. Conclusion"
   ]
  },
  {
   "cell_type": "markdown",
   "metadata": {},
   "source": [
    "**Brief summary of we discovered based on results**\n",
    "\n",
    "- Insaid Telecom needs to perform few promotional activities for being strong competitor in the market:\n",
    "        - Special Plan for different age band\n",
    "        - Special Plan along with tie-up with top running Mobile Brand in the specific market\n",
    "        - Re-visit their existing plan for Tier-1 city and rest small city\n",
    "        \n",
    "- Insaid Telecom has strong market place with 50 millions active devices on daily basis. Insaid telecom has High potential to engage more customers by giving promotions."
   ]
  },
  {
   "cell_type": "markdown",
   "metadata": {},
   "source": [
    "<a id=section6></a>\n",
    "## 6. Core Team"
   ]
  },
  {
   "attachments": {
    "image.png": {
     "image/png": "[encoded data removed]"
    }
   },
   "cell_type": "markdown",
   "metadata": {},
   "source": [
    "![image.png](attachment:image.png)"
   ]
  },
  {
   "cell_type": "markdown",
   "metadata": {},
   "source": [
    "| Name | Email |\n",
    "| --- | --- |\n",
    "| Amit | amit.kr.dhanuka@gmail.com |\n",
    "| Amber | amberjain.iet@gmail.com |\n",
    "| Jigna | jignazt@yahoo.com |\n",
    "| Joyeta | joyeta.instru@gmail.com |\n",
    "| Mrinmoy | mrinmoydey.dey@gmail.com |\n",
    "| Pratik | pratikbarjatya@gmail.com |\n",
    "| Shineesh | Shineesh@gmail.com |\n",
    "| Sohomjit | sunny.sohomjit13@gmail.com |\n",
    "| Yamini | yaminijoshi1989@gmail.com |"
   ]
  },
  {
   "cell_type": "markdown",
   "metadata": {},
   "source": [
    "\n",
    "## THANK YOU !"
   ]
  }
 ],
 "metadata": {
  "colab": {
   "name": "Draft_CAPSTONE1-INSAID Telcomm (2).ipynb",
   "provenance": []
  },
  "kernelspec": {
   "display_name": "Python 3",
   "language": "python",
   "name": "python3"
  },
  "language_info": {
   "codemirror_mode": {
    "name": "ipython",
    "version": 3
   },
   "file_extension": ".py",
   "mimetype": "text/x-python",
   "name": "python",
   "nbconvert_exporter": "python",
   "pygments_lexer": "ipython3",
   "version": "3.8.8"
  }
 },
 "nbformat": 4,
 "nbformat_minor": 1
}
